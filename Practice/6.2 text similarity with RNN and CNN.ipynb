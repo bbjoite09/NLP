{
  "nbformat": 4,
  "nbformat_minor": 0,
  "metadata": {
    "colab": {
      "name": "06-01-text-similarity-과제.ipynb",
      "provenance": [],
      "collapsed_sections": [
        "g78tzmjN3mzF",
        "6dfJPT-2XMTB",
        "JHkHg6XAXoyK",
        "XwriCkq_R1Lc",
        "3myBX8hNEH1u",
        "zSaoCf37q3aC",
        "arOON7lCq3aC",
        "wMPwmL79q3aG",
        "jTN2yeNEq3aI"
      ]
    },
    "kernelspec": {
      "name": "python3",
      "display_name": "Python 3"
    },
    "accelerator": "GPU",
    "widgets": {
      "application/vnd.jupyter.widget-state+json": {
        "a93a2c34c9744e4dadb9c24bbe46c095": {
          "model_module": "@jupyter-widgets/controls",
          "model_name": "HBoxModel",
          "state": {
            "_view_name": "HBoxView",
            "_dom_classes": [],
            "_model_name": "HBoxModel",
            "_view_module": "@jupyter-widgets/controls",
            "_model_module_version": "1.5.0",
            "_view_count": null,
            "_view_module_version": "1.5.0",
            "box_style": "",
            "layout": "IPY_MODEL_30345edd567b4d52b19a84f818365ee2",
            "_model_module": "@jupyter-widgets/controls",
            "children": [
              "IPY_MODEL_3b940be3c441401488f02f2cb857a4e5",
              "IPY_MODEL_770be04018b341d780f66c595acd0173"
            ]
          }
        },
        "30345edd567b4d52b19a84f818365ee2": {
          "model_module": "@jupyter-widgets/base",
          "model_name": "LayoutModel",
          "state": {
            "_view_name": "LayoutView",
            "grid_template_rows": null,
            "right": null,
            "justify_content": null,
            "_view_module": "@jupyter-widgets/base",
            "overflow": null,
            "_model_module_version": "1.2.0",
            "_view_count": null,
            "flex_flow": null,
            "width": null,
            "min_width": null,
            "border": null,
            "align_items": null,
            "bottom": null,
            "_model_module": "@jupyter-widgets/base",
            "top": null,
            "grid_column": null,
            "overflow_y": null,
            "overflow_x": null,
            "grid_auto_flow": null,
            "grid_area": null,
            "grid_template_columns": null,
            "flex": null,
            "_model_name": "LayoutModel",
            "justify_items": null,
            "grid_row": null,
            "max_height": null,
            "align_content": null,
            "visibility": null,
            "align_self": null,
            "height": null,
            "min_height": null,
            "padding": null,
            "grid_auto_rows": null,
            "grid_gap": null,
            "max_width": null,
            "order": null,
            "_view_module_version": "1.2.0",
            "grid_template_areas": null,
            "object_position": null,
            "object_fit": null,
            "grid_auto_columns": null,
            "margin": null,
            "display": null,
            "left": null
          }
        },
        "3b940be3c441401488f02f2cb857a4e5": {
          "model_module": "@jupyter-widgets/controls",
          "model_name": "FloatProgressModel",
          "state": {
            "_view_name": "ProgressView",
            "style": "IPY_MODEL_01debd931c56474cb976335936145d7e",
            "_dom_classes": [],
            "description": "100%",
            "_model_name": "FloatProgressModel",
            "bar_style": "success",
            "max": 6888,
            "_view_module": "@jupyter-widgets/controls",
            "_model_module_version": "1.5.0",
            "value": 6888,
            "_view_count": null,
            "_view_module_version": "1.5.0",
            "orientation": "horizontal",
            "min": 0,
            "description_tooltip": null,
            "_model_module": "@jupyter-widgets/controls",
            "layout": "IPY_MODEL_db734aaff0a042e19c266baa913b3cd0"
          }
        },
        "770be04018b341d780f66c595acd0173": {
          "model_module": "@jupyter-widgets/controls",
          "model_name": "HTMLModel",
          "state": {
            "_view_name": "HTMLView",
            "style": "IPY_MODEL_3455c48f2a7d4b33ba25afc0c6cfcabc",
            "_dom_classes": [],
            "description": "",
            "_model_name": "HTMLModel",
            "placeholder": "​",
            "_view_module": "@jupyter-widgets/controls",
            "_model_module_version": "1.5.0",
            "value": " 6888/6888 [00:01&lt;00:00, 5702.48it/s]",
            "_view_count": null,
            "_view_module_version": "1.5.0",
            "description_tooltip": null,
            "_model_module": "@jupyter-widgets/controls",
            "layout": "IPY_MODEL_ad6f27aabd2841ecbe164047d42d3584"
          }
        },
        "01debd931c56474cb976335936145d7e": {
          "model_module": "@jupyter-widgets/controls",
          "model_name": "ProgressStyleModel",
          "state": {
            "_view_name": "StyleView",
            "_model_name": "ProgressStyleModel",
            "description_width": "initial",
            "_view_module": "@jupyter-widgets/base",
            "_model_module_version": "1.5.0",
            "_view_count": null,
            "_view_module_version": "1.2.0",
            "bar_color": null,
            "_model_module": "@jupyter-widgets/controls"
          }
        },
        "db734aaff0a042e19c266baa913b3cd0": {
          "model_module": "@jupyter-widgets/base",
          "model_name": "LayoutModel",
          "state": {
            "_view_name": "LayoutView",
            "grid_template_rows": null,
            "right": null,
            "justify_content": null,
            "_view_module": "@jupyter-widgets/base",
            "overflow": null,
            "_model_module_version": "1.2.0",
            "_view_count": null,
            "flex_flow": null,
            "width": null,
            "min_width": null,
            "border": null,
            "align_items": null,
            "bottom": null,
            "_model_module": "@jupyter-widgets/base",
            "top": null,
            "grid_column": null,
            "overflow_y": null,
            "overflow_x": null,
            "grid_auto_flow": null,
            "grid_area": null,
            "grid_template_columns": null,
            "flex": null,
            "_model_name": "LayoutModel",
            "justify_items": null,
            "grid_row": null,
            "max_height": null,
            "align_content": null,
            "visibility": null,
            "align_self": null,
            "height": null,
            "min_height": null,
            "padding": null,
            "grid_auto_rows": null,
            "grid_gap": null,
            "max_width": null,
            "order": null,
            "_view_module_version": "1.2.0",
            "grid_template_areas": null,
            "object_position": null,
            "object_fit": null,
            "grid_auto_columns": null,
            "margin": null,
            "display": null,
            "left": null
          }
        },
        "3455c48f2a7d4b33ba25afc0c6cfcabc": {
          "model_module": "@jupyter-widgets/controls",
          "model_name": "DescriptionStyleModel",
          "state": {
            "_view_name": "StyleView",
            "_model_name": "DescriptionStyleModel",
            "description_width": "",
            "_view_module": "@jupyter-widgets/base",
            "_model_module_version": "1.5.0",
            "_view_count": null,
            "_view_module_version": "1.2.0",
            "_model_module": "@jupyter-widgets/controls"
          }
        },
        "ad6f27aabd2841ecbe164047d42d3584": {
          "model_module": "@jupyter-widgets/base",
          "model_name": "LayoutModel",
          "state": {
            "_view_name": "LayoutView",
            "grid_template_rows": null,
            "right": null,
            "justify_content": null,
            "_view_module": "@jupyter-widgets/base",
            "overflow": null,
            "_model_module_version": "1.2.0",
            "_view_count": null,
            "flex_flow": null,
            "width": null,
            "min_width": null,
            "border": null,
            "align_items": null,
            "bottom": null,
            "_model_module": "@jupyter-widgets/base",
            "top": null,
            "grid_column": null,
            "overflow_y": null,
            "overflow_x": null,
            "grid_auto_flow": null,
            "grid_area": null,
            "grid_template_columns": null,
            "flex": null,
            "_model_name": "LayoutModel",
            "justify_items": null,
            "grid_row": null,
            "max_height": null,
            "align_content": null,
            "visibility": null,
            "align_self": null,
            "height": null,
            "min_height": null,
            "padding": null,
            "grid_auto_rows": null,
            "grid_gap": null,
            "max_width": null,
            "order": null,
            "_view_module_version": "1.2.0",
            "grid_template_areas": null,
            "object_position": null,
            "object_fit": null,
            "grid_auto_columns": null,
            "margin": null,
            "display": null,
            "left": null
          }
        },
        "0593c6b1716d4a2aa21ed2f4c1b4ac75": {
          "model_module": "@jupyter-widgets/controls",
          "model_name": "HBoxModel",
          "state": {
            "_view_name": "HBoxView",
            "_dom_classes": [],
            "_model_name": "HBoxModel",
            "_view_module": "@jupyter-widgets/controls",
            "_model_module_version": "1.5.0",
            "_view_count": null,
            "_view_module_version": "1.5.0",
            "box_style": "",
            "layout": "IPY_MODEL_29c13c24bb854986abf15f5d0127bcce",
            "_model_module": "@jupyter-widgets/controls",
            "children": [
              "IPY_MODEL_fabf637d039b472a9c27da7460e58886",
              "IPY_MODEL_13a419753162426184ea068e0794cfd8"
            ]
          }
        },
        "29c13c24bb854986abf15f5d0127bcce": {
          "model_module": "@jupyter-widgets/base",
          "model_name": "LayoutModel",
          "state": {
            "_view_name": "LayoutView",
            "grid_template_rows": null,
            "right": null,
            "justify_content": null,
            "_view_module": "@jupyter-widgets/base",
            "overflow": null,
            "_model_module_version": "1.2.0",
            "_view_count": null,
            "flex_flow": null,
            "width": null,
            "min_width": null,
            "border": null,
            "align_items": null,
            "bottom": null,
            "_model_module": "@jupyter-widgets/base",
            "top": null,
            "grid_column": null,
            "overflow_y": null,
            "overflow_x": null,
            "grid_auto_flow": null,
            "grid_area": null,
            "grid_template_columns": null,
            "flex": null,
            "_model_name": "LayoutModel",
            "justify_items": null,
            "grid_row": null,
            "max_height": null,
            "align_content": null,
            "visibility": null,
            "align_self": null,
            "height": null,
            "min_height": null,
            "padding": null,
            "grid_auto_rows": null,
            "grid_gap": null,
            "max_width": null,
            "order": null,
            "_view_module_version": "1.2.0",
            "grid_template_areas": null,
            "object_position": null,
            "object_fit": null,
            "grid_auto_columns": null,
            "margin": null,
            "display": null,
            "left": null
          }
        },
        "fabf637d039b472a9c27da7460e58886": {
          "model_module": "@jupyter-widgets/controls",
          "model_name": "FloatProgressModel",
          "state": {
            "_view_name": "ProgressView",
            "style": "IPY_MODEL_3b2ac768d13844ac9deca42e4ce24b68",
            "_dom_classes": [],
            "description": "100%",
            "_model_name": "FloatProgressModel",
            "bar_style": "success",
            "max": 688,
            "_view_module": "@jupyter-widgets/controls",
            "_model_module_version": "1.5.0",
            "value": 688,
            "_view_count": null,
            "_view_module_version": "1.5.0",
            "orientation": "horizontal",
            "min": 0,
            "description_tooltip": null,
            "_model_module": "@jupyter-widgets/controls",
            "layout": "IPY_MODEL_a7adee6596b742bdbe3a6204220bad4d"
          }
        },
        "13a419753162426184ea068e0794cfd8": {
          "model_module": "@jupyter-widgets/controls",
          "model_name": "HTMLModel",
          "state": {
            "_view_name": "HTMLView",
            "style": "IPY_MODEL_881474ab74aa4f43a647ef40fd6f2990",
            "_dom_classes": [],
            "description": "",
            "_model_name": "HTMLModel",
            "placeholder": "​",
            "_view_module": "@jupyter-widgets/controls",
            "_model_module_version": "1.5.0",
            "value": " 688/688 [00:00&lt;00:00, 4524.35it/s]",
            "_view_count": null,
            "_view_module_version": "1.5.0",
            "description_tooltip": null,
            "_model_module": "@jupyter-widgets/controls",
            "layout": "IPY_MODEL_eb972452552649d1810b1d6e35870e6e"
          }
        },
        "3b2ac768d13844ac9deca42e4ce24b68": {
          "model_module": "@jupyter-widgets/controls",
          "model_name": "ProgressStyleModel",
          "state": {
            "_view_name": "StyleView",
            "_model_name": "ProgressStyleModel",
            "description_width": "initial",
            "_view_module": "@jupyter-widgets/base",
            "_model_module_version": "1.5.0",
            "_view_count": null,
            "_view_module_version": "1.2.0",
            "bar_color": null,
            "_model_module": "@jupyter-widgets/controls"
          }
        },
        "a7adee6596b742bdbe3a6204220bad4d": {
          "model_module": "@jupyter-widgets/base",
          "model_name": "LayoutModel",
          "state": {
            "_view_name": "LayoutView",
            "grid_template_rows": null,
            "right": null,
            "justify_content": null,
            "_view_module": "@jupyter-widgets/base",
            "overflow": null,
            "_model_module_version": "1.2.0",
            "_view_count": null,
            "flex_flow": null,
            "width": null,
            "min_width": null,
            "border": null,
            "align_items": null,
            "bottom": null,
            "_model_module": "@jupyter-widgets/base",
            "top": null,
            "grid_column": null,
            "overflow_y": null,
            "overflow_x": null,
            "grid_auto_flow": null,
            "grid_area": null,
            "grid_template_columns": null,
            "flex": null,
            "_model_name": "LayoutModel",
            "justify_items": null,
            "grid_row": null,
            "max_height": null,
            "align_content": null,
            "visibility": null,
            "align_self": null,
            "height": null,
            "min_height": null,
            "padding": null,
            "grid_auto_rows": null,
            "grid_gap": null,
            "max_width": null,
            "order": null,
            "_view_module_version": "1.2.0",
            "grid_template_areas": null,
            "object_position": null,
            "object_fit": null,
            "grid_auto_columns": null,
            "margin": null,
            "display": null,
            "left": null
          }
        },
        "881474ab74aa4f43a647ef40fd6f2990": {
          "model_module": "@jupyter-widgets/controls",
          "model_name": "DescriptionStyleModel",
          "state": {
            "_view_name": "StyleView",
            "_model_name": "DescriptionStyleModel",
            "description_width": "",
            "_view_module": "@jupyter-widgets/base",
            "_model_module_version": "1.5.0",
            "_view_count": null,
            "_view_module_version": "1.2.0",
            "_model_module": "@jupyter-widgets/controls"
          }
        },
        "eb972452552649d1810b1d6e35870e6e": {
          "model_module": "@jupyter-widgets/base",
          "model_name": "LayoutModel",
          "state": {
            "_view_name": "LayoutView",
            "grid_template_rows": null,
            "right": null,
            "justify_content": null,
            "_view_module": "@jupyter-widgets/base",
            "overflow": null,
            "_model_module_version": "1.2.0",
            "_view_count": null,
            "flex_flow": null,
            "width": null,
            "min_width": null,
            "border": null,
            "align_items": null,
            "bottom": null,
            "_model_module": "@jupyter-widgets/base",
            "top": null,
            "grid_column": null,
            "overflow_y": null,
            "overflow_x": null,
            "grid_auto_flow": null,
            "grid_area": null,
            "grid_template_columns": null,
            "flex": null,
            "_model_name": "LayoutModel",
            "justify_items": null,
            "grid_row": null,
            "max_height": null,
            "align_content": null,
            "visibility": null,
            "align_self": null,
            "height": null,
            "min_height": null,
            "padding": null,
            "grid_auto_rows": null,
            "grid_gap": null,
            "max_width": null,
            "order": null,
            "_view_module_version": "1.2.0",
            "grid_template_areas": null,
            "object_position": null,
            "object_fit": null,
            "grid_auto_columns": null,
            "margin": null,
            "display": null,
            "left": null
          }
        }
      }
    }
  },
  "cells": [
    {
      "cell_type": "markdown",
      "metadata": {
        "id": "g78tzmjN3mzF"
      },
      "source": [
        "# 한글폰트 설치\n",
        "- 아래 실행후 '런터임 다시 시작' 하면 됩니다.\n",
        "- 메뉴에서 '런타임' >> '런타임 다시 시작'을 클릭하세요.\n",
        "- 런타임 다시 시작 후 다시 실행할 필요 없습니다."
      ]
    },
    {
      "cell_type": "code",
      "metadata": {
        "id": "Co97FHic3p0D",
        "colab": {
          "base_uri": "https://localhost:8080/"
        },
        "outputId": "9259547b-dcbd-40b1-b155-298f7045552b"
      },
      "source": [
        "# 폰트 설치\n",
        "!apt-get update -qq # 나눔고딕 설치\n",
        "!apt-get install fonts-nanum* -qq\n",
        "\n",
        "import matplotlib as mpl\n",
        "import matplotlib.pyplot as plt\n",
        "import matplotlib.font_manager as fm\n",
        "\n",
        "# 폰트 로딩\n",
        "fontpath = '/usr/share/fonts/truetype/nanum/NanumBarunGothic.ttf'\n",
        "font = fm.FontProperties(fname=fontpath, size=9)\n",
        "plt.rc('font', family='NanumBarunGothic') \n",
        "mpl.font_manager._rebuild()"
      ],
      "execution_count": 1,
      "outputs": [
        {
          "output_type": "stream",
          "text": [
            "Selecting previously unselected package fonts-nanum.\n",
            "(Reading database ... 146374 files and directories currently installed.)\n",
            "Preparing to unpack .../fonts-nanum_20170925-1_all.deb ...\n",
            "Unpacking fonts-nanum (20170925-1) ...\n",
            "Selecting previously unselected package fonts-nanum-eco.\n",
            "Preparing to unpack .../fonts-nanum-eco_1.000-6_all.deb ...\n",
            "Unpacking fonts-nanum-eco (1.000-6) ...\n",
            "Selecting previously unselected package fonts-nanum-extra.\n",
            "Preparing to unpack .../fonts-nanum-extra_20170925-1_all.deb ...\n",
            "Unpacking fonts-nanum-extra (20170925-1) ...\n",
            "Selecting previously unselected package fonts-nanum-coding.\n",
            "Preparing to unpack .../fonts-nanum-coding_2.5-1_all.deb ...\n",
            "Unpacking fonts-nanum-coding (2.5-1) ...\n",
            "Setting up fonts-nanum-extra (20170925-1) ...\n",
            "Setting up fonts-nanum (20170925-1) ...\n",
            "Setting up fonts-nanum-coding (2.5-1) ...\n",
            "Setting up fonts-nanum-eco (1.000-6) ...\n",
            "Processing triggers for fontconfig (2.12.6-0ubuntu2) ...\n"
          ],
          "name": "stdout"
        }
      ]
    },
    {
      "cell_type": "markdown",
      "metadata": {
        "id": "6dfJPT-2XMTB"
      },
      "source": [
        "# Install"
      ]
    },
    {
      "cell_type": "code",
      "metadata": {
        "id": "a193aGJWVaqb",
        "colab": {
          "base_uri": "https://localhost:8080/"
        },
        "outputId": "f156bade-2b85-4553-b54f-1b8af70e614d"
      },
      "source": [
        "!pip install sentencepiece"
      ],
      "execution_count": 1,
      "outputs": [
        {
          "output_type": "stream",
          "text": [
            "Collecting sentencepiece\n",
            "\u001b[?25l  Downloading https://files.pythonhosted.org/packages/14/67/e42bd1181472c95c8cda79305df848264f2a7f62740995a46945d9797b67/sentencepiece-0.1.95-cp36-cp36m-manylinux2014_x86_64.whl (1.2MB)\n",
            "\r\u001b[K     |▎                               | 10kB 25.2MB/s eta 0:00:01\r\u001b[K     |▌                               | 20kB 31.7MB/s eta 0:00:01\r\u001b[K     |▉                               | 30kB 24.0MB/s eta 0:00:01\r\u001b[K     |█                               | 40kB 27.8MB/s eta 0:00:01\r\u001b[K     |█▍                              | 51kB 25.0MB/s eta 0:00:01\r\u001b[K     |█▋                              | 61kB 27.6MB/s eta 0:00:01\r\u001b[K     |██                              | 71kB 18.3MB/s eta 0:00:01\r\u001b[K     |██▏                             | 81kB 19.5MB/s eta 0:00:01\r\u001b[K     |██▌                             | 92kB 17.8MB/s eta 0:00:01\r\u001b[K     |██▊                             | 102kB 18.1MB/s eta 0:00:01\r\u001b[K     |███                             | 112kB 18.1MB/s eta 0:00:01\r\u001b[K     |███▎                            | 122kB 18.1MB/s eta 0:00:01\r\u001b[K     |███▌                            | 133kB 18.1MB/s eta 0:00:01\r\u001b[K     |███▉                            | 143kB 18.1MB/s eta 0:00:01\r\u001b[K     |████                            | 153kB 18.1MB/s eta 0:00:01\r\u001b[K     |████▍                           | 163kB 18.1MB/s eta 0:00:01\r\u001b[K     |████▋                           | 174kB 18.1MB/s eta 0:00:01\r\u001b[K     |█████                           | 184kB 18.1MB/s eta 0:00:01\r\u001b[K     |█████▏                          | 194kB 18.1MB/s eta 0:00:01\r\u001b[K     |█████▌                          | 204kB 18.1MB/s eta 0:00:01\r\u001b[K     |█████▊                          | 215kB 18.1MB/s eta 0:00:01\r\u001b[K     |██████                          | 225kB 18.1MB/s eta 0:00:01\r\u001b[K     |██████▎                         | 235kB 18.1MB/s eta 0:00:01\r\u001b[K     |██████▌                         | 245kB 18.1MB/s eta 0:00:01\r\u001b[K     |██████▉                         | 256kB 18.1MB/s eta 0:00:01\r\u001b[K     |███████                         | 266kB 18.1MB/s eta 0:00:01\r\u001b[K     |███████▍                        | 276kB 18.1MB/s eta 0:00:01\r\u001b[K     |███████▋                        | 286kB 18.1MB/s eta 0:00:01\r\u001b[K     |████████                        | 296kB 18.1MB/s eta 0:00:01\r\u001b[K     |████████▏                       | 307kB 18.1MB/s eta 0:00:01\r\u001b[K     |████████▍                       | 317kB 18.1MB/s eta 0:00:01\r\u001b[K     |████████▊                       | 327kB 18.1MB/s eta 0:00:01\r\u001b[K     |█████████                       | 337kB 18.1MB/s eta 0:00:01\r\u001b[K     |█████████▎                      | 348kB 18.1MB/s eta 0:00:01\r\u001b[K     |█████████▌                      | 358kB 18.1MB/s eta 0:00:01\r\u001b[K     |█████████▉                      | 368kB 18.1MB/s eta 0:00:01\r\u001b[K     |██████████                      | 378kB 18.1MB/s eta 0:00:01\r\u001b[K     |██████████▍                     | 389kB 18.1MB/s eta 0:00:01\r\u001b[K     |██████████▋                     | 399kB 18.1MB/s eta 0:00:01\r\u001b[K     |███████████                     | 409kB 18.1MB/s eta 0:00:01\r\u001b[K     |███████████▏                    | 419kB 18.1MB/s eta 0:00:01\r\u001b[K     |███████████▍                    | 430kB 18.1MB/s eta 0:00:01\r\u001b[K     |███████████▊                    | 440kB 18.1MB/s eta 0:00:01\r\u001b[K     |████████████                    | 450kB 18.1MB/s eta 0:00:01\r\u001b[K     |████████████▎                   | 460kB 18.1MB/s eta 0:00:01\r\u001b[K     |████████████▌                   | 471kB 18.1MB/s eta 0:00:01\r\u001b[K     |████████████▉                   | 481kB 18.1MB/s eta 0:00:01\r\u001b[K     |█████████████                   | 491kB 18.1MB/s eta 0:00:01\r\u001b[K     |█████████████▍                  | 501kB 18.1MB/s eta 0:00:01\r\u001b[K     |█████████████▋                  | 512kB 18.1MB/s eta 0:00:01\r\u001b[K     |█████████████▉                  | 522kB 18.1MB/s eta 0:00:01\r\u001b[K     |██████████████▏                 | 532kB 18.1MB/s eta 0:00:01\r\u001b[K     |██████████████▍                 | 542kB 18.1MB/s eta 0:00:01\r\u001b[K     |██████████████▊                 | 552kB 18.1MB/s eta 0:00:01\r\u001b[K     |███████████████                 | 563kB 18.1MB/s eta 0:00:01\r\u001b[K     |███████████████▎                | 573kB 18.1MB/s eta 0:00:01\r\u001b[K     |███████████████▌                | 583kB 18.1MB/s eta 0:00:01\r\u001b[K     |███████████████▉                | 593kB 18.1MB/s eta 0:00:01\r\u001b[K     |████████████████                | 604kB 18.1MB/s eta 0:00:01\r\u001b[K     |████████████████▍               | 614kB 18.1MB/s eta 0:00:01\r\u001b[K     |████████████████▋               | 624kB 18.1MB/s eta 0:00:01\r\u001b[K     |████████████████▉               | 634kB 18.1MB/s eta 0:00:01\r\u001b[K     |█████████████████▏              | 645kB 18.1MB/s eta 0:00:01\r\u001b[K     |█████████████████▍              | 655kB 18.1MB/s eta 0:00:01\r\u001b[K     |█████████████████▊              | 665kB 18.1MB/s eta 0:00:01\r\u001b[K     |██████████████████              | 675kB 18.1MB/s eta 0:00:01\r\u001b[K     |██████████████████▎             | 686kB 18.1MB/s eta 0:00:01\r\u001b[K     |██████████████████▌             | 696kB 18.1MB/s eta 0:00:01\r\u001b[K     |██████████████████▉             | 706kB 18.1MB/s eta 0:00:01\r\u001b[K     |███████████████████             | 716kB 18.1MB/s eta 0:00:01\r\u001b[K     |███████████████████▎            | 727kB 18.1MB/s eta 0:00:01\r\u001b[K     |███████████████████▋            | 737kB 18.1MB/s eta 0:00:01\r\u001b[K     |███████████████████▉            | 747kB 18.1MB/s eta 0:00:01\r\u001b[K     |████████████████████▏           | 757kB 18.1MB/s eta 0:00:01\r\u001b[K     |████████████████████▍           | 768kB 18.1MB/s eta 0:00:01\r\u001b[K     |████████████████████▊           | 778kB 18.1MB/s eta 0:00:01\r\u001b[K     |█████████████████████           | 788kB 18.1MB/s eta 0:00:01\r\u001b[K     |█████████████████████▎          | 798kB 18.1MB/s eta 0:00:01\r\u001b[K     |█████████████████████▌          | 808kB 18.1MB/s eta 0:00:01\r\u001b[K     |█████████████████████▉          | 819kB 18.1MB/s eta 0:00:01\r\u001b[K     |██████████████████████          | 829kB 18.1MB/s eta 0:00:01\r\u001b[K     |██████████████████████▎         | 839kB 18.1MB/s eta 0:00:01\r\u001b[K     |██████████████████████▋         | 849kB 18.1MB/s eta 0:00:01\r\u001b[K     |██████████████████████▉         | 860kB 18.1MB/s eta 0:00:01\r\u001b[K     |███████████████████████▏        | 870kB 18.1MB/s eta 0:00:01\r\u001b[K     |███████████████████████▍        | 880kB 18.1MB/s eta 0:00:01\r\u001b[K     |███████████████████████▊        | 890kB 18.1MB/s eta 0:00:01\r\u001b[K     |████████████████████████        | 901kB 18.1MB/s eta 0:00:01\r\u001b[K     |████████████████████████▎       | 911kB 18.1MB/s eta 0:00:01\r\u001b[K     |████████████████████████▌       | 921kB 18.1MB/s eta 0:00:01\r\u001b[K     |████████████████████████▊       | 931kB 18.1MB/s eta 0:00:01\r\u001b[K     |█████████████████████████       | 942kB 18.1MB/s eta 0:00:01\r\u001b[K     |█████████████████████████▎      | 952kB 18.1MB/s eta 0:00:01\r\u001b[K     |█████████████████████████▋      | 962kB 18.1MB/s eta 0:00:01\r\u001b[K     |█████████████████████████▉      | 972kB 18.1MB/s eta 0:00:01\r\u001b[K     |██████████████████████████▏     | 983kB 18.1MB/s eta 0:00:01\r\u001b[K     |██████████████████████████▍     | 993kB 18.1MB/s eta 0:00:01\r\u001b[K     |██████████████████████████▊     | 1.0MB 18.1MB/s eta 0:00:01\r\u001b[K     |███████████████████████████     | 1.0MB 18.1MB/s eta 0:00:01\r\u001b[K     |███████████████████████████▎    | 1.0MB 18.1MB/s eta 0:00:01\r\u001b[K     |███████████████████████████▌    | 1.0MB 18.1MB/s eta 0:00:01\r\u001b[K     |███████████████████████████▊    | 1.0MB 18.1MB/s eta 0:00:01\r\u001b[K     |████████████████████████████    | 1.1MB 18.1MB/s eta 0:00:01\r\u001b[K     |████████████████████████████▎   | 1.1MB 18.1MB/s eta 0:00:01\r\u001b[K     |████████████████████████████▋   | 1.1MB 18.1MB/s eta 0:00:01\r\u001b[K     |████████████████████████████▉   | 1.1MB 18.1MB/s eta 0:00:01\r\u001b[K     |█████████████████████████████▏  | 1.1MB 18.1MB/s eta 0:00:01\r\u001b[K     |█████████████████████████████▍  | 1.1MB 18.1MB/s eta 0:00:01\r\u001b[K     |█████████████████████████████▊  | 1.1MB 18.1MB/s eta 0:00:01\r\u001b[K     |██████████████████████████████  | 1.1MB 18.1MB/s eta 0:00:01\r\u001b[K     |██████████████████████████████▏ | 1.1MB 18.1MB/s eta 0:00:01\r\u001b[K     |██████████████████████████████▌ | 1.1MB 18.1MB/s eta 0:00:01\r\u001b[K     |██████████████████████████████▊ | 1.2MB 18.1MB/s eta 0:00:01\r\u001b[K     |███████████████████████████████ | 1.2MB 18.1MB/s eta 0:00:01\r\u001b[K     |███████████████████████████████▎| 1.2MB 18.1MB/s eta 0:00:01\r\u001b[K     |███████████████████████████████▋| 1.2MB 18.1MB/s eta 0:00:01\r\u001b[K     |███████████████████████████████▉| 1.2MB 18.1MB/s eta 0:00:01\r\u001b[K     |████████████████████████████████| 1.2MB 18.1MB/s \n",
            "\u001b[?25hInstalling collected packages: sentencepiece\n",
            "Successfully installed sentencepiece-0.1.95\n"
          ],
          "name": "stdout"
        }
      ]
    },
    {
      "cell_type": "markdown",
      "metadata": {
        "id": "JHkHg6XAXoyK"
      },
      "source": [
        "# Evn"
      ]
    },
    {
      "cell_type": "code",
      "metadata": {
        "id": "WkYXFwcBXJDG"
      },
      "source": [
        "import os\n",
        "import random\n",
        "import shutil\n",
        "import json\n",
        "import zipfile\n",
        "import math\n",
        "import copy\n",
        "import collections\n",
        "import re\n",
        "\n",
        "import matplotlib.pyplot as plt\n",
        "import seaborn as sns\n",
        "from wordcloud import WordCloud\n",
        "import pandas as pd\n",
        "import numpy as np\n",
        "import sentencepiece as spm\n",
        "import tensorflow as tf\n",
        "import tensorflow.keras.backend as K\n",
        "\n",
        "from tqdm.notebook import tqdm"
      ],
      "execution_count": 2,
      "outputs": []
    },
    {
      "cell_type": "code",
      "metadata": {
        "id": "nvjyruUlXtlR"
      },
      "source": [
        "# random seed initialize\n",
        "random_seed = 1234\n",
        "random.seed(random_seed)\n",
        "np.random.seed(random_seed)\n",
        "tf.random.set_seed(random_seed)"
      ],
      "execution_count": 53,
      "outputs": []
    },
    {
      "cell_type": "code",
      "metadata": {
        "id": "BC3fXkhdYcYt",
        "colab": {
          "base_uri": "https://localhost:8080/"
        },
        "outputId": "244d4f1f-6b9d-4cb4-953a-1c1ff05636a5"
      },
      "source": [
        "!nvidia-smi"
      ],
      "execution_count": 54,
      "outputs": [
        {
          "output_type": "stream",
          "text": [
            "Mon Feb  1 10:42:50 2021       \n",
            "+-----------------------------------------------------------------------------+\n",
            "| NVIDIA-SMI 460.32.03    Driver Version: 418.67       CUDA Version: 10.1     |\n",
            "|-------------------------------+----------------------+----------------------+\n",
            "| GPU  Name        Persistence-M| Bus-Id        Disp.A | Volatile Uncorr. ECC |\n",
            "| Fan  Temp  Perf  Pwr:Usage/Cap|         Memory-Usage | GPU-Util  Compute M. |\n",
            "|                               |                      |               MIG M. |\n",
            "|===============================+======================+======================|\n",
            "|   0  Tesla T4            Off  | 00000000:00:04.0 Off |                    0 |\n",
            "| N/A   49C    P0    28W /  70W |   3175MiB / 15079MiB |      0%      Default |\n",
            "|                               |                      |                 ERR! |\n",
            "+-------------------------------+----------------------+----------------------+\n",
            "                                                                               \n",
            "+-----------------------------------------------------------------------------+\n",
            "| Processes:                                                                  |\n",
            "|  GPU   GI   CI        PID   Type   Process name                  GPU Memory |\n",
            "|        ID   ID                                                   Usage      |\n",
            "|=============================================================================|\n",
            "|  No running processes found                                                 |\n",
            "+-----------------------------------------------------------------------------+\n"
          ],
          "name": "stdout"
        }
      ]
    },
    {
      "cell_type": "code",
      "metadata": {
        "id": "xVRdxYReYeQj",
        "colab": {
          "base_uri": "https://localhost:8080/"
        },
        "outputId": "8cd01d11-31b0-48d0-8ae7-00c5b1c98023"
      },
      "source": [
        "# google drive mount\n",
        "from google.colab import drive\n",
        "drive.mount('/content/drive')"
      ],
      "execution_count": 55,
      "outputs": [
        {
          "output_type": "stream",
          "text": [
            "Drive already mounted at /content/drive; to attempt to forcibly remount, call drive.mount(\"/content/drive\", force_remount=True).\n"
          ],
          "name": "stdout"
        }
      ]
    },
    {
      "cell_type": "code",
      "metadata": {
        "id": "byCIiLJBbFHh",
        "colab": {
          "base_uri": "https://localhost:8080/"
        },
        "outputId": "96bb440f-19b9-470f-cc40-5836058ee6f2"
      },
      "source": [
        "# data dir\n",
        "data_dir = '/content/drive/MyDrive/자연어처리(NLP)/data'\n",
        "os.listdir(data_dir)"
      ],
      "execution_count": 56,
      "outputs": [
        {
          "output_type": "execute_result",
          "data": {
            "text/plain": [
              "['kowiki',\n",
              " 'ko_32000.model',\n",
              " 'ko_32000.vocab',\n",
              " '.ipynb_checkpoints',\n",
              " 'nsmc',\n",
              " 'quora']"
            ]
          },
          "metadata": {
            "tags": []
          },
          "execution_count": 56
        }
      ]
    },
    {
      "cell_type": "code",
      "metadata": {
        "id": "_Ru56YS3-SME",
        "colab": {
          "base_uri": "https://localhost:8080/"
        },
        "outputId": "8ef4306e-f0a8-4a53-e59b-47c9650371a9"
      },
      "source": [
        "# quora dir\n",
        "quora_dir = os.path.join(data_dir, 'quora')\n",
        "if not os.path.exists(quora_dir):\n",
        "    os.makedirs(quora_dir)\n",
        "os.listdir(quora_dir)"
      ],
      "execution_count": 57,
      "outputs": [
        {
          "output_type": "execute_result",
          "data": {
            "text/plain": [
              "['kor_pair_train.csv', 'kor_Pair_test.csv', 'stub.csv', 'stub.hdf5']"
            ]
          },
          "metadata": {
            "tags": []
          },
          "execution_count": 57
        }
      ]
    },
    {
      "cell_type": "markdown",
      "metadata": {
        "id": "XwriCkq_R1Lc"
      },
      "source": [
        "# Vocabulary & config"
      ]
    },
    {
      "cell_type": "code",
      "metadata": {
        "id": "2H0BLydCb7lg",
        "colab": {
          "base_uri": "https://localhost:8080/"
        },
        "outputId": "5c72c5eb-3199-43e8-f01a-e6fb2e3b0124"
      },
      "source": [
        "# vocab loading\n",
        "vocab = spm.SentencePieceProcessor()\n",
        "vocab.load(os.path.join(data_dir, 'ko_32000.model'))"
      ],
      "execution_count": 58,
      "outputs": [
        {
          "output_type": "execute_result",
          "data": {
            "text/plain": [
              "True"
            ]
          },
          "metadata": {
            "tags": []
          },
          "execution_count": 58
        }
      ]
    },
    {
      "cell_type": "code",
      "metadata": {
        "id": "0ETZ19flTRmt"
      },
      "source": [
        "n_vocab = len(vocab)  # number of vocabulary\n",
        "n_seq_1 = 26  # number of sequence 1\n",
        "n_seq_2 = 27  # number of sequence 2\n",
        "d_model = 256  # dimension of model\n",
        "n_out = 2  # number of output class"
      ],
      "execution_count": 59,
      "outputs": []
    },
    {
      "cell_type": "markdown",
      "metadata": {
        "id": "3myBX8hNEH1u"
      },
      "source": [
        "# 모델링"
      ]
    },
    {
      "cell_type": "code",
      "metadata": {
        "id": "SobekkcjEX_P"
      },
      "source": [
        "def build_model(n_vocab, d_model, n_seq_1, n_seq_2):\n",
        "    \"\"\"\n",
        "    문장 유사도 비교 모델\n",
        "    :param n_vocab: vocabulary 단어 수\n",
        "    :param d_model: 단어를 의미하는 벡터의 차원 수\n",
        "    :param n_seq_1: 문장 1 길이 (단어 수)\n",
        "    :param n_seq_2: 문장 2 길이 (단어 수)\n",
        "    \"\"\"\n",
        "    inputs_1 = tf.keras.layers.Input((n_seq_1,))  # (bs, n_seq_1)\n",
        "    inputs_2 = tf.keras.layers.Input((n_seq_2,))  # (bs, n_seq_2)\n",
        "    # 입력 단어를 vector로 변환\n",
        "    embedding = tf.keras.layers.Embedding(n_vocab, d_model)\n",
        "    hidden_1 = embedding(inputs_1)  # (bs, n_seq_1, d_model)\n",
        "    hidden_2 = embedding(inputs_2)  # (bs, n_seq_2, d_model)\n",
        "    ####################################\n",
        "    # RNN or CNN 추가해 보세요.\n",
        "\n",
        "    rnn_1 = tf.keras.layers.Bidirectional((tf.keras.layers.SimpleRNN(units=128, return_sequences=True)))\n",
        "    hidden_1 = rnn_1(hidden_1)\n",
        "    hidden_2 = rnn_1(hidden_2)\n",
        "    rnn_2 = tf.keras.layers.Bidirectional((tf.keras.layers.LSTM(units=128, return_sequences=True)))\n",
        "    hidden_1 = rnn_2(hidden_1)\n",
        "    hidden_2 = rnn_2(hidden_2)\n",
        "    cnn_1 = tf.keras.layers.Conv1D(filters=d_model, kernel_size=5, padding='same')\n",
        "    hidden_1 = cnn_1(hidden_1)\n",
        "    hidden_2 = cnn_1(hidden_2)\n",
        "    ####################################\n",
        "    # 각 단어 벡터의 최대값 기준으로 벡터를 더해서 차원을 줄여줌 (문장 vector 생성)\n",
        "    pool = tf.keras.layers.GlobalMaxPool1D()\n",
        "    hidden_pool_1 = pool(hidden_1)  # (bs, d_model)\n",
        "    hidden_pool_2 = pool(hidden_2)  # (bs, d_model)\n",
        "    # distance 계산 ||a - b||\n",
        "    distance = K.sum(K.abs(hidden_pool_1 - hidden_pool_2), axis=-1)\n",
        "    outputs = K.exp(-distance)\n",
        "    # 학습할 모델 선언\n",
        "    model = tf.keras.Model(inputs=(inputs_1, inputs_2), outputs=outputs)\n",
        "    return model"
      ],
      "execution_count": 91,
      "outputs": []
    },
    {
      "cell_type": "markdown",
      "metadata": {
        "id": "zSaoCf37q3aC"
      },
      "source": [
        "# All Data Project"
      ]
    },
    {
      "cell_type": "markdown",
      "metadata": {
        "id": "arOON7lCq3aC"
      },
      "source": [
        "## Data\n"
      ]
    },
    {
      "cell_type": "code",
      "metadata": {
        "id": "tNIbidDEq3aC",
        "colab": {
          "base_uri": "https://localhost:8080/",
          "height": 453
        },
        "outputId": "f3a634cd-9db3-4b51-bbea-e514aa7af2e8"
      },
      "source": [
        "df_train = pd.read_csv(os.path.join(quora_dir, 'kor_pair_train.csv'), delimiter=',')\n",
        "df_train"
      ],
      "execution_count": 92,
      "outputs": [
        {
          "output_type": "execute_result",
          "data": {
            "text/html": [
              "<div>\n",
              "<style scoped>\n",
              "    .dataframe tbody tr th:only-of-type {\n",
              "        vertical-align: middle;\n",
              "    }\n",
              "\n",
              "    .dataframe tbody tr th {\n",
              "        vertical-align: top;\n",
              "    }\n",
              "\n",
              "    .dataframe thead th {\n",
              "        text-align: right;\n",
              "    }\n",
              "</style>\n",
              "<table border=\"1\" class=\"dataframe\">\n",
              "  <thead>\n",
              "    <tr style=\"text-align: right;\">\n",
              "      <th></th>\n",
              "      <th>id</th>\n",
              "      <th>qid1</th>\n",
              "      <th>qid2</th>\n",
              "      <th>question1</th>\n",
              "      <th>question2</th>\n",
              "      <th>is_duplicate</th>\n",
              "    </tr>\n",
              "  </thead>\n",
              "  <tbody>\n",
              "    <tr>\n",
              "      <th>0</th>\n",
              "      <td>1</td>\n",
              "      <td>1</td>\n",
              "      <td>2</td>\n",
              "      <td>1000일 만난 여자친구와 이별</td>\n",
              "      <td>10년 연예의끝</td>\n",
              "      <td>1</td>\n",
              "    </tr>\n",
              "    <tr>\n",
              "      <th>1</th>\n",
              "      <td>2</td>\n",
              "      <td>3</td>\n",
              "      <td>4</td>\n",
              "      <td>10년 연애사 되돌아보니 다 부질없네</td>\n",
              "      <td>10년이라는 시간이 참 무색하다 싶네</td>\n",
              "      <td>1</td>\n",
              "    </tr>\n",
              "    <tr>\n",
              "      <th>2</th>\n",
              "      <td>3</td>\n",
              "      <td>5</td>\n",
              "      <td>6</td>\n",
              "      <td>10년만나다 헤어지네</td>\n",
              "      <td>14년된 여자친구랑 이별</td>\n",
              "      <td>1</td>\n",
              "    </tr>\n",
              "    <tr>\n",
              "      <th>3</th>\n",
              "      <td>4</td>\n",
              "      <td>7</td>\n",
              "      <td>8</td>\n",
              "      <td>10월의 마지막밤 . 더 보고싶네 그사람</td>\n",
              "      <td>15년…안녕</td>\n",
              "      <td>1</td>\n",
              "    </tr>\n",
              "    <tr>\n",
              "      <th>4</th>\n",
              "      <td>5</td>\n",
              "      <td>9</td>\n",
              "      <td>10</td>\n",
              "      <td>14년의 기나긴 이야기.</td>\n",
              "      <td>1년 9개월 의 연애 종지부.</td>\n",
              "      <td>1</td>\n",
              "    </tr>\n",
              "    <tr>\n",
              "      <th>...</th>\n",
              "      <td>...</td>\n",
              "      <td>...</td>\n",
              "      <td>...</td>\n",
              "      <td>...</td>\n",
              "      <td>...</td>\n",
              "      <td>...</td>\n",
              "    </tr>\n",
              "    <tr>\n",
              "      <th>6883</th>\n",
              "      <td>6884</td>\n",
              "      <td>13767</td>\n",
              "      <td>13768</td>\n",
              "      <td>O형 남자와 썸을 타는데</td>\n",
              "      <td>O형 여자와 썸을 타는데</td>\n",
              "      <td>1</td>\n",
              "    </tr>\n",
              "    <tr>\n",
              "      <th>6884</th>\n",
              "      <td>6885</td>\n",
              "      <td>13769</td>\n",
              "      <td>13770</td>\n",
              "      <td>SD카드 안돼</td>\n",
              "      <td>SD카드 망가졌어</td>\n",
              "      <td>0</td>\n",
              "    </tr>\n",
              "    <tr>\n",
              "      <th>6885</th>\n",
              "      <td>6886</td>\n",
              "      <td>13771</td>\n",
              "      <td>13772</td>\n",
              "      <td>SNS 를 끊어야 하는데.</td>\n",
              "      <td>가슴 아픈 이별</td>\n",
              "      <td>1</td>\n",
              "    </tr>\n",
              "    <tr>\n",
              "      <th>6886</th>\n",
              "      <td>6887</td>\n",
              "      <td>13773</td>\n",
              "      <td>13774</td>\n",
              "      <td>SNS 시간낭비인데 자꾸 보게됨</td>\n",
              "      <td>SNS 시간낭비인 거 아는데 매일 하는 중</td>\n",
              "      <td>0</td>\n",
              "    </tr>\n",
              "    <tr>\n",
              "      <th>6887</th>\n",
              "      <td>6888</td>\n",
              "      <td>13775</td>\n",
              "      <td>13776</td>\n",
              "      <td>sns에서 다른 이성이랑 대화하는걸 보니 화가 나</td>\n",
              "      <td>가슴에 구멍이 너무 커.</td>\n",
              "      <td>1</td>\n",
              "    </tr>\n",
              "  </tbody>\n",
              "</table>\n",
              "<p>6888 rows × 6 columns</p>\n",
              "</div>"
            ],
            "text/plain": [
              "        id   qid1  ...                question2 is_duplicate\n",
              "0        1      1  ...                 10년 연예의끝            1\n",
              "1        2      3  ...     10년이라는 시간이 참 무색하다 싶네            1\n",
              "2        3      5  ...            14년된 여자친구랑 이별            1\n",
              "3        4      7  ...                   15년…안녕            1\n",
              "4        5      9  ...         1년 9개월 의 연애 종지부.            1\n",
              "...    ...    ...  ...                      ...          ...\n",
              "6883  6884  13767  ...            O형 여자와 썸을 타는데            1\n",
              "6884  6885  13769  ...                SD카드 망가졌어            0\n",
              "6885  6886  13771  ...                 가슴 아픈 이별            1\n",
              "6886  6887  13773  ...  SNS 시간낭비인 거 아는데 매일 하는 중            0\n",
              "6887  6888  13775  ...            가슴에 구멍이 너무 커.            1\n",
              "\n",
              "[6888 rows x 6 columns]"
            ]
          },
          "metadata": {
            "tags": []
          },
          "execution_count": 92
        }
      ]
    },
    {
      "cell_type": "code",
      "metadata": {
        "id": "6kGWoqa0q3aD",
        "colab": {
          "base_uri": "https://localhost:8080/",
          "height": 453
        },
        "outputId": "cecf9278-9f6d-440d-cffb-ca82d117f578"
      },
      "source": [
        "df_train = df_train.dropna()\n",
        "df_train"
      ],
      "execution_count": 93,
      "outputs": [
        {
          "output_type": "execute_result",
          "data": {
            "text/html": [
              "<div>\n",
              "<style scoped>\n",
              "    .dataframe tbody tr th:only-of-type {\n",
              "        vertical-align: middle;\n",
              "    }\n",
              "\n",
              "    .dataframe tbody tr th {\n",
              "        vertical-align: top;\n",
              "    }\n",
              "\n",
              "    .dataframe thead th {\n",
              "        text-align: right;\n",
              "    }\n",
              "</style>\n",
              "<table border=\"1\" class=\"dataframe\">\n",
              "  <thead>\n",
              "    <tr style=\"text-align: right;\">\n",
              "      <th></th>\n",
              "      <th>id</th>\n",
              "      <th>qid1</th>\n",
              "      <th>qid2</th>\n",
              "      <th>question1</th>\n",
              "      <th>question2</th>\n",
              "      <th>is_duplicate</th>\n",
              "    </tr>\n",
              "  </thead>\n",
              "  <tbody>\n",
              "    <tr>\n",
              "      <th>0</th>\n",
              "      <td>1</td>\n",
              "      <td>1</td>\n",
              "      <td>2</td>\n",
              "      <td>1000일 만난 여자친구와 이별</td>\n",
              "      <td>10년 연예의끝</td>\n",
              "      <td>1</td>\n",
              "    </tr>\n",
              "    <tr>\n",
              "      <th>1</th>\n",
              "      <td>2</td>\n",
              "      <td>3</td>\n",
              "      <td>4</td>\n",
              "      <td>10년 연애사 되돌아보니 다 부질없네</td>\n",
              "      <td>10년이라는 시간이 참 무색하다 싶네</td>\n",
              "      <td>1</td>\n",
              "    </tr>\n",
              "    <tr>\n",
              "      <th>2</th>\n",
              "      <td>3</td>\n",
              "      <td>5</td>\n",
              "      <td>6</td>\n",
              "      <td>10년만나다 헤어지네</td>\n",
              "      <td>14년된 여자친구랑 이별</td>\n",
              "      <td>1</td>\n",
              "    </tr>\n",
              "    <tr>\n",
              "      <th>3</th>\n",
              "      <td>4</td>\n",
              "      <td>7</td>\n",
              "      <td>8</td>\n",
              "      <td>10월의 마지막밤 . 더 보고싶네 그사람</td>\n",
              "      <td>15년…안녕</td>\n",
              "      <td>1</td>\n",
              "    </tr>\n",
              "    <tr>\n",
              "      <th>4</th>\n",
              "      <td>5</td>\n",
              "      <td>9</td>\n",
              "      <td>10</td>\n",
              "      <td>14년의 기나긴 이야기.</td>\n",
              "      <td>1년 9개월 의 연애 종지부.</td>\n",
              "      <td>1</td>\n",
              "    </tr>\n",
              "    <tr>\n",
              "      <th>...</th>\n",
              "      <td>...</td>\n",
              "      <td>...</td>\n",
              "      <td>...</td>\n",
              "      <td>...</td>\n",
              "      <td>...</td>\n",
              "      <td>...</td>\n",
              "    </tr>\n",
              "    <tr>\n",
              "      <th>6883</th>\n",
              "      <td>6884</td>\n",
              "      <td>13767</td>\n",
              "      <td>13768</td>\n",
              "      <td>O형 남자와 썸을 타는데</td>\n",
              "      <td>O형 여자와 썸을 타는데</td>\n",
              "      <td>1</td>\n",
              "    </tr>\n",
              "    <tr>\n",
              "      <th>6884</th>\n",
              "      <td>6885</td>\n",
              "      <td>13769</td>\n",
              "      <td>13770</td>\n",
              "      <td>SD카드 안돼</td>\n",
              "      <td>SD카드 망가졌어</td>\n",
              "      <td>0</td>\n",
              "    </tr>\n",
              "    <tr>\n",
              "      <th>6885</th>\n",
              "      <td>6886</td>\n",
              "      <td>13771</td>\n",
              "      <td>13772</td>\n",
              "      <td>SNS 를 끊어야 하는데.</td>\n",
              "      <td>가슴 아픈 이별</td>\n",
              "      <td>1</td>\n",
              "    </tr>\n",
              "    <tr>\n",
              "      <th>6886</th>\n",
              "      <td>6887</td>\n",
              "      <td>13773</td>\n",
              "      <td>13774</td>\n",
              "      <td>SNS 시간낭비인데 자꾸 보게됨</td>\n",
              "      <td>SNS 시간낭비인 거 아는데 매일 하는 중</td>\n",
              "      <td>0</td>\n",
              "    </tr>\n",
              "    <tr>\n",
              "      <th>6887</th>\n",
              "      <td>6888</td>\n",
              "      <td>13775</td>\n",
              "      <td>13776</td>\n",
              "      <td>sns에서 다른 이성이랑 대화하는걸 보니 화가 나</td>\n",
              "      <td>가슴에 구멍이 너무 커.</td>\n",
              "      <td>1</td>\n",
              "    </tr>\n",
              "  </tbody>\n",
              "</table>\n",
              "<p>6888 rows × 6 columns</p>\n",
              "</div>"
            ],
            "text/plain": [
              "        id   qid1  ...                question2 is_duplicate\n",
              "0        1      1  ...                 10년 연예의끝            1\n",
              "1        2      3  ...     10년이라는 시간이 참 무색하다 싶네            1\n",
              "2        3      5  ...            14년된 여자친구랑 이별            1\n",
              "3        4      7  ...                   15년…안녕            1\n",
              "4        5      9  ...         1년 9개월 의 연애 종지부.            1\n",
              "...    ...    ...  ...                      ...          ...\n",
              "6883  6884  13767  ...            O형 여자와 썸을 타는데            1\n",
              "6884  6885  13769  ...                SD카드 망가졌어            0\n",
              "6885  6886  13771  ...                 가슴 아픈 이별            1\n",
              "6886  6887  13773  ...  SNS 시간낭비인 거 아는데 매일 하는 중            0\n",
              "6887  6888  13775  ...            가슴에 구멍이 너무 커.            1\n",
              "\n",
              "[6888 rows x 6 columns]"
            ]
          },
          "metadata": {
            "tags": []
          },
          "execution_count": 93
        }
      ]
    },
    {
      "cell_type": "code",
      "metadata": {
        "id": "KWPDQFPBq3aD",
        "colab": {
          "base_uri": "https://localhost:8080/",
          "height": 419
        },
        "outputId": "87e017e6-b844-423a-da4e-cda75f1f3656"
      },
      "source": [
        "df_test = pd.read_csv(os.path.join(quora_dir, 'kor_Pair_test.csv'), delimiter=',')\n",
        "df_test"
      ],
      "execution_count": 94,
      "outputs": [
        {
          "output_type": "execute_result",
          "data": {
            "text/html": [
              "<div>\n",
              "<style scoped>\n",
              "    .dataframe tbody tr th:only-of-type {\n",
              "        vertical-align: middle;\n",
              "    }\n",
              "\n",
              "    .dataframe tbody tr th {\n",
              "        vertical-align: top;\n",
              "    }\n",
              "\n",
              "    .dataframe thead th {\n",
              "        text-align: right;\n",
              "    }\n",
              "</style>\n",
              "<table border=\"1\" class=\"dataframe\">\n",
              "  <thead>\n",
              "    <tr style=\"text-align: right;\">\n",
              "      <th></th>\n",
              "      <th>test_id</th>\n",
              "      <th>question1</th>\n",
              "      <th>question2</th>\n",
              "      <th>is_duplicate</th>\n",
              "      <th>Unnamed: 4</th>\n",
              "    </tr>\n",
              "  </thead>\n",
              "  <tbody>\n",
              "    <tr>\n",
              "      <th>0</th>\n",
              "      <td>1</td>\n",
              "      <td>21살의 사랑에 대해</td>\n",
              "      <td>사랑을 노력한다는게 말이 되나요?</td>\n",
              "      <td>1</td>\n",
              "      <td>NaN</td>\n",
              "    </tr>\n",
              "    <tr>\n",
              "      <th>1</th>\n",
              "      <td>2</td>\n",
              "      <td>2년 가량의 연애</td>\n",
              "      <td>2년 만났어</td>\n",
              "      <td>0</td>\n",
              "      <td>NaN</td>\n",
              "    </tr>\n",
              "    <tr>\n",
              "      <th>2</th>\n",
              "      <td>3</td>\n",
              "      <td>2년 만난 기념일이야</td>\n",
              "      <td>우리 벌써 2년 동안 사궜어</td>\n",
              "      <td>0</td>\n",
              "      <td>NaN</td>\n",
              "    </tr>\n",
              "    <tr>\n",
              "      <th>3</th>\n",
              "      <td>4</td>\n",
              "      <td>2년 사귀었는데 결혼하려고</td>\n",
              "      <td>2년째 짝사랑하는 사람이 있어.</td>\n",
              "      <td>1</td>\n",
              "      <td>NaN</td>\n",
              "    </tr>\n",
              "    <tr>\n",
              "      <th>4</th>\n",
              "      <td>5</td>\n",
              "      <td>5급면제도 나랑사랑카드 발급하나요?</td>\n",
              "      <td>아이콘 노래 사랑을 했다 별로인것같은데</td>\n",
              "      <td>1</td>\n",
              "      <td>NaN</td>\n",
              "    </tr>\n",
              "    <tr>\n",
              "      <th>...</th>\n",
              "      <td>...</td>\n",
              "      <td>...</td>\n",
              "      <td>...</td>\n",
              "      <td>...</td>\n",
              "      <td>...</td>\n",
              "    </tr>\n",
              "    <tr>\n",
              "      <th>683</th>\n",
              "      <td>684</td>\n",
              "      <td>회사에서 짤릴 필이 와</td>\n",
              "      <td>나 회사 짤릴 거 같은데 어떻게 만회하지</td>\n",
              "      <td>0</td>\n",
              "      <td>1.0</td>\n",
              "    </tr>\n",
              "    <tr>\n",
              "      <th>684</th>\n",
              "      <td>685</td>\n",
              "      <td>효율적으로 공부하는 방법</td>\n",
              "      <td>새 해 결심 뭐였더라</td>\n",
              "      <td>1</td>\n",
              "      <td>NaN</td>\n",
              "    </tr>\n",
              "    <tr>\n",
              "      <th>685</th>\n",
              "      <td>686</td>\n",
              "      <td>휴대폰 액정 깨졌어</td>\n",
              "      <td>액정 깨짐</td>\n",
              "      <td>0</td>\n",
              "      <td>NaN</td>\n",
              "    </tr>\n",
              "    <tr>\n",
              "      <th>686</th>\n",
              "      <td>687</td>\n",
              "      <td>힘든 일이 너무 많아요</td>\n",
              "      <td>괜찮아 천천히 해도 돼</td>\n",
              "      <td>1</td>\n",
              "      <td>NaN</td>\n",
              "    </tr>\n",
              "    <tr>\n",
              "      <th>687</th>\n",
              "      <td>688</td>\n",
              "      <td>AI도 감정 있나?</td>\n",
              "      <td>이런 감정은 처음인데 설레네</td>\n",
              "      <td>1</td>\n",
              "      <td>NaN</td>\n",
              "    </tr>\n",
              "  </tbody>\n",
              "</table>\n",
              "<p>688 rows × 5 columns</p>\n",
              "</div>"
            ],
            "text/plain": [
              "     test_id            question1  ... is_duplicate  Unnamed: 4\n",
              "0          1          21살의 사랑에 대해  ...            1         NaN\n",
              "1          2            2년 가량의 연애  ...            0         NaN\n",
              "2          3          2년 만난 기념일이야  ...            0         NaN\n",
              "3          4       2년 사귀었는데 결혼하려고  ...            1         NaN\n",
              "4          5  5급면제도 나랑사랑카드 발급하나요?  ...            1         NaN\n",
              "..       ...                  ...  ...          ...         ...\n",
              "683      684         회사에서 짤릴 필이 와  ...            0         1.0\n",
              "684      685        효율적으로 공부하는 방법  ...            1         NaN\n",
              "685      686           휴대폰 액정 깨졌어  ...            0         NaN\n",
              "686      687         힘든 일이 너무 많아요  ...            1         NaN\n",
              "687      688           AI도 감정 있나?  ...            1         NaN\n",
              "\n",
              "[688 rows x 5 columns]"
            ]
          },
          "metadata": {
            "tags": []
          },
          "execution_count": 94
        }
      ]
    },
    {
      "cell_type": "code",
      "metadata": {
        "id": "y9ewl-6Zq3aE",
        "colab": {
          "base_uri": "https://localhost:8080/",
          "height": 419
        },
        "outputId": "d0dcbfef-89ea-4d37-f706-3d876f1a55dd"
      },
      "source": [
        "df_test = df_test[['test_id', 'question1', 'question2', 'is_duplicate']]\n",
        "df_test"
      ],
      "execution_count": 95,
      "outputs": [
        {
          "output_type": "execute_result",
          "data": {
            "text/html": [
              "<div>\n",
              "<style scoped>\n",
              "    .dataframe tbody tr th:only-of-type {\n",
              "        vertical-align: middle;\n",
              "    }\n",
              "\n",
              "    .dataframe tbody tr th {\n",
              "        vertical-align: top;\n",
              "    }\n",
              "\n",
              "    .dataframe thead th {\n",
              "        text-align: right;\n",
              "    }\n",
              "</style>\n",
              "<table border=\"1\" class=\"dataframe\">\n",
              "  <thead>\n",
              "    <tr style=\"text-align: right;\">\n",
              "      <th></th>\n",
              "      <th>test_id</th>\n",
              "      <th>question1</th>\n",
              "      <th>question2</th>\n",
              "      <th>is_duplicate</th>\n",
              "    </tr>\n",
              "  </thead>\n",
              "  <tbody>\n",
              "    <tr>\n",
              "      <th>0</th>\n",
              "      <td>1</td>\n",
              "      <td>21살의 사랑에 대해</td>\n",
              "      <td>사랑을 노력한다는게 말이 되나요?</td>\n",
              "      <td>1</td>\n",
              "    </tr>\n",
              "    <tr>\n",
              "      <th>1</th>\n",
              "      <td>2</td>\n",
              "      <td>2년 가량의 연애</td>\n",
              "      <td>2년 만났어</td>\n",
              "      <td>0</td>\n",
              "    </tr>\n",
              "    <tr>\n",
              "      <th>2</th>\n",
              "      <td>3</td>\n",
              "      <td>2년 만난 기념일이야</td>\n",
              "      <td>우리 벌써 2년 동안 사궜어</td>\n",
              "      <td>0</td>\n",
              "    </tr>\n",
              "    <tr>\n",
              "      <th>3</th>\n",
              "      <td>4</td>\n",
              "      <td>2년 사귀었는데 결혼하려고</td>\n",
              "      <td>2년째 짝사랑하는 사람이 있어.</td>\n",
              "      <td>1</td>\n",
              "    </tr>\n",
              "    <tr>\n",
              "      <th>4</th>\n",
              "      <td>5</td>\n",
              "      <td>5급면제도 나랑사랑카드 발급하나요?</td>\n",
              "      <td>아이콘 노래 사랑을 했다 별로인것같은데</td>\n",
              "      <td>1</td>\n",
              "    </tr>\n",
              "    <tr>\n",
              "      <th>...</th>\n",
              "      <td>...</td>\n",
              "      <td>...</td>\n",
              "      <td>...</td>\n",
              "      <td>...</td>\n",
              "    </tr>\n",
              "    <tr>\n",
              "      <th>683</th>\n",
              "      <td>684</td>\n",
              "      <td>회사에서 짤릴 필이 와</td>\n",
              "      <td>나 회사 짤릴 거 같은데 어떻게 만회하지</td>\n",
              "      <td>0</td>\n",
              "    </tr>\n",
              "    <tr>\n",
              "      <th>684</th>\n",
              "      <td>685</td>\n",
              "      <td>효율적으로 공부하는 방법</td>\n",
              "      <td>새 해 결심 뭐였더라</td>\n",
              "      <td>1</td>\n",
              "    </tr>\n",
              "    <tr>\n",
              "      <th>685</th>\n",
              "      <td>686</td>\n",
              "      <td>휴대폰 액정 깨졌어</td>\n",
              "      <td>액정 깨짐</td>\n",
              "      <td>0</td>\n",
              "    </tr>\n",
              "    <tr>\n",
              "      <th>686</th>\n",
              "      <td>687</td>\n",
              "      <td>힘든 일이 너무 많아요</td>\n",
              "      <td>괜찮아 천천히 해도 돼</td>\n",
              "      <td>1</td>\n",
              "    </tr>\n",
              "    <tr>\n",
              "      <th>687</th>\n",
              "      <td>688</td>\n",
              "      <td>AI도 감정 있나?</td>\n",
              "      <td>이런 감정은 처음인데 설레네</td>\n",
              "      <td>1</td>\n",
              "    </tr>\n",
              "  </tbody>\n",
              "</table>\n",
              "<p>688 rows × 4 columns</p>\n",
              "</div>"
            ],
            "text/plain": [
              "     test_id            question1               question2  is_duplicate\n",
              "0          1          21살의 사랑에 대해      사랑을 노력한다는게 말이 되나요?             1\n",
              "1          2            2년 가량의 연애                  2년 만났어             0\n",
              "2          3          2년 만난 기념일이야         우리 벌써 2년 동안 사궜어             0\n",
              "3          4       2년 사귀었는데 결혼하려고       2년째 짝사랑하는 사람이 있어.             1\n",
              "4          5  5급면제도 나랑사랑카드 발급하나요?   아이콘 노래 사랑을 했다 별로인것같은데             1\n",
              "..       ...                  ...                     ...           ...\n",
              "683      684         회사에서 짤릴 필이 와  나 회사 짤릴 거 같은데 어떻게 만회하지             0\n",
              "684      685        효율적으로 공부하는 방법             새 해 결심 뭐였더라             1\n",
              "685      686           휴대폰 액정 깨졌어                   액정 깨짐             0\n",
              "686      687         힘든 일이 너무 많아요            괜찮아 천천히 해도 돼             1\n",
              "687      688           AI도 감정 있나?         이런 감정은 처음인데 설레네             1\n",
              "\n",
              "[688 rows x 4 columns]"
            ]
          },
          "metadata": {
            "tags": []
          },
          "execution_count": 95
        }
      ]
    },
    {
      "cell_type": "code",
      "metadata": {
        "id": "kXcHn9p4q3aE",
        "colab": {
          "base_uri": "https://localhost:8080/",
          "height": 419
        },
        "outputId": "8105ebb0-ddb8-4c5f-e34e-f493a92d9738"
      },
      "source": [
        "df_test = df_test.dropna()\n",
        "df_test"
      ],
      "execution_count": 96,
      "outputs": [
        {
          "output_type": "execute_result",
          "data": {
            "text/html": [
              "<div>\n",
              "<style scoped>\n",
              "    .dataframe tbody tr th:only-of-type {\n",
              "        vertical-align: middle;\n",
              "    }\n",
              "\n",
              "    .dataframe tbody tr th {\n",
              "        vertical-align: top;\n",
              "    }\n",
              "\n",
              "    .dataframe thead th {\n",
              "        text-align: right;\n",
              "    }\n",
              "</style>\n",
              "<table border=\"1\" class=\"dataframe\">\n",
              "  <thead>\n",
              "    <tr style=\"text-align: right;\">\n",
              "      <th></th>\n",
              "      <th>test_id</th>\n",
              "      <th>question1</th>\n",
              "      <th>question2</th>\n",
              "      <th>is_duplicate</th>\n",
              "    </tr>\n",
              "  </thead>\n",
              "  <tbody>\n",
              "    <tr>\n",
              "      <th>0</th>\n",
              "      <td>1</td>\n",
              "      <td>21살의 사랑에 대해</td>\n",
              "      <td>사랑을 노력한다는게 말이 되나요?</td>\n",
              "      <td>1</td>\n",
              "    </tr>\n",
              "    <tr>\n",
              "      <th>1</th>\n",
              "      <td>2</td>\n",
              "      <td>2년 가량의 연애</td>\n",
              "      <td>2년 만났어</td>\n",
              "      <td>0</td>\n",
              "    </tr>\n",
              "    <tr>\n",
              "      <th>2</th>\n",
              "      <td>3</td>\n",
              "      <td>2년 만난 기념일이야</td>\n",
              "      <td>우리 벌써 2년 동안 사궜어</td>\n",
              "      <td>0</td>\n",
              "    </tr>\n",
              "    <tr>\n",
              "      <th>3</th>\n",
              "      <td>4</td>\n",
              "      <td>2년 사귀었는데 결혼하려고</td>\n",
              "      <td>2년째 짝사랑하는 사람이 있어.</td>\n",
              "      <td>1</td>\n",
              "    </tr>\n",
              "    <tr>\n",
              "      <th>4</th>\n",
              "      <td>5</td>\n",
              "      <td>5급면제도 나랑사랑카드 발급하나요?</td>\n",
              "      <td>아이콘 노래 사랑을 했다 별로인것같은데</td>\n",
              "      <td>1</td>\n",
              "    </tr>\n",
              "    <tr>\n",
              "      <th>...</th>\n",
              "      <td>...</td>\n",
              "      <td>...</td>\n",
              "      <td>...</td>\n",
              "      <td>...</td>\n",
              "    </tr>\n",
              "    <tr>\n",
              "      <th>683</th>\n",
              "      <td>684</td>\n",
              "      <td>회사에서 짤릴 필이 와</td>\n",
              "      <td>나 회사 짤릴 거 같은데 어떻게 만회하지</td>\n",
              "      <td>0</td>\n",
              "    </tr>\n",
              "    <tr>\n",
              "      <th>684</th>\n",
              "      <td>685</td>\n",
              "      <td>효율적으로 공부하는 방법</td>\n",
              "      <td>새 해 결심 뭐였더라</td>\n",
              "      <td>1</td>\n",
              "    </tr>\n",
              "    <tr>\n",
              "      <th>685</th>\n",
              "      <td>686</td>\n",
              "      <td>휴대폰 액정 깨졌어</td>\n",
              "      <td>액정 깨짐</td>\n",
              "      <td>0</td>\n",
              "    </tr>\n",
              "    <tr>\n",
              "      <th>686</th>\n",
              "      <td>687</td>\n",
              "      <td>힘든 일이 너무 많아요</td>\n",
              "      <td>괜찮아 천천히 해도 돼</td>\n",
              "      <td>1</td>\n",
              "    </tr>\n",
              "    <tr>\n",
              "      <th>687</th>\n",
              "      <td>688</td>\n",
              "      <td>AI도 감정 있나?</td>\n",
              "      <td>이런 감정은 처음인데 설레네</td>\n",
              "      <td>1</td>\n",
              "    </tr>\n",
              "  </tbody>\n",
              "</table>\n",
              "<p>688 rows × 4 columns</p>\n",
              "</div>"
            ],
            "text/plain": [
              "     test_id            question1               question2  is_duplicate\n",
              "0          1          21살의 사랑에 대해      사랑을 노력한다는게 말이 되나요?             1\n",
              "1          2            2년 가량의 연애                  2년 만났어             0\n",
              "2          3          2년 만난 기념일이야         우리 벌써 2년 동안 사궜어             0\n",
              "3          4       2년 사귀었는데 결혼하려고       2년째 짝사랑하는 사람이 있어.             1\n",
              "4          5  5급면제도 나랑사랑카드 발급하나요?   아이콘 노래 사랑을 했다 별로인것같은데             1\n",
              "..       ...                  ...                     ...           ...\n",
              "683      684         회사에서 짤릴 필이 와  나 회사 짤릴 거 같은데 어떻게 만회하지             0\n",
              "684      685        효율적으로 공부하는 방법             새 해 결심 뭐였더라             1\n",
              "685      686           휴대폰 액정 깨졌어                   액정 깨짐             0\n",
              "686      687         힘든 일이 너무 많아요            괜찮아 천천히 해도 돼             1\n",
              "687      688           AI도 감정 있나?         이런 감정은 처음인데 설레네             1\n",
              "\n",
              "[688 rows x 4 columns]"
            ]
          },
          "metadata": {
            "tags": []
          },
          "execution_count": 96
        }
      ]
    },
    {
      "cell_type": "code",
      "metadata": {
        "id": "pl2JDf6Aq3aF"
      },
      "source": [
        "def load_data(df, n_seq_1, n_seq_2):\n",
        "    \"\"\"\n",
        "    Quora 학습 데이터 생성\n",
        "    :param df: data frame\n",
        "    :param n_seq_1: number of sequence 1\n",
        "    :param n_seq_2: number of sequence 2\n",
        "    :return inputs_1: input data 1\n",
        "    :return inputs_2: input data 2\n",
        "    :return labels: label data\n",
        "    \"\"\"\n",
        "    inputs_1 = np.zeros((len(df), n_seq_1)).astype(np.int32)\n",
        "    inputs_2 = np.zeros((len(df), n_seq_2)).astype(np.int32)\n",
        "    labels = np.zeros((len(df),))\n",
        "    index = 0\n",
        "    for i, row in tqdm(df.iterrows(), total=len(df)):\n",
        "        # tokens 저장\n",
        "        # print()\n",
        "        is_duplicate = row['is_duplicate']\n",
        "        question1 = row['question1']\n",
        "        question2 = row['question2']\n",
        "        # print(is_duplicate, question1, question2)\n",
        "\n",
        "        tokens_1 = vocab.encode_as_pieces(question1)\n",
        "        # print(len(tokens_1), ':', tokens_1)\n",
        "        tokens_2 = vocab.encode_as_pieces(question2)\n",
        "        # print(len(tokens_2), ':', tokens_2)\n",
        "\n",
        "        token_ids_1 = vocab.encode_as_ids(question1)\n",
        "        # print(len(token_ids_1), ':', token_ids_1)\n",
        "        token_ids_2 = vocab.encode_as_ids(question2)\n",
        "        # print(len(token_ids_2), ':', token_ids_2)\n",
        "\n",
        "        token_ids_1 = token_ids_1[:n_seq_1]\n",
        "        # print(len(token_ids_1), ':', token_ids_1)\n",
        "        token_ids_2 = token_ids_2[:n_seq_2]\n",
        "        # print(len(token_ids_2), ':', token_ids_2)\n",
        "\n",
        "        token_ids_1 += [0] * (n_seq_1 - len(token_ids_1))\n",
        "        # print(len(token_ids_1), ':', token_ids_1)\n",
        "        token_ids_2 += [0] * (n_seq_2 - len(token_ids_2))\n",
        "        # print(len(token_ids_2), ':', token_ids_2)\n",
        "\n",
        "        labels[index] = 1 - is_duplicate  # 0 -> 1, 1 -> 0\n",
        "        inputs_1[index] = token_ids_1\n",
        "        inputs_2[index] = token_ids_2\n",
        "        index += 1\n",
        "    return inputs_1, inputs_2, labels"
      ],
      "execution_count": 97,
      "outputs": []
    },
    {
      "cell_type": "code",
      "metadata": {
        "id": "f5cu4GTFq3aF",
        "colab": {
          "base_uri": "https://localhost:8080/",
          "height": 337,
          "referenced_widgets": [
            "a93a2c34c9744e4dadb9c24bbe46c095",
            "30345edd567b4d52b19a84f818365ee2",
            "3b940be3c441401488f02f2cb857a4e5",
            "770be04018b341d780f66c595acd0173",
            "01debd931c56474cb976335936145d7e",
            "db734aaff0a042e19c266baa913b3cd0",
            "3455c48f2a7d4b33ba25afc0c6cfcabc",
            "ad6f27aabd2841ecbe164047d42d3584"
          ]
        },
        "outputId": "854cdef1-a121-4338-8c8f-b548fe53c8e5"
      },
      "source": [
        "# train data 생성\n",
        "train_inputs_1, train_inputs_2, train_labels = load_data(df_train, n_seq_1, n_seq_2)\n",
        "train_inputs_1, train_inputs_2, train_labels"
      ],
      "execution_count": 98,
      "outputs": [
        {
          "output_type": "display_data",
          "data": {
            "application/vnd.jupyter.widget-view+json": {
              "model_id": "a93a2c34c9744e4dadb9c24bbe46c095",
              "version_minor": 0,
              "version_major": 2
            },
            "text/plain": [
              "HBox(children=(FloatProgress(value=0.0, max=6888.0), HTML(value='')))"
            ]
          },
          "metadata": {
            "tags": []
          }
        },
        {
          "output_type": "stream",
          "text": [
            "\n"
          ],
          "name": "stdout"
        },
        {
          "output_type": "execute_result",
          "data": {
            "text/plain": [
              "(array([[ 3800,    26,  7314, ...,     0,     0,     0],\n",
              "        [   67,    15,  8256, ...,     0,     0,     0],\n",
              "        [   67,    15,    62, ...,     0,     0,     0],\n",
              "        ...,\n",
              "        [17834,    10,    20, ...,     0,     0,     0],\n",
              "        [17834,  1151,  4468, ...,     0,     0,     0],\n",
              "        [ 2067, 17548,    22, ...,     0,     0,     0]], dtype=int32),\n",
              " array([[   67,    15, 13442, ...,     0,     0,     0],\n",
              "        [   67,    15,   218, ...,     0,     0,     0],\n",
              "        [  242,    15,    85, ...,     0,     0,     0],\n",
              "        ...,\n",
              "        [ 5135, 29356,    29, ...,     0,     0,     0],\n",
              "        [17834,  1151,  4468, ...,     0,     0,     0],\n",
              "        [ 5135,    13, 20337, ...,     0,     0,     0]], dtype=int32),\n",
              " array([0., 0., 0., ..., 0., 1., 0.]))"
            ]
          },
          "metadata": {
            "tags": []
          },
          "execution_count": 98
        }
      ]
    },
    {
      "cell_type": "code",
      "metadata": {
        "id": "wAc54dMJq3aF",
        "colab": {
          "base_uri": "https://localhost:8080/",
          "height": 1000,
          "referenced_widgets": [
            "0593c6b1716d4a2aa21ed2f4c1b4ac75",
            "29c13c24bb854986abf15f5d0127bcce",
            "fabf637d039b472a9c27da7460e58886",
            "13a419753162426184ea068e0794cfd8",
            "3b2ac768d13844ac9deca42e4ce24b68",
            "a7adee6596b742bdbe3a6204220bad4d",
            "881474ab74aa4f43a647ef40fd6f2990",
            "eb972452552649d1810b1d6e35870e6e"
          ]
        },
        "outputId": "f809bb97-0351-4892-ac12-4c2cd3bee07b"
      },
      "source": [
        "# test data 생성\n",
        "test_inputs_1, test_inputs_2, test_labels = load_data(df_test, n_seq_1, n_seq_2)\n",
        "test_inputs_1, test_inputs_2, test_labels"
      ],
      "execution_count": 99,
      "outputs": [
        {
          "output_type": "display_data",
          "data": {
            "application/vnd.jupyter.widget-view+json": {
              "model_id": "0593c6b1716d4a2aa21ed2f4c1b4ac75",
              "version_minor": 0,
              "version_major": 2
            },
            "text/plain": [
              "HBox(children=(FloatProgress(value=0.0, max=688.0), HTML(value='')))"
            ]
          },
          "metadata": {
            "tags": []
          }
        },
        {
          "output_type": "stream",
          "text": [
            "\n"
          ],
          "name": "stdout"
        },
        {
          "output_type": "execute_result",
          "data": {
            "text/plain": [
              "(array([[  513,   704,     9, ...,     0,     0,     0],\n",
              "        [   36,    15,  5657, ...,     0,     0,     0],\n",
              "        [   36,    15,  7314, ...,     0,     0,     0],\n",
              "        ...,\n",
              "        [22848, 27427,  4221, ...,     0,     0,     0],\n",
              "        [10736,  2101,  2329, ...,     0,     0,     0],\n",
              "        [17194,    32,  3971, ...,     0,     0,     0]], dtype=int32),\n",
              " array([[ 5775,  2184,  1973, ...,     0,     0,     0],\n",
              "        [   36,    15, 10711, ...,     0,     0,     0],\n",
              "        [ 1680, 29038,    36, ...,     0,     0,     0],\n",
              "        ...,\n",
              "        [27427,  4221,  4418, ...,     0,     0,     0],\n",
              "        [22827,   141, 17629, ...,     0,     0,     0],\n",
              "        [ 1001,  3971,    18, ...,     0,     0,     0]], dtype=int32),\n",
              " array([0., 1., 1., 0., 0., 0., 1., 0., 0., 0., 1., 0., 1., 0., 0., 1., 1.,\n",
              "        1., 1., 0., 1., 0., 0., 1., 1., 0., 0., 0., 1., 1., 0., 0., 1., 1.,\n",
              "        1., 0., 0., 0., 1., 0., 0., 0., 0., 1., 0., 1., 0., 1., 0., 0., 1.,\n",
              "        1., 0., 1., 0., 1., 1., 0., 1., 1., 1., 0., 1., 0., 0., 0., 0., 0.,\n",
              "        1., 0., 1., 1., 1., 0., 1., 1., 1., 0., 1., 1., 1., 1., 1., 1., 1.,\n",
              "        0., 1., 1., 0., 0., 1., 1., 1., 1., 1., 0., 1., 0., 0., 1., 1., 1.,\n",
              "        0., 1., 1., 1., 0., 0., 0., 1., 1., 0., 0., 1., 1., 1., 1., 0., 1.,\n",
              "        1., 0., 1., 1., 1., 0., 0., 1., 1., 0., 0., 1., 0., 0., 0., 1., 1.,\n",
              "        0., 0., 0., 0., 1., 0., 0., 0., 0., 0., 0., 0., 1., 1., 0., 0., 1.,\n",
              "        1., 1., 1., 1., 1., 0., 1., 1., 1., 0., 1., 1., 1., 1., 0., 0., 1.,\n",
              "        1., 1., 1., 1., 1., 1., 0., 1., 1., 0., 1., 0., 0., 0., 1., 1., 0.,\n",
              "        0., 0., 0., 1., 1., 0., 0., 1., 0., 0., 0., 1., 0., 1., 0., 0., 1.,\n",
              "        1., 1., 0., 0., 1., 1., 0., 1., 1., 0., 1., 0., 0., 1., 0., 0., 1.,\n",
              "        0., 1., 0., 0., 1., 1., 1., 1., 0., 1., 0., 0., 1., 1., 1., 1., 1.,\n",
              "        0., 1., 0., 1., 1., 0., 1., 1., 0., 1., 1., 0., 1., 1., 1., 1., 1.,\n",
              "        0., 1., 1., 1., 1., 1., 0., 1., 0., 0., 0., 0., 1., 1., 0., 0., 0.,\n",
              "        1., 0., 1., 0., 0., 0., 0., 0., 0., 0., 1., 0., 0., 1., 0., 0., 0.,\n",
              "        0., 1., 0., 1., 0., 1., 0., 1., 0., 0., 0., 1., 1., 1., 1., 1., 1.,\n",
              "        1., 0., 0., 1., 1., 0., 1., 0., 1., 0., 1., 1., 0., 0., 0., 0., 1.,\n",
              "        1., 1., 0., 1., 0., 1., 1., 1., 1., 0., 1., 1., 1., 0., 1., 0., 1.,\n",
              "        1., 1., 0., 0., 0., 1., 0., 1., 1., 1., 1., 1., 1., 0., 1., 0., 1.,\n",
              "        1., 0., 0., 0., 0., 1., 0., 1., 1., 0., 1., 0., 0., 0., 0., 1., 0.,\n",
              "        0., 0., 1., 0., 0., 1., 0., 0., 0., 0., 0., 0., 1., 1., 1., 0., 0.,\n",
              "        1., 0., 1., 0., 0., 1., 0., 0., 0., 1., 1., 0., 0., 0., 0., 1., 1.,\n",
              "        0., 0., 0., 0., 1., 0., 1., 1., 1., 1., 1., 0., 1., 1., 1., 0., 1.,\n",
              "        0., 1., 0., 1., 1., 0., 0., 1., 1., 1., 1., 0., 1., 1., 1., 1., 0.,\n",
              "        0., 1., 0., 1., 0., 0., 1., 0., 0., 0., 0., 0., 1., 1., 0., 0., 0.,\n",
              "        0., 0., 1., 0., 1., 0., 1., 0., 1., 0., 0., 0., 0., 1., 1., 1., 1.,\n",
              "        0., 1., 1., 1., 1., 0., 0., 1., 1., 1., 0., 1., 0., 0., 1., 0., 0.,\n",
              "        1., 0., 0., 1., 1., 0., 0., 1., 0., 0., 0., 0., 0., 1., 0., 1., 0.,\n",
              "        0., 1., 0., 1., 1., 1., 0., 1., 1., 1., 0., 1., 1., 0., 0., 0., 1.,\n",
              "        1., 0., 1., 1., 0., 0., 0., 1., 1., 1., 1., 1., 1., 0., 0., 0., 1.,\n",
              "        1., 0., 0., 0., 0., 1., 0., 1., 1., 1., 1., 1., 0., 0., 0., 0., 1.,\n",
              "        1., 0., 1., 1., 0., 1., 0., 0., 0., 0., 0., 1., 0., 1., 1., 1., 1.,\n",
              "        1., 1., 1., 0., 1., 0., 1., 1., 0., 1., 0., 0., 1., 0., 1., 1., 1.,\n",
              "        0., 1., 1., 0., 1., 1., 0., 0., 1., 0., 0., 1., 1., 1., 1., 1., 1.,\n",
              "        1., 0., 0., 0., 1., 1., 1., 1., 0., 0., 1., 1., 1., 0., 0., 1., 1.,\n",
              "        0., 1., 0., 0., 0., 1., 0., 1., 1., 1., 0., 0., 0., 0., 1., 0., 1.,\n",
              "        1., 0., 1., 1., 1., 0., 0., 1., 1., 1., 0., 0., 1., 1., 0., 0., 0.,\n",
              "        1., 0., 1., 1., 0., 0., 1., 1., 1., 1., 1., 1., 0., 0., 0., 1., 0.,\n",
              "        0., 1., 1., 1., 0., 1., 0., 0.]))"
            ]
          },
          "metadata": {
            "tags": []
          },
          "execution_count": 99
        }
      ]
    },
    {
      "cell_type": "markdown",
      "metadata": {
        "id": "wMPwmL79q3aG"
      },
      "source": [
        "## 학습"
      ]
    },
    {
      "cell_type": "code",
      "metadata": {
        "id": "dFNqEE0Bq3aG",
        "colab": {
          "base_uri": "https://localhost:8080/",
          "height": 1000
        },
        "outputId": "5a32358d-74fe-46c8-eda1-16d48f09496e"
      },
      "source": [
        "# 모델 생성\n",
        "model = build_model(len(vocab), d_model, n_seq_1, n_seq_2)\n",
        "# 모델 내용 그래프 출력\n",
        "tf.keras.utils.plot_model(model, 'model.png', show_shapes=True)"
      ],
      "execution_count": 100,
      "outputs": [
        {
          "output_type": "execute_result",
          "data": {
            "image/png": "[encoded data removed]",
            "text/plain": [
              "<IPython.core.display.Image object>"
            ]
          },
          "metadata": {
            "tags": []
          },
          "execution_count": 100
        }
      ]
    },
    {
      "cell_type": "code",
      "metadata": {
        "id": "jQIP_O8Dq3aG"
      },
      "source": [
        "# 모델 loss, optimizer, metric 정의\n",
        "model.compile(loss='mean_squared_error', optimizer='adam', metrics=['binary_accuracy'])"
      ],
      "execution_count": 101,
      "outputs": []
    },
    {
      "cell_type": "code",
      "metadata": {
        "id": "P8Kb7jHvq3aG"
      },
      "source": [
        "# early stopping\n",
        "early_stopping = tf.keras.callbacks.EarlyStopping(monitor='val_binary_accuracy', patience=5)\n",
        "# save weights callback\n",
        "save_weights = tf.keras.callbacks.ModelCheckpoint(os.path.join(quora_dir, 'stub.hdf5'),\n",
        "                                                  monitor='val_binary_accuracy',\n",
        "                                                  verbose=1,\n",
        "                                                  save_best_only=True,\n",
        "                                                  mode=\"max\",\n",
        "                                                  save_freq=\"epoch\",\n",
        "                                                  save_weights_only=True)\n",
        "# csv logger\n",
        "csv_logger = tf.keras.callbacks.CSVLogger(os.path.join(quora_dir, 'stub.csv'))"
      ],
      "execution_count": 102,
      "outputs": []
    },
    {
      "cell_type": "code",
      "metadata": {
        "id": "DU7VaxEcq3aG",
        "colab": {
          "base_uri": "https://localhost:8080/"
        },
        "outputId": "7fcd5e8a-f90e-4dc7-be01-82c4b5083e7e"
      },
      "source": [
        "# 모델 학습\n",
        "history = model.fit((train_inputs_1, train_inputs_2),\n",
        "                    train_labels,\n",
        "                    validation_data=((test_inputs_1, test_inputs_2), test_labels),\n",
        "                    epochs=100,\n",
        "                    batch_size=256,\n",
        "                    callbacks=[early_stopping, save_weights, csv_logger])"
      ],
      "execution_count": 103,
      "outputs": [
        {
          "output_type": "stream",
          "text": [
            "Epoch 1/100\n",
            "27/27 [==============================] - 12s 226ms/step - loss: 0.3486 - binary_accuracy: 0.5051 - val_loss: 0.2409 - val_binary_accuracy: 0.5553\n",
            "\n",
            "Epoch 00001: val_binary_accuracy improved from -inf to 0.55528, saving model to /content/drive/MyDrive/자연어처리(NLP)/data/quora/stub.hdf5\n",
            "Epoch 2/100\n",
            "27/27 [==============================] - 5s 169ms/step - loss: 0.1269 - binary_accuracy: 0.8642 - val_loss: 0.2383 - val_binary_accuracy: 0.6080\n",
            "\n",
            "Epoch 00002: val_binary_accuracy improved from 0.55528 to 0.60795, saving model to /content/drive/MyDrive/자연어처리(NLP)/data/quora/stub.hdf5\n",
            "Epoch 3/100\n",
            "27/27 [==============================] - 4s 167ms/step - loss: 0.0738 - binary_accuracy: 0.9409 - val_loss: 0.2394 - val_binary_accuracy: 0.5934\n",
            "\n",
            "Epoch 00003: val_binary_accuracy did not improve from 0.60795\n",
            "Epoch 4/100\n",
            "27/27 [==============================] - 5s 170ms/step - loss: 0.0480 - binary_accuracy: 0.9691 - val_loss: 0.2408 - val_binary_accuracy: 0.6164\n",
            "\n",
            "Epoch 00004: val_binary_accuracy improved from 0.60795 to 0.61636, saving model to /content/drive/MyDrive/자연어처리(NLP)/data/quora/stub.hdf5\n",
            "Epoch 5/100\n",
            "27/27 [==============================] - 4s 165ms/step - loss: 0.0327 - binary_accuracy: 0.9809 - val_loss: 0.2396 - val_binary_accuracy: 0.6185\n",
            "\n",
            "Epoch 00005: val_binary_accuracy improved from 0.61636 to 0.61849, saving model to /content/drive/MyDrive/자연어처리(NLP)/data/quora/stub.hdf5\n",
            "Epoch 6/100\n",
            "27/27 [==============================] - 5s 167ms/step - loss: 0.0264 - binary_accuracy: 0.9836 - val_loss: 0.2445 - val_binary_accuracy: 0.6197\n",
            "\n",
            "Epoch 00006: val_binary_accuracy improved from 0.61849 to 0.61967, saving model to /content/drive/MyDrive/자연어처리(NLP)/data/quora/stub.hdf5\n",
            "Epoch 7/100\n",
            "27/27 [==============================] - 4s 165ms/step - loss: 0.0207 - binary_accuracy: 0.9876 - val_loss: 0.2521 - val_binary_accuracy: 0.6201\n",
            "\n",
            "Epoch 00007: val_binary_accuracy improved from 0.61967 to 0.62015, saving model to /content/drive/MyDrive/자연어처리(NLP)/data/quora/stub.hdf5\n",
            "Epoch 8/100\n",
            "27/27 [==============================] - 5s 168ms/step - loss: 0.0198 - binary_accuracy: 0.9883 - val_loss: 0.2534 - val_binary_accuracy: 0.6171\n",
            "\n",
            "Epoch 00008: val_binary_accuracy did not improve from 0.62015\n",
            "Epoch 9/100\n",
            "27/27 [==============================] - 5s 174ms/step - loss: 0.0152 - binary_accuracy: 0.9920 - val_loss: 0.2515 - val_binary_accuracy: 0.6254\n",
            "\n",
            "Epoch 00009: val_binary_accuracy improved from 0.62015 to 0.62536, saving model to /content/drive/MyDrive/자연어처리(NLP)/data/quora/stub.hdf5\n",
            "Epoch 10/100\n",
            "27/27 [==============================] - 5s 174ms/step - loss: 0.0133 - binary_accuracy: 0.9944 - val_loss: 0.2490 - val_binary_accuracy: 0.6406\n",
            "\n",
            "Epoch 00010: val_binary_accuracy improved from 0.62536 to 0.64062, saving model to /content/drive/MyDrive/자연어처리(NLP)/data/quora/stub.hdf5\n",
            "Epoch 11/100\n",
            "27/27 [==============================] - 5s 170ms/step - loss: 0.0116 - binary_accuracy: 0.9937 - val_loss: 0.2588 - val_binary_accuracy: 0.6207\n",
            "\n",
            "Epoch 00011: val_binary_accuracy did not improve from 0.64062\n",
            "Epoch 12/100\n",
            "27/27 [==============================] - 5s 169ms/step - loss: 0.0381 - binary_accuracy: 0.9635 - val_loss: 0.3455 - val_binary_accuracy: 0.5803\n",
            "\n",
            "Epoch 00012: val_binary_accuracy did not improve from 0.64062\n",
            "Epoch 13/100\n",
            "27/27 [==============================] - 4s 165ms/step - loss: 0.1745 - binary_accuracy: 0.7992 - val_loss: 0.2329 - val_binary_accuracy: 0.6261\n",
            "\n",
            "Epoch 00013: val_binary_accuracy did not improve from 0.64062\n",
            "Epoch 14/100\n",
            "27/27 [==============================] - 4s 166ms/step - loss: 0.0356 - binary_accuracy: 0.9828 - val_loss: 0.2528 - val_binary_accuracy: 0.6072\n",
            "\n",
            "Epoch 00014: val_binary_accuracy did not improve from 0.64062\n",
            "Epoch 15/100\n",
            "27/27 [==============================] - 4s 166ms/step - loss: 0.0212 - binary_accuracy: 0.9910 - val_loss: 0.2575 - val_binary_accuracy: 0.6168\n",
            "\n",
            "Epoch 00015: val_binary_accuracy did not improve from 0.64062\n"
          ],
          "name": "stdout"
        }
      ]
    },
    {
      "cell_type": "code",
      "metadata": {
        "id": "6jigtzHxq3aG",
        "colab": {
          "base_uri": "https://localhost:8080/",
          "height": 279
        },
        "outputId": "47a44eaf-aa1c-40b8-a113-71f5691ab924"
      },
      "source": [
        "plt.figure(figsize=(12, 4))\n",
        "\n",
        "plt.subplot(1, 2, 1)\n",
        "plt.plot(history.history['loss'], 'b-', label='loss')\n",
        "plt.plot(history.history['val_loss'], 'r--', label='val_loss')\n",
        "plt.xlabel('Epoch')\n",
        "plt.legend()\n",
        "\n",
        "plt.subplot(1, 2, 2)\n",
        "plt.plot(history.history['binary_accuracy'], 'g-', label='acc')\n",
        "plt.plot(history.history['val_binary_accuracy'], 'k--', label='val_acc')\n",
        "plt.xlabel('Epoch')\n",
        "plt.legend()\n",
        "\n",
        "plt.show()"
      ],
      "execution_count": 104,
      "outputs": [
        {
          "output_type": "display_data",
          "data": {
            "image/png": "[encoded data removed]",
            "text/plain": [
              "<Figure size 864x288 with 2 Axes>"
            ]
          },
          "metadata": {
            "tags": [],
            "needs_background": "light"
          }
        }
      ]
    },
    {
      "cell_type": "markdown",
      "metadata": {
        "id": "jTN2yeNEq3aI"
      },
      "source": [
        "## Inference"
      ]
    },
    {
      "cell_type": "code",
      "metadata": {
        "id": "iSWxgN2iq3aI"
      },
      "source": [
        "# 모델 생성\n",
        "model = build_model(len(vocab), d_model, n_seq_1, n_seq_2)\n",
        "# train weight로 초기화\n",
        "model.load_weights(os.path.join(quora_dir, 'stub.hdf5'))"
      ],
      "execution_count": 105,
      "outputs": []
    },
    {
      "cell_type": "code",
      "metadata": {
        "id": "i0nmHeRbq3aI",
        "colab": {
          "base_uri": "https://localhost:8080/"
        },
        "outputId": "27022fb4-eb07-4389-bfa7-198652ec4862"
      },
      "source": [
        "# 예측\n",
        "logits = model.predict((test_inputs_1, test_inputs_2))\n",
        "logits"
      ],
      "execution_count": 106,
      "outputs": [
        {
          "output_type": "execute_result",
          "data": {
            "text/plain": [
              "array([2.85376515e-02, 8.63434225e-02, 7.11657181e-02, 4.30844665e-01,\n",
              "       2.95094967e-01, 6.83766711e-16, 8.72222602e-01, 7.17073679e-01,\n",
              "       7.34585404e-01, 7.71544278e-01, 5.76098382e-01, 3.91267180e-01,\n",
              "       7.16437399e-01, 6.34270115e-03, 1.25715311e-03, 5.15221894e-01,\n",
              "       4.17840570e-01, 7.09998190e-01, 7.98864305e-01, 8.52827430e-01,\n",
              "       4.52637613e-01, 4.27263498e-01, 7.73037195e-01, 6.99603736e-01,\n",
              "       8.80742490e-01, 5.97095609e-01, 0.00000000e+00, 7.75341511e-01,\n",
              "       6.94044352e-01, 9.03751969e-01, 1.12453701e-04, 6.46954238e-01,\n",
              "       7.44540274e-01, 9.09189761e-01, 8.60739172e-01, 8.33182275e-01,\n",
              "       7.72057891e-01, 7.56631255e-01, 8.43779981e-01, 8.97270918e-01,\n",
              "       5.12914658e-01, 6.99012995e-01, 1.00329369e-01, 7.20832705e-01,\n",
              "       7.46472413e-03, 1.00354904e-04, 1.98142424e-01, 9.94567692e-01,\n",
              "       7.26904154e-01, 5.91704845e-01, 6.11341834e-01, 8.38776767e-01,\n",
              "       7.50367297e-03, 8.33244026e-01, 8.39030325e-01, 7.46876597e-01,\n",
              "       5.80489397e-01, 6.79410636e-01, 7.38831520e-01, 7.27842987e-01,\n",
              "       8.38331103e-01, 8.09840620e-01, 6.49921596e-01, 2.95278579e-01,\n",
              "       6.74494863e-01, 7.66617596e-01, 1.07812295e-02, 5.28984487e-01,\n",
              "       6.76654100e-01, 7.38320172e-01, 7.65984595e-01, 8.32299709e-01,\n",
              "       8.62831712e-01, 8.57305169e-01, 8.40313137e-01, 8.05725873e-01,\n",
              "       7.26358771e-01, 4.66316789e-01, 7.05987632e-01, 7.30552673e-01,\n",
              "       6.90779328e-01, 7.88862944e-01, 7.93301523e-01, 8.04053128e-01,\n",
              "       8.31599236e-01, 6.67694867e-01, 6.87780917e-01, 8.02046657e-01,\n",
              "       6.39927983e-01, 8.62185597e-01, 7.73337960e-01, 1.40198097e-01,\n",
              "       7.38263726e-01, 9.18579519e-01, 1.75078422e-01, 4.82929170e-01,\n",
              "       6.12443805e-01, 5.04982650e-01, 3.93165886e-01, 8.38394403e-01,\n",
              "       7.92870104e-01, 6.97260261e-01, 8.78145039e-01, 7.59786427e-01,\n",
              "       8.83582473e-01, 7.08668947e-01, 8.55948865e-01, 3.86021554e-01,\n",
              "       2.64954805e-01, 4.62540895e-01, 2.90543735e-01, 6.23398602e-01,\n",
              "       4.04965550e-01, 8.31212044e-01, 8.85947585e-01, 2.85175443e-03,\n",
              "       1.09065078e-01, 4.29497808e-02, 7.22645581e-01, 3.24917138e-01,\n",
              "       0.00000000e+00, 8.17000985e-01, 1.38055794e-02, 8.46090376e-01,\n",
              "       7.87111998e-01, 8.70270073e-01, 8.62405837e-01, 8.01536441e-01,\n",
              "       7.97965586e-01, 4.82737184e-01, 7.65380323e-01, 2.49154091e-01,\n",
              "       4.65234250e-01, 6.39448225e-01, 8.90994251e-01, 1.25813201e-01,\n",
              "       2.71582371e-03, 6.27912760e-01, 4.97428358e-01, 7.23080575e-01,\n",
              "       6.88738227e-01, 3.23625369e-04, 8.48025560e-01, 6.94061756e-01,\n",
              "       1.53821602e-01, 3.54350428e-03, 5.61596394e-01, 4.48797077e-01,\n",
              "       1.72093183e-01, 7.45216191e-01, 5.38094580e-01, 7.84493685e-01,\n",
              "       9.94420648e-01, 8.01558316e-01, 9.94297385e-01, 9.41359699e-01,\n",
              "       9.22922790e-01, 1.19650029e-02, 7.14891434e-01, 5.44845164e-01,\n",
              "       1.32677108e-01, 2.33287334e-01, 8.60160053e-01, 7.70359933e-01,\n",
              "       5.45248270e-01, 7.94373393e-01, 7.72333264e-01, 5.49545884e-01,\n",
              "       6.51363909e-01, 9.08190370e-01, 7.54627943e-01, 9.23802316e-01,\n",
              "       8.04715037e-01, 7.69215643e-01, 8.07100713e-01, 8.81623685e-01,\n",
              "       3.73441875e-01, 8.01761687e-01, 9.50844407e-01, 8.83592546e-01,\n",
              "       8.57710719e-01, 0.00000000e+00, 8.09433758e-01, 8.29293370e-01,\n",
              "       8.74268889e-01, 6.72894776e-01, 7.26876915e-01, 8.15346122e-01,\n",
              "       2.31701121e-01, 3.49823713e-01, 6.91698015e-01, 4.24097866e-01,\n",
              "       1.55850619e-01, 7.82232583e-02, 7.77788401e-01, 3.59094514e-08,\n",
              "       0.00000000e+00, 8.25296521e-01, 7.39611387e-01, 3.04788738e-01,\n",
              "       8.89021456e-01, 7.51740515e-01, 1.35155946e-01, 7.48776019e-01,\n",
              "       8.73152852e-01, 8.89369130e-01, 2.15942577e-01, 8.78289342e-01,\n",
              "       8.60072315e-01, 9.19807971e-01, 0.00000000e+00, 8.01913559e-01,\n",
              "       8.59816372e-01, 8.51580560e-01, 8.71079326e-01, 8.56391013e-01,\n",
              "       7.14841604e-01, 7.72760808e-01, 8.17547560e-01, 8.77826475e-04,\n",
              "       7.97065854e-01, 7.90190935e-01, 3.24532352e-02, 8.96964014e-01,\n",
              "       7.27885842e-01, 7.81284928e-01, 8.16869557e-01, 6.48017108e-01,\n",
              "       8.89771223e-01, 7.22890556e-01, 3.45825590e-08, 8.69567871e-01,\n",
              "       8.32021356e-01, 7.68999934e-01, 8.47777486e-01, 5.39399087e-01,\n",
              "       8.93060207e-01, 8.51277590e-01, 7.82994449e-01, 8.03323567e-01,\n",
              "       7.87119091e-01, 7.59539604e-01, 5.41711271e-01, 4.45744768e-02,\n",
              "       8.86106730e-01, 6.20563507e-01, 0.00000000e+00, 7.56236196e-01,\n",
              "       3.24520677e-01, 2.71240920e-01, 6.21703565e-01, 4.83884007e-01,\n",
              "       7.56471097e-01, 8.57972801e-01, 2.96159983e-01, 7.04665601e-01,\n",
              "       8.62447679e-01, 9.38963652e-01, 8.24583530e-01, 6.90576077e-01,\n",
              "       8.92429590e-01, 7.54643142e-01, 8.63996446e-01, 6.03355944e-01,\n",
              "       6.69602990e-01, 6.24904275e-01, 7.70768464e-01, 4.96685684e-01,\n",
              "       6.79884195e-01, 4.61151637e-03, 8.39806139e-01, 4.76685137e-01,\n",
              "       5.88536337e-02, 5.99211454e-01, 5.16670942e-01, 1.18372478e-01,\n",
              "       2.87675053e-01, 8.46428275e-01, 6.49029970e-01, 4.99128282e-01,\n",
              "       1.36062633e-02, 8.00014019e-01, 8.27787757e-01, 6.78453565e-01,\n",
              "       1.31779760e-01, 8.67730260e-01, 7.24316612e-02, 3.05971563e-01,\n",
              "       7.70250440e-01, 6.91078246e-01, 4.10387397e-01, 6.81673408e-01,\n",
              "       7.16710448e-01, 1.65941700e-01, 8.37688506e-01, 9.62296966e-03,\n",
              "       8.85738552e-01, 7.28638947e-01, 6.35978580e-01, 1.65368527e-01,\n",
              "       9.27785337e-01, 8.62799644e-01, 9.42006886e-01, 9.70930576e-01,\n",
              "       9.01679099e-01, 8.72593224e-01, 9.28234577e-01, 8.26385081e-01,\n",
              "       2.42991541e-02, 8.22064340e-01, 7.83767462e-01, 4.72890198e-01,\n",
              "       7.20048428e-01, 5.93453348e-01, 7.56028593e-01, 9.22693074e-01,\n",
              "       7.14776337e-01, 9.32159722e-01, 7.91554987e-01, 6.95951998e-01,\n",
              "       4.31834906e-01, 8.38113725e-01, 8.24314117e-01, 6.31164312e-01,\n",
              "       8.40973020e-01, 7.75916278e-01, 7.01878428e-01, 2.39921272e-01,\n",
              "       9.53374803e-01, 1.81140060e-16, 7.23762155e-01, 6.06588364e-01,\n",
              "       6.38719618e-01, 5.10514498e-01, 7.46995628e-01, 8.32891762e-01,\n",
              "       6.19117081e-01, 8.49869013e-01, 6.99247494e-02, 9.14917827e-01,\n",
              "       8.93643856e-01, 8.93079281e-01, 8.29103351e-01, 6.58585131e-01,\n",
              "       8.32986772e-01, 7.68153906e-01, 8.06188703e-01, 7.46632457e-01,\n",
              "       8.35705340e-01, 7.97499299e-01, 8.76674533e-01, 7.01064706e-01,\n",
              "       6.26760185e-01, 8.16558421e-01, 2.14053228e-01, 0.00000000e+00,\n",
              "       8.44410419e-01, 7.93773353e-01, 6.52168334e-01, 0.00000000e+00,\n",
              "       3.90477300e-01, 7.73495615e-01, 6.31078184e-01, 8.55271339e-01,\n",
              "       4.40111697e-01, 8.95051181e-01, 3.17780674e-03, 6.46240890e-01,\n",
              "       6.72118366e-02, 7.56169204e-04, 8.58342230e-01, 6.46274269e-01,\n",
              "       6.16367161e-01, 6.69901848e-01, 7.17829689e-02, 8.56652915e-01,\n",
              "       9.06596005e-01, 5.81083357e-01, 6.50057554e-01, 9.00510252e-01,\n",
              "       8.32658112e-01, 7.74362266e-01, 8.17025483e-01, 8.15723777e-01,\n",
              "       6.60284281e-01, 6.72243118e-01, 7.24967182e-01, 8.52946162e-01,\n",
              "       8.63205492e-01, 8.08645248e-01, 1.86076716e-01, 4.13091451e-01,\n",
              "       7.77563095e-01, 9.67931390e-01, 6.06738508e-01, 3.63035381e-01,\n",
              "       5.30632019e-01, 1.90568864e-01, 9.13158357e-01, 6.96051896e-01,\n",
              "       6.69461310e-01, 9.24190402e-01, 2.20386282e-01, 3.67093176e-01,\n",
              "       7.21081853e-01, 7.05408990e-01, 7.35851169e-01, 1.47069052e-01,\n",
              "       5.91814518e-01, 6.90213978e-01, 6.98988259e-01, 5.38601279e-01,\n",
              "       7.82592535e-01, 3.05018812e-01, 7.97882259e-01, 7.80497611e-01,\n",
              "       1.43692777e-01, 9.39835608e-01, 0.00000000e+00, 7.63561904e-01,\n",
              "       9.16389287e-01, 8.88665378e-01, 8.74128222e-01, 6.87609196e-01,\n",
              "       7.37026215e-01, 7.44735479e-01, 8.54155481e-01, 6.43595040e-01,\n",
              "       3.96665126e-01, 9.14102137e-01, 5.82109332e-01, 3.61365043e-02,\n",
              "       9.02424976e-02, 6.82803869e-01, 5.81755042e-01, 5.99474311e-01,\n",
              "       7.19597280e-01, 7.20323622e-01, 7.43779480e-01, 7.70341098e-01,\n",
              "       8.03049803e-01, 5.47344171e-05, 1.66913997e-05, 8.20809603e-01,\n",
              "       3.98381829e-01, 8.48717034e-01, 8.94614279e-01, 7.94275641e-01,\n",
              "       7.88369119e-01, 7.74919391e-01, 9.13661003e-01, 8.62979472e-01,\n",
              "       7.26730943e-01, 5.71554959e-01, 6.86510682e-01, 6.94050789e-01,\n",
              "       8.00692737e-01, 7.30152488e-01, 4.79658833e-03, 1.59604639e-01,\n",
              "       7.44943976e-01, 8.09627295e-01, 6.90424919e-01, 1.77531838e-01,\n",
              "       3.13998103e-01, 5.63502431e-01, 5.46939433e-01, 8.25471103e-01,\n",
              "       6.15065575e-01, 6.05112500e-03, 3.45867807e-06, 7.64656425e-01,\n",
              "       2.97426701e-01, 9.07739460e-01, 6.93323135e-01, 2.54968315e-01,\n",
              "       6.41312003e-01, 9.96149421e-01, 9.44136798e-01, 8.79534245e-01,\n",
              "       7.66217113e-01, 8.56545448e-01, 0.00000000e+00, 9.32477057e-01,\n",
              "       5.56947172e-01, 8.86287570e-01, 1.26296449e-02, 8.73084486e-01,\n",
              "       7.92503178e-01, 7.42137372e-01, 8.05300415e-01, 3.67749482e-01,\n",
              "       7.71394551e-01, 7.15081155e-01, 8.50956738e-01, 7.85872400e-01,\n",
              "       5.62571645e-01, 7.44009256e-01, 8.14045370e-01, 1.51711563e-02,\n",
              "       8.78952086e-01, 1.33133247e-01, 3.48285632e-03, 8.12736094e-01,\n",
              "       7.90449560e-01, 5.02836645e-01, 7.36659110e-01, 8.66131723e-01,\n",
              "       7.36768126e-01, 8.62205982e-01, 8.85485470e-01, 8.91216874e-01,\n",
              "       8.66494954e-01, 9.04384494e-01, 9.31545198e-01, 7.88750350e-01,\n",
              "       4.46798731e-05, 9.10950422e-01, 5.85550785e-01, 6.55935764e-01,\n",
              "       4.77950722e-01, 6.42359376e-01, 8.82165313e-01, 9.19480473e-02,\n",
              "       7.35163271e-01, 4.41024154e-01, 9.31368828e-01, 8.17906618e-01,\n",
              "       8.32488358e-01, 7.72079468e-01, 2.92095661e-01, 7.16758728e-01,\n",
              "       2.91466713e-01, 3.87557745e-01, 7.53735363e-01, 7.50541329e-01,\n",
              "       6.22223914e-01, 7.77879179e-01, 7.30120420e-01, 8.35922837e-01,\n",
              "       7.94282973e-01, 7.53666222e-01, 8.00498605e-01, 7.48379946e-01,\n",
              "       6.47524595e-01, 7.01639056e-01, 8.12057078e-01, 5.69091737e-01,\n",
              "       5.48072040e-01, 9.42764819e-01, 6.42183781e-01, 1.05931617e-01,\n",
              "       9.06232476e-01, 7.57924199e-01, 8.91966939e-01, 8.19262862e-01,\n",
              "       8.06231081e-01, 4.29942399e-01, 8.47995520e-01, 2.95378059e-01,\n",
              "       8.25361013e-01, 8.45001459e-01, 4.87258583e-02, 8.75961959e-01,\n",
              "       4.12382573e-01, 8.61181200e-01, 7.41690397e-01, 3.32749218e-01,\n",
              "       6.15933061e-01, 7.29248226e-01, 8.14296246e-01, 7.17631578e-01,\n",
              "       6.51552320e-01, 8.45517039e-01, 7.79940963e-01, 4.77661490e-01,\n",
              "       8.28638792e-01, 8.68432879e-01, 6.57010138e-01, 7.09806561e-01,\n",
              "       7.26192355e-01, 8.90469328e-02, 7.95247793e-01, 1.16968095e-01,\n",
              "       6.25304699e-01, 7.21581578e-01, 2.30634570e-01, 7.23083258e-01,\n",
              "       7.30394006e-01, 1.96176060e-02, 5.94600320e-01, 3.47281992e-03,\n",
              "       2.20768177e-03, 9.14536476e-01, 7.44747162e-01, 6.73715532e-01,\n",
              "       7.04004228e-01, 7.95212030e-01, 6.69656694e-01, 7.92124689e-01,\n",
              "       8.40381622e-01, 2.56757140e-01, 8.29433382e-01, 6.66786969e-01,\n",
              "       5.42089641e-01, 6.22131228e-01, 7.46876717e-01, 7.75422692e-01,\n",
              "       9.41972017e-01, 6.75511837e-01, 8.01809728e-01, 7.70324767e-01,\n",
              "       8.09650838e-01, 6.44525111e-01, 8.63793850e-01, 4.19994265e-01,\n",
              "       5.02621293e-01, 8.66707504e-01, 8.59437466e-01, 8.89778018e-01,\n",
              "       8.90753031e-01, 3.82646844e-02, 8.62889469e-01, 6.93219125e-01,\n",
              "       6.30600989e-01, 9.04973924e-01, 8.01349223e-01, 8.32811892e-01,\n",
              "       7.81196415e-01, 8.65938246e-01, 8.84573221e-01, 3.99874270e-01,\n",
              "       3.30009043e-01, 8.52671564e-01, 7.79875219e-01, 7.43623614e-01,\n",
              "       8.61927748e-01, 8.57858419e-01, 8.72057736e-01, 5.23169398e-01,\n",
              "       6.90890670e-01, 7.28912294e-01, 3.88899207e-01, 6.04725063e-01,\n",
              "       6.32958561e-02, 8.29824448e-01, 7.70848095e-01, 7.64578223e-01,\n",
              "       8.19258511e-01, 4.00107145e-01, 6.01285100e-01, 1.00727953e-01,\n",
              "       2.65024544e-04, 6.09262228e-01, 8.11155498e-01, 7.26558030e-01,\n",
              "       1.19337559e-01, 7.50841320e-01, 8.72831106e-01, 7.16331422e-01,\n",
              "       1.00515902e-01, 5.96852275e-03, 1.09898083e-01, 1.21528385e-02,\n",
              "       6.40289485e-02, 5.29869134e-03, 8.12993407e-01, 1.80841796e-02,\n",
              "       2.96609220e-03, 7.93678537e-02, 8.08752656e-01, 5.94534636e-01,\n",
              "       0.00000000e+00, 5.58801711e-01, 8.76426101e-01, 7.52476394e-01,\n",
              "       8.77268493e-01, 9.06580985e-01, 7.68265843e-01, 1.09985405e-04,\n",
              "       6.44728780e-01, 8.28105390e-01, 8.17739964e-01, 6.94844842e-01,\n",
              "       6.94941163e-01, 8.00983667e-01, 7.91959941e-01, 0.00000000e+00],\n",
              "      dtype=float32)"
            ]
          },
          "metadata": {
            "tags": []
          },
          "execution_count": 106
        }
      ]
    },
    {
      "cell_type": "code",
      "metadata": {
        "id": "K8CprZvVq3aI",
        "colab": {
          "base_uri": "https://localhost:8080/"
        },
        "outputId": "84183d14-ec3a-4946-cc24-18cef824a57c"
      },
      "source": [
        "# 0.5를 기준으로 (0, 1) 결정\n",
        "test_preds = (0.5 < logits).astype(np.int)\n",
        "test_preds"
      ],
      "execution_count": 107,
      "outputs": [
        {
          "output_type": "execute_result",
          "data": {
            "text/plain": [
              "array([0, 0, 0, 0, 0, 0, 1, 1, 1, 1, 1, 0, 1, 0, 0, 1, 0, 1, 1, 1, 0, 0,\n",
              "       1, 1, 1, 1, 0, 1, 1, 1, 0, 1, 1, 1, 1, 1, 1, 1, 1, 1, 1, 1, 0, 1,\n",
              "       0, 0, 0, 1, 1, 1, 1, 1, 0, 1, 1, 1, 1, 1, 1, 1, 1, 1, 1, 0, 1, 1,\n",
              "       0, 1, 1, 1, 1, 1, 1, 1, 1, 1, 1, 0, 1, 1, 1, 1, 1, 1, 1, 1, 1, 1,\n",
              "       1, 1, 1, 0, 1, 1, 0, 0, 1, 1, 0, 1, 1, 1, 1, 1, 1, 1, 1, 0, 0, 0,\n",
              "       0, 1, 0, 1, 1, 0, 0, 0, 1, 0, 0, 1, 0, 1, 1, 1, 1, 1, 1, 0, 1, 0,\n",
              "       0, 1, 1, 0, 0, 1, 0, 1, 1, 0, 1, 1, 0, 0, 1, 0, 0, 1, 1, 1, 1, 1,\n",
              "       1, 1, 1, 0, 1, 1, 0, 0, 1, 1, 1, 1, 1, 1, 1, 1, 1, 1, 1, 1, 1, 1,\n",
              "       0, 1, 1, 1, 1, 0, 1, 1, 1, 1, 1, 1, 0, 0, 1, 0, 0, 0, 1, 0, 0, 1,\n",
              "       1, 0, 1, 1, 0, 1, 1, 1, 0, 1, 1, 1, 0, 1, 1, 1, 1, 1, 1, 1, 1, 0,\n",
              "       1, 1, 0, 1, 1, 1, 1, 1, 1, 1, 0, 1, 1, 1, 1, 1, 1, 1, 1, 1, 1, 1,\n",
              "       1, 0, 1, 1, 0, 1, 0, 0, 1, 0, 1, 1, 0, 1, 1, 1, 1, 1, 1, 1, 1, 1,\n",
              "       1, 1, 1, 0, 1, 0, 1, 0, 0, 1, 1, 0, 0, 1, 1, 0, 0, 1, 1, 1, 0, 1,\n",
              "       0, 0, 1, 1, 0, 1, 1, 0, 1, 0, 1, 1, 1, 0, 1, 1, 1, 1, 1, 1, 1, 1,\n",
              "       0, 1, 1, 0, 1, 1, 1, 1, 1, 1, 1, 1, 0, 1, 1, 1, 1, 1, 1, 0, 1, 0,\n",
              "       1, 1, 1, 1, 1, 1, 1, 1, 0, 1, 1, 1, 1, 1, 1, 1, 1, 1, 1, 1, 1, 1,\n",
              "       1, 1, 0, 0, 1, 1, 1, 0, 0, 1, 1, 1, 0, 1, 0, 1, 0, 0, 1, 1, 1, 1,\n",
              "       0, 1, 1, 1, 1, 1, 1, 1, 1, 1, 1, 1, 1, 1, 1, 1, 0, 0, 1, 1, 1, 0,\n",
              "       1, 0, 1, 1, 1, 1, 0, 0, 1, 1, 1, 0, 1, 1, 1, 1, 1, 0, 1, 1, 0, 1,\n",
              "       0, 1, 1, 1, 1, 1, 1, 1, 1, 1, 0, 1, 1, 0, 0, 1, 1, 1, 1, 1, 1, 1,\n",
              "       1, 0, 0, 1, 0, 1, 1, 1, 1, 1, 1, 1, 1, 1, 1, 1, 1, 1, 0, 0, 1, 1,\n",
              "       1, 0, 0, 1, 1, 1, 1, 0, 0, 1, 0, 1, 1, 0, 1, 1, 1, 1, 1, 1, 0, 1,\n",
              "       1, 1, 0, 1, 1, 1, 1, 0, 1, 1, 1, 1, 1, 1, 1, 0, 1, 0, 0, 1, 1, 1,\n",
              "       1, 1, 1, 1, 1, 1, 1, 1, 1, 1, 0, 1, 1, 1, 0, 1, 1, 0, 1, 0, 1, 1,\n",
              "       1, 1, 0, 1, 0, 0, 1, 1, 1, 1, 1, 1, 1, 1, 1, 1, 1, 1, 1, 1, 1, 1,\n",
              "       1, 0, 1, 1, 1, 1, 1, 0, 1, 0, 1, 1, 0, 1, 0, 1, 1, 0, 1, 1, 1, 1,\n",
              "       1, 1, 1, 0, 1, 1, 1, 1, 1, 0, 1, 0, 1, 1, 0, 1, 1, 0, 1, 0, 0, 1,\n",
              "       1, 1, 1, 1, 1, 1, 1, 0, 1, 1, 1, 1, 1, 1, 1, 1, 1, 1, 1, 1, 1, 0,\n",
              "       1, 1, 1, 1, 1, 0, 1, 1, 1, 1, 1, 1, 1, 1, 1, 0, 0, 1, 1, 1, 1, 1,\n",
              "       1, 1, 1, 1, 0, 1, 0, 1, 1, 1, 1, 0, 1, 0, 0, 1, 1, 1, 0, 1, 1, 1,\n",
              "       0, 0, 0, 0, 0, 0, 1, 0, 0, 0, 1, 1, 0, 1, 1, 1, 1, 1, 1, 0, 1, 1,\n",
              "       1, 1, 1, 1, 1, 0])"
            ]
          },
          "metadata": {
            "tags": []
          },
          "execution_count": 107
        }
      ]
    },
    {
      "cell_type": "code",
      "metadata": {
        "id": "Nr6i_0noq3aJ",
        "colab": {
          "base_uri": "https://localhost:8080/"
        },
        "outputId": "1a19dc7e-8e2e-4eb9-a041-c9a4b193c5b3"
      },
      "source": [
        "# confusion matrix 계산\n",
        "confusion_matrix = np.zeros((2, 2)).astype(np.int)\n",
        "for y_true, y_pred in zip(test_labels, test_preds):\n",
        "    confusion_matrix[int(y_true), int(y_pred)] += 1\n",
        "confusion_matrix"
      ],
      "execution_count": 108,
      "outputs": [
        {
          "output_type": "execute_result",
          "data": {
            "text/plain": [
              "array([[127, 202],\n",
              "       [ 49, 310]])"
            ]
          },
          "metadata": {
            "tags": []
          },
          "execution_count": 108
        }
      ]
    },
    {
      "cell_type": "code",
      "metadata": {
        "id": "dRx3o1frq3aJ",
        "colab": {
          "base_uri": "https://localhost:8080/"
        },
        "outputId": "74ace35d-b76f-41ba-8b38-e5ed960648c6"
      },
      "source": [
        "# score 계산\n",
        "tp = confusion_matrix[1, 1]\n",
        "tn = confusion_matrix[0, 0]\n",
        "fp = confusion_matrix[0, 1]\n",
        "fn = confusion_matrix[1, 0]\n",
        "\n",
        "accuracy = (tp + tn) / max(tp + tn + fp + fn, 1)\n",
        "print(f'accuracy: {accuracy}')\n",
        "precision = (tp) / max(tp + fp, 1)\n",
        "print(f'precision: {precision}')\n",
        "recall = (tp) / max(tp + fn, 1)\n",
        "print(f'recall: {recall}')\n",
        "f1 = 2 * (precision * recall) / max(precision + recall, 1)\n",
        "print(f'f1: {f1}')"
      ],
      "execution_count": 109,
      "outputs": [
        {
          "output_type": "stream",
          "text": [
            "accuracy: 0.6351744186046512\n",
            "precision: 0.60546875\n",
            "recall: 0.8635097493036211\n",
            "f1: 0.711825487944891\n"
          ],
          "name": "stdout"
        }
      ]
    },
    {
      "cell_type": "code",
      "metadata": {
        "id": "dTLqY8UUq3aJ"
      },
      "source": [
        "def do_predict(model, n_seq_1, string1, n_seq_2, string2):\n",
        "    \"\"\"\n",
        "    입력에 대한 답변 생성하는 함수\n",
        "    :param model: model\n",
        "    :param n_seq_1: 입력 개수 1\n",
        "    :param string1: 입력 문자열 1\n",
        "    :param n_seq_1: 입력 개수 3\n",
        "    :param string2: 입력 문자열 2\n",
        "    \"\"\"\n",
        "    # token 생성: <string 1 tokens>, [PAD] tokens\n",
        "    token1 = vocab.encode_as_ids(string1)[:n_seq_1]\n",
        "    token1 += [0] * (n_seq_1 - len(token1))\n",
        "\n",
        "    # token 생성: <string 2 tokens>, [PAD] tokens\n",
        "    token2 = vocab.encode_as_ids(string2)[:n_seq_2]\n",
        "    token2 += [0] * (n_seq_2 - len(token2))\n",
        "\n",
        "    y_pred = model.predict((np.array([token1]), np.array([token2])))\n",
        "\n",
        "    return \"같음\" if y_pred[0] > 0.5 else \"다름\""
      ],
      "execution_count": 110,
      "outputs": []
    },
    {
      "cell_type": "code",
      "metadata": {
        "id": "jOLOr1Ygq3aJ",
        "colab": {
          "base_uri": "https://localhost:8080/"
        },
        "outputId": "326e4173-78ae-490a-e043-efe3aa6d0f63"
      },
      "source": [
        "while True:\n",
        "    print(\"string #1 > \", end=\"\")\n",
        "    string1 = str(input())\n",
        "    if len(string1) == 0:\n",
        "        break\n",
        "    print(\"string #2 > \", end=\"\")\n",
        "    string2 = str(input())\n",
        "    if len(string2) == 0:\n",
        "        break\n",
        "    print(f\"output > {do_predict(model, n_seq_1, string1, n_seq_2, string2)}\")"
      ],
      "execution_count": 113,
      "outputs": [
        {
          "output_type": "stream",
          "text": [
            "string #1 > 나는 우울해\n",
            "string #2 > 나는 기분이 좋아\n",
            "output > 다름\n",
            "string #1 > 지금 행복해\n",
            "string #2 > 너무 기뻐\n",
            "output > 같음\n",
            "string #1 > \n"
          ],
          "name": "stdout"
        }
      ]
    },
    {
      "cell_type": "code",
      "metadata": {
        "id": "F1YfFKUrsVp8"
      },
      "source": [
        ""
      ],
      "execution_count": null,
      "outputs": []
    }
  ]
}