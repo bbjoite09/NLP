{
  "nbformat": 4,
  "nbformat_minor": 0,
  "metadata": {
    "colab": {
      "name": "04-03-simple-project-과제.ipynb",
      "provenance": [],
      "collapsed_sections": [
        "BuaFwJqDVumT",
        "sFo_3tAlzneI",
        "erIr-mg8zneJ",
        "wS_edoagzneJ",
        "-0Mbb5GWzneK",
        "milX02G6zneK",
        "DhXN7DHvlEpp",
        "hjSlRk99zneL",
        "XpcISJ_ozneL",
        "y_9x5ECWZhbS",
        "3uPb-tIEZhbd",
        "5QAm2W2eZhbe",
        "GIGGW1zCZhbf",
        "85GzrE0HZhbh",
        "rrhMcv0FZhbi",
        "ib6gdZI5Zhbi",
        "Vlt4WXgWZhbj"
      ]
    },
    "kernelspec": {
      "name": "python3",
      "display_name": "Python 3"
    },
    "accelerator": "GPU"
  },
  "cells": [
    {
      "cell_type": "markdown",
      "metadata": {
        "id": "BuaFwJqDVumT"
      },
      "source": [
        "# EVN"
      ]
    },
    {
      "cell_type": "code",
      "metadata": {
        "id": "ODiNPGQ9VwLK"
      },
      "source": [
        "import numpy as np\n",
        "import matplotlib.pyplot as plt\n",
        "\n",
        "import tensorflow as tf"
      ],
      "execution_count": 3,
      "outputs": []
    },
    {
      "cell_type": "markdown",
      "metadata": {
        "id": "sFo_3tAlzneI"
      },
      "source": [
        "# 단어 긍정(2), 중립(1), 부정(0) 분류 프로젝트"
      ]
    },
    {
      "cell_type": "markdown",
      "metadata": {
        "id": "erIr-mg8zneJ"
      },
      "source": [
        "## 데이터"
      ]
    },
    {
      "cell_type": "code",
      "metadata": {
        "id": "KQqU4MBIzneJ"
      },
      "source": [
        "# 입력 문장\n",
        "sentences = [\n",
        "    '나는 오늘 기분이 좋아',\n",
        "    '나는 오늘 우울해'\n",
        "]\n",
        "\n",
        "# 출력 정답\n",
        "labels = [[1, 1, 1, 2],\n",
        "          [1, 1, 0]]  # 긍정(2), 중립(1), 부정(0)\n",
        "\n",
        "# 정답 dic\n",
        "id_to_label = {0: '부정', 1: '중립', 2: '긍정'}"
      ],
      "execution_count": 115,
      "outputs": []
    },
    {
      "cell_type": "markdown",
      "metadata": {
        "id": "wS_edoagzneJ"
      },
      "source": [
        "## Vocabulary"
      ]
    },
    {
      "cell_type": "code",
      "metadata": {
        "colab": {
          "base_uri": "https://localhost:8080/"
        },
        "id": "BJA0tV61UMWv",
        "outputId": "50dca4e2-5d80-4349-b3e5-1f6449903e3f"
      },
      "source": [
        "# 각 문장을 띄어쓰기 단위로 분할\n",
        "words = []\n",
        "for sentence in sentences:\n",
        "    words.extend(sentence.split())\n",
        "words"
      ],
      "execution_count": 116,
      "outputs": [
        {
          "output_type": "execute_result",
          "data": {
            "text/plain": [
              "['나는', '오늘', '기분이', '좋아', '나는', '오늘', '우울해']"
            ]
          },
          "metadata": {
            "tags": []
          },
          "execution_count": 116
        }
      ]
    },
    {
      "cell_type": "code",
      "metadata": {
        "colab": {
          "base_uri": "https://localhost:8080/"
        },
        "id": "jrpIT_63UNu5",
        "outputId": "1856195b-3407-482a-db83-0396467d8366"
      },
      "source": [
        "# 중복 단어 제거\n",
        "words = list(dict.fromkeys(words))\n",
        "words"
      ],
      "execution_count": 117,
      "outputs": [
        {
          "output_type": "execute_result",
          "data": {
            "text/plain": [
              "['나는', '오늘', '기분이', '좋아', '우울해']"
            ]
          },
          "metadata": {
            "tags": []
          },
          "execution_count": 117
        }
      ]
    },
    {
      "cell_type": "code",
      "metadata": {
        "colab": {
          "base_uri": "https://localhost:8080/"
        },
        "id": "RoT8iffUzneJ",
        "outputId": "81c69f44-09c0-440e-eceb-3be12e453b65"
      },
      "source": [
        "# 각 단어별 고유한 번호 부여\n",
        "word_to_id = {'[PAD]': 0, '[UNK]': 1}\n",
        "for word in words:\n",
        "    word_to_id[word] = len(word_to_id)\n",
        "word_to_id"
      ],
      "execution_count": 118,
      "outputs": [
        {
          "output_type": "execute_result",
          "data": {
            "text/plain": [
              "{'[PAD]': 0, '[UNK]': 1, '기분이': 4, '나는': 2, '오늘': 3, '우울해': 6, '좋아': 5}"
            ]
          },
          "metadata": {
            "tags": []
          },
          "execution_count": 118
        }
      ]
    },
    {
      "cell_type": "code",
      "metadata": {
        "colab": {
          "base_uri": "https://localhost:8080/"
        },
        "id": "_qeklV9-UTzH",
        "outputId": "bc87e1f6-9415-4f53-e115-26b84beabdc6"
      },
      "source": [
        "# 각 숫자별 단어 부여\n",
        "id_to_word = {_id:word for word, _id in word_to_id.items()}\n",
        "id_to_word"
      ],
      "execution_count": 119,
      "outputs": [
        {
          "output_type": "execute_result",
          "data": {
            "text/plain": [
              "{0: '[PAD]', 1: '[UNK]', 2: '나는', 3: '오늘', 4: '기분이', 5: '좋아', 6: '우울해'}"
            ]
          },
          "metadata": {
            "tags": []
          },
          "execution_count": 119
        }
      ]
    },
    {
      "cell_type": "markdown",
      "metadata": {
        "id": "-0Mbb5GWzneK"
      },
      "source": [
        "## 모델 학습용 데이터 생성"
      ]
    },
    {
      "cell_type": "code",
      "metadata": {
        "colab": {
          "base_uri": "https://localhost:8080/"
        },
        "id": "TDA86OBnUZIw",
        "outputId": "4bdd1ad9-b397-47d9-af13-6e3ab6c089f8"
      },
      "source": [
        "# 학습용 입력 데이터 생성\n",
        "train_inputs = []\n",
        "for sentence in sentences:\n",
        "    train_inputs.append([word_to_id[word] for word in sentence.split()])\n",
        "train_inputs"
      ],
      "execution_count": 120,
      "outputs": [
        {
          "output_type": "execute_result",
          "data": {
            "text/plain": [
              "[[2, 3, 4, 5], [2, 3, 6]]"
            ]
          },
          "metadata": {
            "tags": []
          },
          "execution_count": 120
        }
      ]
    },
    {
      "cell_type": "code",
      "metadata": {
        "colab": {
          "base_uri": "https://localhost:8080/"
        },
        "id": "J-Wq04vBVWnq",
        "outputId": "69bed0c0-e474-4255-d1c8-7590ba28467a"
      },
      "source": [
        "# train label은 labels를 그래도 사용\n",
        "train_labels = labels\n",
        "train_labels"
      ],
      "execution_count": 121,
      "outputs": [
        {
          "output_type": "execute_result",
          "data": {
            "text/plain": [
              "[[1, 1, 1, 2], [1, 1, 0]]"
            ]
          },
          "metadata": {
            "tags": []
          },
          "execution_count": 121
        }
      ]
    },
    {
      "cell_type": "code",
      "metadata": {
        "colab": {
          "base_uri": "https://localhost:8080/"
        },
        "id": "tilT_K-8UfXh",
        "outputId": "8925ff7f-74a4-4d9f-dadb-ce772c810f3d"
      },
      "source": [
        "# train inputs을 numpy array로 변환\n",
        "np.array(train_inputs)"
      ],
      "execution_count": 122,
      "outputs": [
        {
          "output_type": "stream",
          "text": [
            "/usr/local/lib/python3.6/dist-packages/ipykernel_launcher.py:2: VisibleDeprecationWarning: Creating an ndarray from ragged nested sequences (which is a list-or-tuple of lists-or-tuples-or ndarrays with different lengths or shapes) is deprecated. If you meant to do this, you must specify 'dtype=object' when creating the ndarray\n",
            "  \n"
          ],
          "name": "stderr"
        },
        {
          "output_type": "execute_result",
          "data": {
            "text/plain": [
              "array([list([2, 3, 4, 5]), list([2, 3, 6])], dtype=object)"
            ]
          },
          "metadata": {
            "tags": []
          },
          "execution_count": 122
        }
      ]
    },
    {
      "cell_type": "code",
      "metadata": {
        "colab": {
          "base_uri": "https://localhost:8080/"
        },
        "id": "xG1Y1uN9Vb7P",
        "outputId": "36f12467-5ef2-4884-8df1-606fd0c5cc51"
      },
      "source": [
        "# train labels을 numpy array로 변환\n",
        "np.array(train_labels)"
      ],
      "execution_count": 123,
      "outputs": [
        {
          "output_type": "stream",
          "text": [
            "/usr/local/lib/python3.6/dist-packages/ipykernel_launcher.py:2: VisibleDeprecationWarning: Creating an ndarray from ragged nested sequences (which is a list-or-tuple of lists-or-tuples-or ndarrays with different lengths or shapes) is deprecated. If you meant to do this, you must specify 'dtype=object' when creating the ndarray\n",
            "  \n"
          ],
          "name": "stderr"
        },
        {
          "output_type": "execute_result",
          "data": {
            "text/plain": [
              "array([list([1, 1, 1, 2]), list([1, 1, 0])], dtype=object)"
            ]
          },
          "metadata": {
            "tags": []
          },
          "execution_count": 123
        }
      ]
    },
    {
      "cell_type": "code",
      "metadata": {
        "colab": {
          "base_uri": "https://localhost:8080/"
        },
        "id": "ThQywmw3Uwjx",
        "outputId": "99c6aff9-3b39-48f0-fa50-eae5a68e6af0"
      },
      "source": [
        "# 문장의 길이를 모두 동일하게 변경 (최대길이 4)\n",
        "for row in train_inputs:\n",
        "    row += [0] * (4 - len(row))\n",
        "train_inputs"
      ],
      "execution_count": 124,
      "outputs": [
        {
          "output_type": "execute_result",
          "data": {
            "text/plain": [
              "[[2, 3, 4, 5], [2, 3, 6, 0]]"
            ]
          },
          "metadata": {
            "tags": []
          },
          "execution_count": 124
        }
      ]
    },
    {
      "cell_type": "code",
      "metadata": {
        "colab": {
          "base_uri": "https://localhost:8080/"
        },
        "id": "foPgXxYpU5A7",
        "outputId": "bf8644c6-3676-462a-8751-671579c7e948"
      },
      "source": [
        "# train inputs을 numpy array로 변환\n",
        "train_inputs = np.array(train_inputs)\n",
        "train_inputs"
      ],
      "execution_count": 125,
      "outputs": [
        {
          "output_type": "execute_result",
          "data": {
            "text/plain": [
              "array([[2, 3, 4, 5],\n",
              "       [2, 3, 6, 0]])"
            ]
          },
          "metadata": {
            "tags": []
          },
          "execution_count": 125
        }
      ]
    },
    {
      "cell_type": "code",
      "metadata": {
        "colab": {
          "base_uri": "https://localhost:8080/"
        },
        "id": "p1gl_act7dyT",
        "outputId": "9eb05cb1-fd9d-4372-826c-ac87aaedc302"
      },
      "source": [
        "# 정답 길이를 모두 동일하게 변경 (최대길이 4)\n",
        "for row in train_labels:\n",
        "    row += [1] * (4 - len(row))\n",
        "train_labels"
      ],
      "execution_count": 126,
      "outputs": [
        {
          "output_type": "execute_result",
          "data": {
            "text/plain": [
              "[[1, 1, 1, 2], [1, 1, 0, 1]]"
            ]
          },
          "metadata": {
            "tags": []
          },
          "execution_count": 126
        }
      ]
    },
    {
      "cell_type": "code",
      "metadata": {
        "colab": {
          "base_uri": "https://localhost:8080/"
        },
        "id": "lXylNhS-70gv",
        "outputId": "d9e2a16b-1482-4935-8e69-99186d18612e"
      },
      "source": [
        "# 학습용 정답을 numpy array로 변환\n",
        "train_labels = np.array(train_labels)\n",
        "train_labels"
      ],
      "execution_count": 127,
      "outputs": [
        {
          "output_type": "execute_result",
          "data": {
            "text/plain": [
              "array([[1, 1, 1, 2],\n",
              "       [1, 1, 0, 1]])"
            ]
          },
          "metadata": {
            "tags": []
          },
          "execution_count": 127
        }
      ]
    },
    {
      "cell_type": "markdown",
      "metadata": {
        "id": "milX02G6zneK"
      },
      "source": [
        "## 모델링"
      ]
    },
    {
      "cell_type": "code",
      "metadata": {
        "colab": {
          "base_uri": "https://localhost:8080/"
        },
        "id": "Ph7rB5G_V-CG",
        "outputId": "6000516a-b589-49ef-a9c3-09709961bba9"
      },
      "source": [
        "# 입력 단어를 vector로 변환\n",
        "embedding = tf.keras.layers.Embedding(len(word_to_id), 8)\n",
        "hidden = embedding(train_inputs)\n",
        "hidden"
      ],
      "execution_count": 128,
      "outputs": [
        {
          "output_type": "execute_result",
          "data": {
            "text/plain": [
              "<tf.Tensor: shape=(2, 4, 8), dtype=float32, numpy=\n",
              "array([[[-0.03652365, -0.03861253, -0.02143688,  0.01772345,\n",
              "         -0.02991807, -0.00331926,  0.00191119, -0.01083668],\n",
              "        [-0.02804406, -0.00978558, -0.04045171, -0.03574318,\n",
              "          0.03478975, -0.04791806, -0.01847522,  0.00069817],\n",
              "        [-0.03572265, -0.0474506 , -0.04174949,  0.01274561,\n",
              "          0.04667741,  0.02807515, -0.03544771, -0.00593805],\n",
              "        [ 0.04496915,  0.04308577,  0.04537562,  0.03458443,\n",
              "          0.02205635, -0.02443345, -0.0068694 , -0.03151951]],\n",
              "\n",
              "       [[-0.03652365, -0.03861253, -0.02143688,  0.01772345,\n",
              "         -0.02991807, -0.00331926,  0.00191119, -0.01083668],\n",
              "        [-0.02804406, -0.00978558, -0.04045171, -0.03574318,\n",
              "          0.03478975, -0.04791806, -0.01847522,  0.00069817],\n",
              "        [ 0.00814001,  0.00051843,  0.04944012, -0.00279532,\n",
              "         -0.03172211,  0.03421496, -0.02557279, -0.0221439 ],\n",
              "        [-0.00233305,  0.00904446,  0.0404583 ,  0.03247907,\n",
              "         -0.01337572, -0.02654409,  0.01452787,  0.01917324]]],\n",
              "      dtype=float32)>"
            ]
          },
          "metadata": {
            "tags": []
          },
          "execution_count": 128
        }
      ]
    },
    {
      "cell_type": "code",
      "metadata": {
        "colab": {
          "base_uri": "https://localhost:8080/"
        },
        "id": "RQBpJJRO2EWX",
        "outputId": "c04b9295-aa51-4235-854c-d382c6a0af2b"
      },
      "source": [
        "# embedding weight\n",
        "weight = embedding.get_weights()[0]\n",
        "weight"
      ],
      "execution_count": 129,
      "outputs": [
        {
          "output_type": "execute_result",
          "data": {
            "text/plain": [
              "array([[-0.00233305,  0.00904446,  0.0404583 ,  0.03247907, -0.01337572,\n",
              "        -0.02654409,  0.01452787,  0.01917324],\n",
              "       [ 0.03581326, -0.02989904,  0.00743797, -0.04359806, -0.01182343,\n",
              "        -0.01026408,  0.0352738 , -0.01433014],\n",
              "       [-0.03652365, -0.03861253, -0.02143688,  0.01772345, -0.02991807,\n",
              "        -0.00331926,  0.00191119, -0.01083668],\n",
              "       [-0.02804406, -0.00978558, -0.04045171, -0.03574318,  0.03478975,\n",
              "        -0.04791806, -0.01847522,  0.00069817],\n",
              "       [-0.03572265, -0.0474506 , -0.04174949,  0.01274561,  0.04667741,\n",
              "         0.02807515, -0.03544771, -0.00593805],\n",
              "       [ 0.04496915,  0.04308577,  0.04537562,  0.03458443,  0.02205635,\n",
              "        -0.02443345, -0.0068694 , -0.03151951],\n",
              "       [ 0.00814001,  0.00051843,  0.04944012, -0.00279532, -0.03172211,\n",
              "         0.03421496, -0.02557279, -0.0221439 ]], dtype=float32)"
            ]
          },
          "metadata": {
            "tags": []
          },
          "execution_count": 129
        }
      ]
    },
    {
      "cell_type": "code",
      "metadata": {
        "colab": {
          "base_uri": "https://localhost:8080/"
        },
        "id": "WM3fkoqs2TCt",
        "outputId": "ec64f5ae-2928-4a39-9cad-2b8ffa28c8a6"
      },
      "source": [
        "# numpy를 이용해서 직접 조회 (두 결과값 비교)\n",
        "weight[train_inputs], hidden"
      ],
      "execution_count": 130,
      "outputs": [
        {
          "output_type": "execute_result",
          "data": {
            "text/plain": [
              "(array([[[-0.03652365, -0.03861253, -0.02143688,  0.01772345,\n",
              "          -0.02991807, -0.00331926,  0.00191119, -0.01083668],\n",
              "         [-0.02804406, -0.00978558, -0.04045171, -0.03574318,\n",
              "           0.03478975, -0.04791806, -0.01847522,  0.00069817],\n",
              "         [-0.03572265, -0.0474506 , -0.04174949,  0.01274561,\n",
              "           0.04667741,  0.02807515, -0.03544771, -0.00593805],\n",
              "         [ 0.04496915,  0.04308577,  0.04537562,  0.03458443,\n",
              "           0.02205635, -0.02443345, -0.0068694 , -0.03151951]],\n",
              " \n",
              "        [[-0.03652365, -0.03861253, -0.02143688,  0.01772345,\n",
              "          -0.02991807, -0.00331926,  0.00191119, -0.01083668],\n",
              "         [-0.02804406, -0.00978558, -0.04045171, -0.03574318,\n",
              "           0.03478975, -0.04791806, -0.01847522,  0.00069817],\n",
              "         [ 0.00814001,  0.00051843,  0.04944012, -0.00279532,\n",
              "          -0.03172211,  0.03421496, -0.02557279, -0.0221439 ],\n",
              "         [-0.00233305,  0.00904446,  0.0404583 ,  0.03247907,\n",
              "          -0.01337572, -0.02654409,  0.01452787,  0.01917324]]],\n",
              "       dtype=float32), <tf.Tensor: shape=(2, 4, 8), dtype=float32, numpy=\n",
              " array([[[-0.03652365, -0.03861253, -0.02143688,  0.01772345,\n",
              "          -0.02991807, -0.00331926,  0.00191119, -0.01083668],\n",
              "         [-0.02804406, -0.00978558, -0.04045171, -0.03574318,\n",
              "           0.03478975, -0.04791806, -0.01847522,  0.00069817],\n",
              "         [-0.03572265, -0.0474506 , -0.04174949,  0.01274561,\n",
              "           0.04667741,  0.02807515, -0.03544771, -0.00593805],\n",
              "         [ 0.04496915,  0.04308577,  0.04537562,  0.03458443,\n",
              "           0.02205635, -0.02443345, -0.0068694 , -0.03151951]],\n",
              " \n",
              "        [[-0.03652365, -0.03861253, -0.02143688,  0.01772345,\n",
              "          -0.02991807, -0.00331926,  0.00191119, -0.01083668],\n",
              "         [-0.02804406, -0.00978558, -0.04045171, -0.03574318,\n",
              "           0.03478975, -0.04791806, -0.01847522,  0.00069817],\n",
              "         [ 0.00814001,  0.00051843,  0.04944012, -0.00279532,\n",
              "          -0.03172211,  0.03421496, -0.02557279, -0.0221439 ],\n",
              "         [-0.00233305,  0.00904446,  0.0404583 ,  0.03247907,\n",
              "          -0.01337572, -0.02654409,  0.01452787,  0.01917324]]],\n",
              "       dtype=float32)>)"
            ]
          },
          "metadata": {
            "tags": []
          },
          "execution_count": 130
        }
      ]
    },
    {
      "cell_type": "code",
      "metadata": {
        "colab": {
          "base_uri": "https://localhost:8080/"
        },
        "id": "mvFLx9nAWV4a",
        "outputId": "285e922c-6511-4e01-e9bc-15142a89e827"
      },
      "source": [
        "# 단어의 vector를 이용해서 긍정(2), 부정(0), 중립(1) 확률값 예측\n",
        "linear = tf.keras.layers.Dense(3, activation=tf.nn.softmax)\n",
        "outputs = linear(hidden)\n",
        "outputs"
      ],
      "execution_count": 131,
      "outputs": [
        {
          "output_type": "execute_result",
          "data": {
            "text/plain": [
              "<tf.Tensor: shape=(2, 4, 3), dtype=float32, numpy=\n",
              "array([[[0.32974523, 0.3296215 , 0.3406333 ],\n",
              "        [0.3257774 , 0.33908486, 0.33513775],\n",
              "        [0.34304488, 0.33106607, 0.32588902],\n",
              "        [0.34370756, 0.31379122, 0.3425012 ]],\n",
              "\n",
              "       [[0.32974523, 0.3296215 , 0.3406333 ],\n",
              "        [0.3257774 , 0.33908486, 0.33513775],\n",
              "        [0.3385076 , 0.33096296, 0.3305294 ],\n",
              "        [0.3292255 , 0.32575074, 0.34502375]]], dtype=float32)>"
            ]
          },
          "metadata": {
            "tags": []
          },
          "execution_count": 131
        }
      ]
    },
    {
      "cell_type": "code",
      "metadata": {
        "colab": {
          "base_uri": "https://localhost:8080/"
        },
        "id": "WDmhXrH02hy_",
        "outputId": "734af8a1-72d9-4f7e-f364-fe6c9fc4ffb0"
      },
      "source": [
        "# dense의 wieght, bias\n",
        "weight, bias = linear.get_weights()\n",
        "weight, bias"
      ],
      "execution_count": 132,
      "outputs": [
        {
          "output_type": "execute_result",
          "data": {
            "text/plain": [
              "(array([[ 0.65799576, -0.09591937, -0.14494109],\n",
              "        [ 0.1596083 ,  0.6081739 ,  0.53851646],\n",
              "        [ 0.03896469, -0.11453933,  0.14302742],\n",
              "        [ 0.41698998, -0.621888  ,  0.52010673],\n",
              "        [-0.0777024 , -0.46482053, -0.5654566 ],\n",
              "        [ 0.25450444,  0.2671408 , -0.5974766 ],\n",
              "        [ 0.09392697,  0.44472784,  0.44232446],\n",
              "        [-0.54778224,  0.16085571, -0.5576882 ]], dtype=float32),\n",
              " array([0., 0., 0.], dtype=float32))"
            ]
          },
          "metadata": {
            "tags": []
          },
          "execution_count": 132
        }
      ]
    },
    {
      "cell_type": "code",
      "metadata": {
        "colab": {
          "base_uri": "https://localhost:8080/"
        },
        "id": "FuxfnYul2wdY",
        "outputId": "8c5e6fe0-db0b-4690-8988-7c4cdabe04e4"
      },
      "source": [
        "# numpy를 이용한 xW + b\n",
        "logits = np.matmul(hidden, weight) + bias\n",
        "logits"
      ],
      "execution_count": 133,
      "outputs": [
        {
          "output_type": "execute_result",
          "data": {
            "text/plain": [
              "array([[[-0.01604448, -0.0164198 ,  0.01644173],\n",
              "        [-0.05351184, -0.01347581, -0.02518451],\n",
              "        [-0.02394926, -0.05949246, -0.0752536 ],\n",
              "        [ 0.06134411, -0.02971923,  0.05782813]],\n",
              "\n",
              "       [[-0.01604448, -0.0164198 ,  0.01644173],\n",
              "        [-0.05351184, -0.01347581, -0.02518451],\n",
              "        [ 0.02710044,  0.00456044,  0.00324955],\n",
              "        [ 0.00017387, -0.01043665,  0.04704418]]], dtype=float32)"
            ]
          },
          "metadata": {
            "tags": []
          },
          "execution_count": 133
        }
      ]
    },
    {
      "cell_type": "code",
      "metadata": {
        "colab": {
          "base_uri": "https://localhost:8080/"
        },
        "id": "QUoP7xkV3Bmh",
        "outputId": "59628693-e555-45b1-f5e5-6042200cddfd"
      },
      "source": [
        "# softmax 계산을 위한 준비 exp(x') / sum(exp(x))\n",
        "numerator = np.exp(logits)\n",
        "denominator = np.sum(numerator, axis=2, keepdims=True)\n",
        "numerator, denominator"
      ],
      "execution_count": 134,
      "outputs": [
        {
          "output_type": "execute_result",
          "data": {
            "text/plain": [
              "(array([[[0.98408353, 0.9837142 , 1.0165776 ],\n",
              "         [0.94789475, 0.98661464, 0.97512996],\n",
              "         [0.97633517, 0.9422426 , 0.9275083 ],\n",
              "         [1.0632647 , 0.9707181 , 1.0595329 ]],\n",
              " \n",
              "        [[0.98408353, 0.9837142 , 1.0165776 ],\n",
              "         [0.94789475, 0.98661464, 0.97512996],\n",
              "         [1.0274711 , 1.0045708 , 1.0032549 ],\n",
              "         [1.0001739 , 0.9896176 , 1.0481683 ]]], dtype=float32),\n",
              " array([[[2.9843755],\n",
              "         [2.9096394],\n",
              "         [2.846086 ],\n",
              "         [3.0935156]],\n",
              " \n",
              "        [[2.9843755],\n",
              "         [2.9096394],\n",
              "         [3.035297 ],\n",
              "         [3.0379598]]], dtype=float32))"
            ]
          },
          "metadata": {
            "tags": []
          },
          "execution_count": 134
        }
      ]
    },
    {
      "cell_type": "code",
      "metadata": {
        "colab": {
          "base_uri": "https://localhost:8080/"
        },
        "id": "tbUvx0FT3tJW",
        "outputId": "d75fc99b-540f-4947-d4e5-2a31937fb4e0"
      },
      "source": [
        "# 두 결과값 비교\n",
        "probs = numerator / denominator\n",
        "probs, outputs"
      ],
      "execution_count": 135,
      "outputs": [
        {
          "output_type": "execute_result",
          "data": {
            "text/plain": [
              "(array([[[0.3297452 , 0.32962146, 0.34063327],\n",
              "         [0.3257774 , 0.33908486, 0.33513775],\n",
              "         [0.34304485, 0.3310661 , 0.32588905],\n",
              "         [0.34370756, 0.31379125, 0.34250122]],\n",
              " \n",
              "        [[0.3297452 , 0.32962146, 0.34063327],\n",
              "         [0.3257774 , 0.33908486, 0.33513775],\n",
              "         [0.3385076 , 0.33096296, 0.33052942],\n",
              "         [0.32922554, 0.3257507 , 0.34502375]]], dtype=float32),\n",
              " <tf.Tensor: shape=(2, 4, 3), dtype=float32, numpy=\n",
              " array([[[0.32974523, 0.3296215 , 0.3406333 ],\n",
              "         [0.3257774 , 0.33908486, 0.33513775],\n",
              "         [0.34304488, 0.33106607, 0.32588902],\n",
              "         [0.34370756, 0.31379122, 0.3425012 ]],\n",
              " \n",
              "        [[0.32974523, 0.3296215 , 0.3406333 ],\n",
              "         [0.3257774 , 0.33908486, 0.33513775],\n",
              "         [0.3385076 , 0.33096296, 0.3305294 ],\n",
              "         [0.3292255 , 0.32575074, 0.34502375]]], dtype=float32)>)"
            ]
          },
          "metadata": {
            "tags": []
          },
          "execution_count": 135
        }
      ]
    },
    {
      "cell_type": "code",
      "metadata": {
        "id": "jF_ezLfIzneK"
      },
      "source": [
        "def build_model(n_vocab, d_model, n_seq, n_out):\n",
        "    \"\"\"\n",
        "    동작만 하는 간단한 모델\n",
        "    :param n_vocab: vocabulary 단어 수\n",
        "    :param d_model: 단어를 의미하는 벡터의 차원 수\n",
        "    :param n_seq: 문장길이 (단어 수)\n",
        "    :param n_out: 예측할 class 개수\n",
        "    \"\"\"\n",
        "    inputs = tf.keras.layers.Input((n_seq,))  # (bs, n_seq)\n",
        "    # 입력 단어를 vector로 변환\n",
        "    embedding = tf.keras.layers.Embedding(n_vocab, d_model)\n",
        "    hidden = embedding(inputs)  # (bs, n_seq, d_model)\n",
        "    #######################################\n",
        "    # 여기에 CNN 및 RNN 모델을 추가해 보세요.\n",
        "    conv_2 = tf.keras.layers.Conv1D(filters=64, kernel_size=3, padding='same')\n",
        "    hidden = conv_2(hidden)\n",
        "    conv_3 = tf.keras.layers.Conv1D(filters=32, kernel_size=3, padding='same')\n",
        "    hidden = conv_3(hidden)\n",
        "\n",
        "    rnn_1 = tf.keras.layers.SimpleRNN(units=16, return_sequences=True)\n",
        "    hidden = rnn_1(hidden)\n",
        "    rnn_2 = tf.keras.layers.SimpleRNN(units=16, return_sequences=True)\n",
        "    hidden = rnn_2(hidden)\n",
        "\n",
        "\n",
        "    #######################################\n",
        "    # 단어의 vector를 이용해서 정답 확률값 예측\n",
        "    linear = tf.keras.layers.Dense(n_out, activation=tf.nn.softmax)\n",
        "    outputs = linear(hidden)  # (bs, n_seq, n_out)\n",
        "    # 학습할 모델 선언\n",
        "    model = tf.keras.Model(inputs=inputs, outputs=outputs)\n",
        "    return model"
      ],
      "execution_count": 136,
      "outputs": []
    },
    {
      "cell_type": "code",
      "metadata": {
        "colab": {
          "base_uri": "https://localhost:8080/",
          "height": 754
        },
        "id": "64I4xvdAzneL",
        "outputId": "685010ff-b839-4d6c-fab7-9fa5425f3016"
      },
      "source": [
        "# 모델 생성\n",
        "model = build_model(len(word_to_id), 8, 4, 3)\n",
        "# 모델 내용 그래프 출력\n",
        "tf.keras.utils.plot_model(model, 'model.png', show_shapes=True)"
      ],
      "execution_count": 137,
      "outputs": [
        {
          "output_type": "execute_result",
          "data": {
            "image/png": "[encoded data removed]",
            "text/plain": [
              "<IPython.core.display.Image object>"
            ]
          },
          "metadata": {
            "tags": []
          },
          "execution_count": 137
        }
      ]
    },
    {
      "cell_type": "markdown",
      "metadata": {
        "id": "DhXN7DHvlEpp"
      },
      "source": [
        "## 학습"
      ]
    },
    {
      "cell_type": "code",
      "metadata": {
        "id": "2P-a9TanzneL"
      },
      "source": [
        "# 모델 loss, optimizer, metric 정의\n",
        "model.compile(loss='sparse_categorical_crossentropy', optimizer='adam', metrics=['accuracy'])"
      ],
      "execution_count": 138,
      "outputs": []
    },
    {
      "cell_type": "code",
      "metadata": {
        "colab": {
          "base_uri": "https://localhost:8080/"
        },
        "id": "kw_41x2RzneL",
        "outputId": "9749c7d7-7303-42e5-ed76-0f7dc4695493"
      },
      "source": [
        "# 모델 학습\n",
        "history = model.fit(train_inputs, train_labels, epochs=100, batch_size=16)"
      ],
      "execution_count": 139,
      "outputs": [
        {
          "output_type": "stream",
          "text": [
            "Epoch 1/100\n",
            "1/1 [==============================] - 1s 1s/step - loss: 1.1035 - accuracy: 0.2500\n",
            "Epoch 2/100\n",
            "1/1 [==============================] - 0s 12ms/step - loss: 1.0801 - accuracy: 0.2500\n",
            "Epoch 3/100\n",
            "1/1 [==============================] - 0s 9ms/step - loss: 1.0575 - accuracy: 0.6250\n",
            "Epoch 4/100\n",
            "1/1 [==============================] - 0s 9ms/step - loss: 1.0352 - accuracy: 0.6250\n",
            "Epoch 5/100\n",
            "1/1 [==============================] - 0s 9ms/step - loss: 1.0129 - accuracy: 0.7500\n",
            "Epoch 6/100\n",
            "1/1 [==============================] - 0s 9ms/step - loss: 0.9905 - accuracy: 0.8750\n",
            "Epoch 7/100\n",
            "1/1 [==============================] - 0s 9ms/step - loss: 0.9679 - accuracy: 0.8750\n",
            "Epoch 8/100\n",
            "1/1 [==============================] - 0s 9ms/step - loss: 0.9450 - accuracy: 0.8750\n",
            "Epoch 9/100\n",
            "1/1 [==============================] - 0s 9ms/step - loss: 0.9218 - accuracy: 0.8750\n",
            "Epoch 10/100\n",
            "1/1 [==============================] - 0s 10ms/step - loss: 0.8983 - accuracy: 0.8750\n",
            "Epoch 11/100\n",
            "1/1 [==============================] - 0s 10ms/step - loss: 0.8744 - accuracy: 0.8750\n",
            "Epoch 12/100\n",
            "1/1 [==============================] - 0s 10ms/step - loss: 0.8502 - accuracy: 0.8750\n",
            "Epoch 13/100\n",
            "1/1 [==============================] - 0s 9ms/step - loss: 0.8257 - accuracy: 0.8750\n",
            "Epoch 14/100\n",
            "1/1 [==============================] - 0s 9ms/step - loss: 0.8009 - accuracy: 1.0000\n",
            "Epoch 15/100\n",
            "1/1 [==============================] - 0s 11ms/step - loss: 0.7759 - accuracy: 1.0000\n",
            "Epoch 16/100\n",
            "1/1 [==============================] - 0s 14ms/step - loss: 0.7509 - accuracy: 1.0000\n",
            "Epoch 17/100\n",
            "1/1 [==============================] - 0s 14ms/step - loss: 0.7259 - accuracy: 1.0000\n",
            "Epoch 18/100\n",
            "1/1 [==============================] - 0s 19ms/step - loss: 0.7009 - accuracy: 1.0000\n",
            "Epoch 19/100\n",
            "1/1 [==============================] - 0s 15ms/step - loss: 0.6761 - accuracy: 1.0000\n",
            "Epoch 20/100\n",
            "1/1 [==============================] - 0s 13ms/step - loss: 0.6515 - accuracy: 1.0000\n",
            "Epoch 21/100\n",
            "1/1 [==============================] - 0s 14ms/step - loss: 0.6273 - accuracy: 1.0000\n",
            "Epoch 22/100\n",
            "1/1 [==============================] - 0s 13ms/step - loss: 0.6033 - accuracy: 1.0000\n",
            "Epoch 23/100\n",
            "1/1 [==============================] - 0s 13ms/step - loss: 0.5798 - accuracy: 1.0000\n",
            "Epoch 24/100\n",
            "1/1 [==============================] - 0s 13ms/step - loss: 0.5565 - accuracy: 1.0000\n",
            "Epoch 25/100\n",
            "1/1 [==============================] - 0s 14ms/step - loss: 0.5336 - accuracy: 1.0000\n",
            "Epoch 26/100\n",
            "1/1 [==============================] - 0s 15ms/step - loss: 0.5109 - accuracy: 1.0000\n",
            "Epoch 27/100\n",
            "1/1 [==============================] - 0s 13ms/step - loss: 0.4884 - accuracy: 1.0000\n",
            "Epoch 28/100\n",
            "1/1 [==============================] - 0s 15ms/step - loss: 0.4663 - accuracy: 1.0000\n",
            "Epoch 29/100\n",
            "1/1 [==============================] - 0s 11ms/step - loss: 0.4444 - accuracy: 1.0000\n",
            "Epoch 30/100\n",
            "1/1 [==============================] - 0s 9ms/step - loss: 0.4230 - accuracy: 1.0000\n",
            "Epoch 31/100\n",
            "1/1 [==============================] - 0s 11ms/step - loss: 0.4021 - accuracy: 1.0000\n",
            "Epoch 32/100\n",
            "1/1 [==============================] - 0s 16ms/step - loss: 0.3819 - accuracy: 1.0000\n",
            "Epoch 33/100\n",
            "1/1 [==============================] - 0s 15ms/step - loss: 0.3625 - accuracy: 1.0000\n",
            "Epoch 34/100\n",
            "1/1 [==============================] - 0s 15ms/step - loss: 0.3440 - accuracy: 1.0000\n",
            "Epoch 35/100\n",
            "1/1 [==============================] - 0s 18ms/step - loss: 0.3264 - accuracy: 1.0000\n",
            "Epoch 36/100\n",
            "1/1 [==============================] - 0s 17ms/step - loss: 0.3098 - accuracy: 1.0000\n",
            "Epoch 37/100\n",
            "1/1 [==============================] - 0s 12ms/step - loss: 0.2941 - accuracy: 1.0000\n",
            "Epoch 38/100\n",
            "1/1 [==============================] - 0s 13ms/step - loss: 0.2792 - accuracy: 1.0000\n",
            "Epoch 39/100\n",
            "1/1 [==============================] - 0s 14ms/step - loss: 0.2650 - accuracy: 1.0000\n",
            "Epoch 40/100\n",
            "1/1 [==============================] - 0s 13ms/step - loss: 0.2515 - accuracy: 1.0000\n",
            "Epoch 41/100\n",
            "1/1 [==============================] - 0s 16ms/step - loss: 0.2387 - accuracy: 1.0000\n",
            "Epoch 42/100\n",
            "1/1 [==============================] - 0s 14ms/step - loss: 0.2264 - accuracy: 1.0000\n",
            "Epoch 43/100\n",
            "1/1 [==============================] - 0s 14ms/step - loss: 0.2149 - accuracy: 1.0000\n",
            "Epoch 44/100\n",
            "1/1 [==============================] - 0s 15ms/step - loss: 0.2039 - accuracy: 1.0000\n",
            "Epoch 45/100\n",
            "1/1 [==============================] - 0s 13ms/step - loss: 0.1935 - accuracy: 1.0000\n",
            "Epoch 46/100\n",
            "1/1 [==============================] - 0s 14ms/step - loss: 0.1838 - accuracy: 1.0000\n",
            "Epoch 47/100\n",
            "1/1 [==============================] - 0s 12ms/step - loss: 0.1746 - accuracy: 1.0000\n",
            "Epoch 48/100\n",
            "1/1 [==============================] - 0s 14ms/step - loss: 0.1660 - accuracy: 1.0000\n",
            "Epoch 49/100\n",
            "1/1 [==============================] - 0s 15ms/step - loss: 0.1579 - accuracy: 1.0000\n",
            "Epoch 50/100\n",
            "1/1 [==============================] - 0s 12ms/step - loss: 0.1503 - accuracy: 1.0000\n",
            "Epoch 51/100\n",
            "1/1 [==============================] - 0s 16ms/step - loss: 0.1432 - accuracy: 1.0000\n",
            "Epoch 52/100\n",
            "1/1 [==============================] - 0s 17ms/step - loss: 0.1366 - accuracy: 1.0000\n",
            "Epoch 53/100\n",
            "1/1 [==============================] - 0s 14ms/step - loss: 0.1305 - accuracy: 1.0000\n",
            "Epoch 54/100\n",
            "1/1 [==============================] - 0s 18ms/step - loss: 0.1247 - accuracy: 1.0000\n",
            "Epoch 55/100\n",
            "1/1 [==============================] - 0s 16ms/step - loss: 0.1194 - accuracy: 1.0000\n",
            "Epoch 56/100\n",
            "1/1 [==============================] - 0s 14ms/step - loss: 0.1144 - accuracy: 1.0000\n",
            "Epoch 57/100\n",
            "1/1 [==============================] - 0s 12ms/step - loss: 0.1097 - accuracy: 1.0000\n",
            "Epoch 58/100\n",
            "1/1 [==============================] - 0s 15ms/step - loss: 0.1053 - accuracy: 1.0000\n",
            "Epoch 59/100\n",
            "1/1 [==============================] - 0s 11ms/step - loss: 0.1011 - accuracy: 1.0000\n",
            "Epoch 60/100\n",
            "1/1 [==============================] - 0s 10ms/step - loss: 0.0972 - accuracy: 1.0000\n",
            "Epoch 61/100\n",
            "1/1 [==============================] - 0s 15ms/step - loss: 0.0935 - accuracy: 1.0000\n",
            "Epoch 62/100\n",
            "1/1 [==============================] - 0s 13ms/step - loss: 0.0900 - accuracy: 1.0000\n",
            "Epoch 63/100\n",
            "1/1 [==============================] - 0s 9ms/step - loss: 0.0867 - accuracy: 1.0000\n",
            "Epoch 64/100\n",
            "1/1 [==============================] - 0s 12ms/step - loss: 0.0836 - accuracy: 1.0000\n",
            "Epoch 65/100\n",
            "1/1 [==============================] - 0s 11ms/step - loss: 0.0807 - accuracy: 1.0000\n",
            "Epoch 66/100\n",
            "1/1 [==============================] - 0s 12ms/step - loss: 0.0779 - accuracy: 1.0000\n",
            "Epoch 67/100\n",
            "1/1 [==============================] - 0s 16ms/step - loss: 0.0753 - accuracy: 1.0000\n",
            "Epoch 68/100\n",
            "1/1 [==============================] - 0s 14ms/step - loss: 0.0728 - accuracy: 1.0000\n",
            "Epoch 69/100\n",
            "1/1 [==============================] - 0s 13ms/step - loss: 0.0704 - accuracy: 1.0000\n",
            "Epoch 70/100\n",
            "1/1 [==============================] - 0s 17ms/step - loss: 0.0682 - accuracy: 1.0000\n",
            "Epoch 71/100\n",
            "1/1 [==============================] - 0s 14ms/step - loss: 0.0660 - accuracy: 1.0000\n",
            "Epoch 72/100\n",
            "1/1 [==============================] - 0s 14ms/step - loss: 0.0640 - accuracy: 1.0000\n",
            "Epoch 73/100\n",
            "1/1 [==============================] - 0s 13ms/step - loss: 0.0621 - accuracy: 1.0000\n",
            "Epoch 74/100\n",
            "1/1 [==============================] - 0s 13ms/step - loss: 0.0603 - accuracy: 1.0000\n",
            "Epoch 75/100\n",
            "1/1 [==============================] - 0s 12ms/step - loss: 0.0586 - accuracy: 1.0000\n",
            "Epoch 76/100\n",
            "1/1 [==============================] - 0s 10ms/step - loss: 0.0569 - accuracy: 1.0000\n",
            "Epoch 77/100\n",
            "1/1 [==============================] - 0s 13ms/step - loss: 0.0553 - accuracy: 1.0000\n",
            "Epoch 78/100\n",
            "1/1 [==============================] - 0s 13ms/step - loss: 0.0538 - accuracy: 1.0000\n",
            "Epoch 79/100\n",
            "1/1 [==============================] - 0s 16ms/step - loss: 0.0524 - accuracy: 1.0000\n",
            "Epoch 80/100\n",
            "1/1 [==============================] - 0s 12ms/step - loss: 0.0510 - accuracy: 1.0000\n",
            "Epoch 81/100\n",
            "1/1 [==============================] - 0s 13ms/step - loss: 0.0497 - accuracy: 1.0000\n",
            "Epoch 82/100\n",
            "1/1 [==============================] - 0s 12ms/step - loss: 0.0485 - accuracy: 1.0000\n",
            "Epoch 83/100\n",
            "1/1 [==============================] - 0s 14ms/step - loss: 0.0473 - accuracy: 1.0000\n",
            "Epoch 84/100\n",
            "1/1 [==============================] - 0s 14ms/step - loss: 0.0462 - accuracy: 1.0000\n",
            "Epoch 85/100\n",
            "1/1 [==============================] - 0s 14ms/step - loss: 0.0451 - accuracy: 1.0000\n",
            "Epoch 86/100\n",
            "1/1 [==============================] - 0s 12ms/step - loss: 0.0440 - accuracy: 1.0000\n",
            "Epoch 87/100\n",
            "1/1 [==============================] - 0s 13ms/step - loss: 0.0430 - accuracy: 1.0000\n",
            "Epoch 88/100\n",
            "1/1 [==============================] - 0s 17ms/step - loss: 0.0420 - accuracy: 1.0000\n",
            "Epoch 89/100\n",
            "1/1 [==============================] - 0s 25ms/step - loss: 0.0411 - accuracy: 1.0000\n",
            "Epoch 90/100\n",
            "1/1 [==============================] - 0s 14ms/step - loss: 0.0402 - accuracy: 1.0000\n",
            "Epoch 91/100\n",
            "1/1 [==============================] - 0s 25ms/step - loss: 0.0393 - accuracy: 1.0000\n",
            "Epoch 92/100\n",
            "1/1 [==============================] - 0s 13ms/step - loss: 0.0385 - accuracy: 1.0000\n",
            "Epoch 93/100\n",
            "1/1 [==============================] - 0s 18ms/step - loss: 0.0377 - accuracy: 1.0000\n",
            "Epoch 94/100\n",
            "1/1 [==============================] - 0s 14ms/step - loss: 0.0369 - accuracy: 1.0000\n",
            "Epoch 95/100\n",
            "1/1 [==============================] - 0s 15ms/step - loss: 0.0362 - accuracy: 1.0000\n",
            "Epoch 96/100\n",
            "1/1 [==============================] - 0s 17ms/step - loss: 0.0355 - accuracy: 1.0000\n",
            "Epoch 97/100\n",
            "1/1 [==============================] - 0s 15ms/step - loss: 0.0348 - accuracy: 1.0000\n",
            "Epoch 98/100\n",
            "1/1 [==============================] - 0s 18ms/step - loss: 0.0341 - accuracy: 1.0000\n",
            "Epoch 99/100\n",
            "1/1 [==============================] - 0s 17ms/step - loss: 0.0335 - accuracy: 1.0000\n",
            "Epoch 100/100\n",
            "1/1 [==============================] - 0s 16ms/step - loss: 0.0328 - accuracy: 1.0000\n"
          ],
          "name": "stdout"
        }
      ]
    },
    {
      "cell_type": "code",
      "metadata": {
        "colab": {
          "base_uri": "https://localhost:8080/",
          "height": 279
        },
        "id": "YxJ4kOkxzneL",
        "outputId": "0bee73b5-a5e4-41da-90ba-52e44cc2d812"
      },
      "source": [
        "plt.figure(figsize=(12, 4))\n",
        "\n",
        "plt.subplot(1, 2, 1)\n",
        "plt.plot(history.history['loss'], 'b-', label='loss')\n",
        "plt.xlabel('Epoch')\n",
        "plt.legend()\n",
        "\n",
        "plt.subplot(1, 2, 2)\n",
        "plt.plot(history.history['accuracy'], 'g-', label='accuracy')\n",
        "plt.xlabel('Epoch')\n",
        "plt.legend()\n",
        "\n",
        "plt.show()"
      ],
      "execution_count": 140,
      "outputs": [
        {
          "output_type": "display_data",
          "data": {
            "image/png": "[encoded data removed]",
            "text/plain": [
              "<Figure size 864x288 with 2 Axes>"
            ]
          },
          "metadata": {
            "tags": [],
            "needs_background": "light"
          }
        }
      ]
    },
    {
      "cell_type": "markdown",
      "metadata": {
        "id": "hjSlRk99zneL"
      },
      "source": [
        "## 평가"
      ]
    },
    {
      "cell_type": "code",
      "metadata": {
        "colab": {
          "base_uri": "https://localhost:8080/"
        },
        "id": "2HyKEaYdzneL",
        "outputId": "fa221150-ab8e-42f6-fe41-547821ac74ee"
      },
      "source": [
        "# 모델 평가\n",
        "model.evaluate(train_inputs, train_labels)"
      ],
      "execution_count": 141,
      "outputs": [
        {
          "output_type": "stream",
          "text": [
            "1/1 [==============================] - 0s 266ms/step - loss: 0.0322 - accuracy: 1.0000\n"
          ],
          "name": "stdout"
        },
        {
          "output_type": "execute_result",
          "data": {
            "text/plain": [
              "[0.03222166746854782, 1.0]"
            ]
          },
          "metadata": {
            "tags": []
          },
          "execution_count": 141
        }
      ]
    },
    {
      "cell_type": "markdown",
      "metadata": {
        "id": "XpcISJ_ozneL"
      },
      "source": [
        "## 예측"
      ]
    },
    {
      "cell_type": "code",
      "metadata": {
        "id": "LJkTEZONXyFU"
      },
      "source": [
        "# 추론할 입력\n",
        "string = '나는 기분이 우울해'"
      ],
      "execution_count": 142,
      "outputs": []
    },
    {
      "cell_type": "code",
      "metadata": {
        "colab": {
          "base_uri": "https://localhost:8080/"
        },
        "id": "CfprsWzGXvWA",
        "outputId": "c1704275-5e5b-4698-a1f1-c1f113fc11b1"
      },
      "source": [
        "# 입력을 숫자로 변경\n",
        "infer_input = [word_to_id[word] for word in string.split()]\n",
        "infer_input"
      ],
      "execution_count": 143,
      "outputs": [
        {
          "output_type": "execute_result",
          "data": {
            "text/plain": [
              "[2, 4, 6]"
            ]
          },
          "metadata": {
            "tags": []
          },
          "execution_count": 143
        }
      ]
    },
    {
      "cell_type": "code",
      "metadata": {
        "colab": {
          "base_uri": "https://localhost:8080/"
        },
        "id": "Kg_dmgZOX30T",
        "outputId": "3c49878a-422f-4276-b39f-706a3b792bab"
      },
      "source": [
        "# 문장의 길이를 모두 동일하게 변경 (최대길이 4)\n",
        "infer_input += [0] * (4 - len(infer_input))\n",
        "infer_input"
      ],
      "execution_count": 144,
      "outputs": [
        {
          "output_type": "execute_result",
          "data": {
            "text/plain": [
              "[2, 4, 6, 0]"
            ]
          },
          "metadata": {
            "tags": []
          },
          "execution_count": 144
        }
      ]
    },
    {
      "cell_type": "code",
      "metadata": {
        "colab": {
          "base_uri": "https://localhost:8080/"
        },
        "id": "MAfaCPQEzneL",
        "outputId": "146f59f7-8f39-4275-d1f7-25f4be66b143"
      },
      "source": [
        "# numpy array 변환 (batch size 1 추가)\n",
        "infer_inputs = np.array([infer_input])\n",
        "infer_inputs"
      ],
      "execution_count": 145,
      "outputs": [
        {
          "output_type": "execute_result",
          "data": {
            "text/plain": [
              "array([[2, 4, 6, 0]])"
            ]
          },
          "metadata": {
            "tags": []
          },
          "execution_count": 145
        }
      ]
    },
    {
      "cell_type": "code",
      "metadata": {
        "colab": {
          "base_uri": "https://localhost:8080/"
        },
        "id": "YUSMsyWbzneL",
        "outputId": "aaf3160d-b900-4af3-ec35-a9f87218c62b"
      },
      "source": [
        "# 긍정/부정 추론\n",
        "y_preds = model.predict(infer_inputs)\n",
        "y_preds"
      ],
      "execution_count": 146,
      "outputs": [
        {
          "output_type": "execute_result",
          "data": {
            "text/plain": [
              "array([[[0.02115103, 0.956487  , 0.02236205],\n",
              "        [0.00361341, 0.9741149 , 0.02227168],\n",
              "        [0.93416166, 0.03499269, 0.03084569],\n",
              "        [0.026332  , 0.957481  , 0.01618691]]], dtype=float32)"
            ]
          },
          "metadata": {
            "tags": []
          },
          "execution_count": 146
        }
      ]
    },
    {
      "cell_type": "code",
      "metadata": {
        "colab": {
          "base_uri": "https://localhost:8080/"
        },
        "id": "RdC00mgdzneL",
        "outputId": "33614a0f-8d62-411a-80cb-179eee2b172c"
      },
      "source": [
        "# 확률의 max 값을 추론 값으로 결정\n",
        "y_pred_class = np.argmax(y_preds, axis=2)\n",
        "y_pred_class"
      ],
      "execution_count": 147,
      "outputs": [
        {
          "output_type": "execute_result",
          "data": {
            "text/plain": [
              "array([[1, 1, 0, 1]])"
            ]
          },
          "metadata": {
            "tags": []
          },
          "execution_count": 147
        }
      ]
    },
    {
      "cell_type": "code",
      "metadata": {
        "colab": {
          "base_uri": "https://localhost:8080/"
        },
        "id": "iVYc0DXrTuaZ",
        "outputId": "b929a27b-5302-4761-9e50-12cd7a625521"
      },
      "source": [
        "# 각 예측 값에 대한 label string\n",
        "for row in y_pred_class:\n",
        "    for val in row:\n",
        "        print(val, ':', id_to_label[val])"
      ],
      "execution_count": 148,
      "outputs": [
        {
          "output_type": "stream",
          "text": [
            "1 : 중립\n",
            "1 : 중립\n",
            "0 : 부정\n",
            "1 : 중립\n"
          ],
          "name": "stdout"
        }
      ]
    },
    {
      "cell_type": "markdown",
      "metadata": {
        "id": "y_9x5ECWZhbS"
      },
      "source": [
        "# 문장 긍정(1), 부정(0) 분류 프로젝트"
      ]
    },
    {
      "cell_type": "markdown",
      "metadata": {
        "id": "3uPb-tIEZhbd"
      },
      "source": [
        "## 데이터"
      ]
    },
    {
      "cell_type": "code",
      "metadata": {
        "id": "i7oqS_rHZhbe"
      },
      "source": [
        "# 입력 문장\n",
        "sentences = [\n",
        "    '나는 오늘 기분이 좋아',\n",
        "    '나는 오늘 우울해'\n",
        "]\n",
        "\n",
        "# 출력 정답\n",
        "labels = [1, 0]  # 긍정(1), 부정(0)\n",
        "\n",
        "# 정답 dic\n",
        "id_to_label = {0: '부정', 1: '긍정'}"
      ],
      "execution_count": 149,
      "outputs": []
    },
    {
      "cell_type": "markdown",
      "metadata": {
        "id": "5QAm2W2eZhbe"
      },
      "source": [
        "## Vocabulary"
      ]
    },
    {
      "cell_type": "code",
      "metadata": {
        "colab": {
          "base_uri": "https://localhost:8080/"
        },
        "id": "nPAFem00Zhbe",
        "outputId": "928e18eb-a65b-4285-f025-7895fbf0d8ef"
      },
      "source": [
        "# 각 문장을 띄어쓰기 단위로 분할\n",
        "words = []\n",
        "for sentence in sentences:\n",
        "    words.extend(sentence.split())\n",
        "words"
      ],
      "execution_count": 150,
      "outputs": [
        {
          "output_type": "execute_result",
          "data": {
            "text/plain": [
              "['나는', '오늘', '기분이', '좋아', '나는', '오늘', '우울해']"
            ]
          },
          "metadata": {
            "tags": []
          },
          "execution_count": 150
        }
      ]
    },
    {
      "cell_type": "code",
      "metadata": {
        "colab": {
          "base_uri": "https://localhost:8080/"
        },
        "id": "fG66UxYRZhbf",
        "outputId": "94417742-a06c-44b5-8f39-267e963d5788"
      },
      "source": [
        "# 중복 단어 제거\n",
        "words = list(dict.fromkeys(words))\n",
        "words"
      ],
      "execution_count": 151,
      "outputs": [
        {
          "output_type": "execute_result",
          "data": {
            "text/plain": [
              "['나는', '오늘', '기분이', '좋아', '우울해']"
            ]
          },
          "metadata": {
            "tags": []
          },
          "execution_count": 151
        }
      ]
    },
    {
      "cell_type": "code",
      "metadata": {
        "colab": {
          "base_uri": "https://localhost:8080/"
        },
        "id": "c4z8up8GZhbf",
        "outputId": "67a5ddf3-a6af-4478-cac1-66d916ecbcba"
      },
      "source": [
        "# 각 단어별 고유한 번호 부여\n",
        "word_to_id = {'[PAD]': 0, '[UNK]': 1}\n",
        "for word in words:\n",
        "    word_to_id[word] = len(word_to_id)\n",
        "word_to_id"
      ],
      "execution_count": 152,
      "outputs": [
        {
          "output_type": "execute_result",
          "data": {
            "text/plain": [
              "{'[PAD]': 0, '[UNK]': 1, '기분이': 4, '나는': 2, '오늘': 3, '우울해': 6, '좋아': 5}"
            ]
          },
          "metadata": {
            "tags": []
          },
          "execution_count": 152
        }
      ]
    },
    {
      "cell_type": "code",
      "metadata": {
        "colab": {
          "base_uri": "https://localhost:8080/"
        },
        "id": "uOCStzoAZhbf",
        "outputId": "7e4e2b27-b05f-4f93-965e-fc25cfb057d7"
      },
      "source": [
        "# 각 숫자별 단어 부여\n",
        "id_to_word = {_id:word for word, _id in word_to_id.items()}\n",
        "id_to_word"
      ],
      "execution_count": 153,
      "outputs": [
        {
          "output_type": "execute_result",
          "data": {
            "text/plain": [
              "{0: '[PAD]', 1: '[UNK]', 2: '나는', 3: '오늘', 4: '기분이', 5: '좋아', 6: '우울해'}"
            ]
          },
          "metadata": {
            "tags": []
          },
          "execution_count": 153
        }
      ]
    },
    {
      "cell_type": "markdown",
      "metadata": {
        "id": "GIGGW1zCZhbf"
      },
      "source": [
        "## 모델 학습용 데이터 생성"
      ]
    },
    {
      "cell_type": "code",
      "metadata": {
        "colab": {
          "base_uri": "https://localhost:8080/"
        },
        "id": "vqOJgFInZhbf",
        "outputId": "979f2db5-e6cd-4c78-9d80-686d849eb8e3"
      },
      "source": [
        "# 학습용 입력 데이터 생성\n",
        "train_inputs = []\n",
        "for sentence in sentences:\n",
        "    train_inputs.append([word_to_id[word] for word in sentence.split()])\n",
        "train_inputs"
      ],
      "execution_count": 154,
      "outputs": [
        {
          "output_type": "execute_result",
          "data": {
            "text/plain": [
              "[[2, 3, 4, 5], [2, 3, 6]]"
            ]
          },
          "metadata": {
            "tags": []
          },
          "execution_count": 154
        }
      ]
    },
    {
      "cell_type": "code",
      "metadata": {
        "colab": {
          "base_uri": "https://localhost:8080/"
        },
        "id": "3tnBuxc7Zhbg",
        "outputId": "d81d96c9-5c63-47ce-a9fb-9cba98df31f3"
      },
      "source": [
        "# train label은 labels를 그래도 사용\n",
        "train_labels = labels\n",
        "train_labels"
      ],
      "execution_count": 83,
      "outputs": [
        {
          "output_type": "execute_result",
          "data": {
            "text/plain": [
              "[1, 0]"
            ]
          },
          "metadata": {
            "tags": []
          },
          "execution_count": 83
        }
      ]
    },
    {
      "cell_type": "code",
      "metadata": {
        "colab": {
          "base_uri": "https://localhost:8080/"
        },
        "id": "dDgDN_bNZhbg",
        "outputId": "b455cfc4-9532-4738-dfb8-215be215234c"
      },
      "source": [
        "# 문장의 길이를 모두 동일하게 변경 (최대길이 4)\n",
        "for row in train_inputs:\n",
        "    row += [0] * (4 - len(row))\n",
        "train_inputs"
      ],
      "execution_count": 84,
      "outputs": [
        {
          "output_type": "execute_result",
          "data": {
            "text/plain": [
              "[[2, 3, 4, 5], [2, 3, 6, 0]]"
            ]
          },
          "metadata": {
            "tags": []
          },
          "execution_count": 84
        }
      ]
    },
    {
      "cell_type": "code",
      "metadata": {
        "colab": {
          "base_uri": "https://localhost:8080/"
        },
        "id": "NK056QQoZhbg",
        "outputId": "3fb8f894-f7be-4576-a1ff-3affdc010b8e"
      },
      "source": [
        "# train inputs을 numpy array로 변환\n",
        "train_inputs = np.array(train_inputs)\n",
        "train_inputs"
      ],
      "execution_count": 85,
      "outputs": [
        {
          "output_type": "execute_result",
          "data": {
            "text/plain": [
              "array([[2, 3, 4, 5],\n",
              "       [2, 3, 6, 0]])"
            ]
          },
          "metadata": {
            "tags": []
          },
          "execution_count": 85
        }
      ]
    },
    {
      "cell_type": "code",
      "metadata": {
        "colab": {
          "base_uri": "https://localhost:8080/"
        },
        "id": "Sfjb3EZAZhbh",
        "outputId": "f6bcb976-910d-4eba-da16-a231e7216e48"
      },
      "source": [
        "# 학습용 정답을 numpy array로 변환\n",
        "train_labels = np.array(train_labels)\n",
        "train_labels"
      ],
      "execution_count": 86,
      "outputs": [
        {
          "output_type": "execute_result",
          "data": {
            "text/plain": [
              "array([1, 0])"
            ]
          },
          "metadata": {
            "tags": []
          },
          "execution_count": 86
        }
      ]
    },
    {
      "cell_type": "markdown",
      "metadata": {
        "id": "85GzrE0HZhbh"
      },
      "source": [
        "## 모델링"
      ]
    },
    {
      "cell_type": "code",
      "metadata": {
        "colab": {
          "base_uri": "https://localhost:8080/"
        },
        "id": "ho--z_ahZhbh",
        "outputId": "24c549a2-c7d6-416c-faf3-1b197bd58bc5"
      },
      "source": [
        "# 입력 단어를 vector로 변환\n",
        "embedding = tf.keras.layers.Embedding(len(word_to_id), 8)\n",
        "hidden = embedding(train_inputs)\n",
        "hidden"
      ],
      "execution_count": 87,
      "outputs": [
        {
          "output_type": "execute_result",
          "data": {
            "text/plain": [
              "<tf.Tensor: shape=(2, 4, 8), dtype=float32, numpy=\n",
              "array([[[-0.03574306,  0.00403994,  0.00163143,  0.01146026,\n",
              "          0.01665485,  0.01975993, -0.04219165, -0.0431506 ],\n",
              "        [-0.03344436,  0.01319106, -0.0139466 ,  0.0311419 ,\n",
              "          0.02439847, -0.00929445,  0.04804548, -0.0034376 ],\n",
              "        [ 0.04467524,  0.02620009,  0.03034331,  0.0130338 ,\n",
              "          0.03701888, -0.02661922,  0.01454859,  0.00384176],\n",
              "        [ 0.04411941, -0.04373652,  0.0032197 , -0.01208806,\n",
              "          0.02049239,  0.04698724,  0.01467272, -0.00208058]],\n",
              "\n",
              "       [[-0.03574306,  0.00403994,  0.00163143,  0.01146026,\n",
              "          0.01665485,  0.01975993, -0.04219165, -0.0431506 ],\n",
              "        [-0.03344436,  0.01319106, -0.0139466 ,  0.0311419 ,\n",
              "          0.02439847, -0.00929445,  0.04804548, -0.0034376 ],\n",
              "        [ 0.01646203,  0.01629399,  0.03403201, -0.03987656,\n",
              "          0.02672677, -0.04081772,  0.01770837, -0.04888935],\n",
              "        [ 0.00884539,  0.03757347, -0.02960837,  0.01561973,\n",
              "          0.03757799, -0.02799615,  0.03179706,  0.03900628]]],\n",
              "      dtype=float32)>"
            ]
          },
          "metadata": {
            "tags": []
          },
          "execution_count": 87
        }
      ]
    },
    {
      "cell_type": "code",
      "metadata": {
        "colab": {
          "base_uri": "https://localhost:8080/"
        },
        "id": "iAHwFqpiaKLj",
        "outputId": "e59ecf16-6223-4404-e717-dd1680996348"
      },
      "source": [
        "# 각 단어 벡터의 최대값 기준으로 벡터를 더해서 차원을 줄여줌 (문장 vector 생성)\n",
        "pool = tf.keras.layers.GlobalMaxPool1D()\n",
        "hidden_pool = pool(hidden)\n",
        "hidden_pool"
      ],
      "execution_count": 88,
      "outputs": [
        {
          "output_type": "execute_result",
          "data": {
            "text/plain": [
              "<tf.Tensor: shape=(2, 8), dtype=float32, numpy=\n",
              "array([[0.04467524, 0.02620009, 0.03034331, 0.0311419 , 0.03701888,\n",
              "        0.04698724, 0.04804548, 0.00384176],\n",
              "       [0.01646203, 0.03757347, 0.03403201, 0.0311419 , 0.03757799,\n",
              "        0.01975993, 0.04804548, 0.03900628]], dtype=float32)>"
            ]
          },
          "metadata": {
            "tags": []
          },
          "execution_count": 88
        }
      ]
    },
    {
      "cell_type": "code",
      "metadata": {
        "colab": {
          "base_uri": "https://localhost:8080/"
        },
        "id": "P_H1viaeZhbh",
        "outputId": "af439cf8-c29c-4d36-dcbb-b957bef9329e"
      },
      "source": [
        "# 문장 vector를 이용해서 긍정(1), 부정(0) 확률값 예측\n",
        "linear = tf.keras.layers.Dense(2, activation=tf.nn.softmax)\n",
        "outputs = linear(hidden_pool)\n",
        "outputs"
      ],
      "execution_count": 89,
      "outputs": [
        {
          "output_type": "execute_result",
          "data": {
            "text/plain": [
              "<tf.Tensor: shape=(2, 2), dtype=float32, numpy=\n",
              "array([[0.49598494, 0.5040151 ],\n",
              "       [0.50481606, 0.4951839 ]], dtype=float32)>"
            ]
          },
          "metadata": {
            "tags": []
          },
          "execution_count": 89
        }
      ]
    },
    {
      "cell_type": "code",
      "metadata": {
        "id": "7QPDAjdMZhbh"
      },
      "source": [
        "def build_model(n_vocab, d_model, n_seq, n_out):\n",
        "    \"\"\"\n",
        "    동작만 하는 간단한 모델\n",
        "    :param n_vocab: vocabulary 단어 수\n",
        "    :param d_model: 단어를 의미하는 벡터의 차원 수\n",
        "    :param n_seq: 문장길이 (단어 수)\n",
        "    :param n_out: 예측할 class 개수\n",
        "    \"\"\"\n",
        "    inputs = tf.keras.layers.Input((n_seq,))  # (bs, n_seq)\n",
        "    # 입력 단어를 vector로 변환\n",
        "    embedding = tf.keras.layers.Embedding(n_vocab, d_model)\n",
        "    hidden = embedding(inputs)  # (bs, n_seq, d_model)\n",
        "    #######################################\n",
        "    # 여기에 CNN 및 RNN 모델을 추가해 보세요.\n",
        "\n",
        "    conv_1 = tf.keras.layers.Conv1D(filters=64, kernel_size=3, padding='same')\n",
        "    hidden = conv_1(hidden)\n",
        "    conv_2 = tf.keras.layers.Conv1D(filters=32, kernel_size=3, padding='same')\n",
        "    hidden = conv_2(hidden)\n",
        "\n",
        "    rnn_1 = tf.keras.layers.SimpleRNN(units=16, return_sequences=True)\n",
        "    hidden = rnn_1(hidden)\n",
        "    rnn_2 = tf.keras.layers.SimpleRNN(units=16, return_sequences=True)\n",
        "    hidden = rnn_2(hidden)\n",
        "\n",
        "    #######################################\n",
        "    # 각 단어 벡터의 최대값 기준으로 벡터를 더해서 차원을 줄여줌 (문장 vector 생성)\n",
        "    pool = tf.keras.layers.GlobalMaxPool1D()\n",
        "    hidden_pool = pool(hidden)  # (bs, d_model)\n",
        "    # 문장 vector를 이용해서 긍정(1), 부정(0) 확률값 예측\n",
        "    linear = tf.keras.layers.Dense(2, activation=tf.nn.softmax)\n",
        "    outputs = linear(hidden_pool)  # (bs, n_out)\n",
        "    # 학습할 모델 선언\n",
        "    model = tf.keras.Model(inputs=inputs, outputs=outputs)\n",
        "    return model"
      ],
      "execution_count": 90,
      "outputs": []
    },
    {
      "cell_type": "code",
      "metadata": {
        "colab": {
          "base_uri": "https://localhost:8080/",
          "height": 865
        },
        "id": "FlT9uYrxZhbi",
        "outputId": "d9d3ae9b-5334-4167-caab-6eb80f8dba0a"
      },
      "source": [
        "# 모델 생성\n",
        "model = build_model(len(word_to_id), 8, 4, 2)\n",
        "# 모델 내용 그래프 출력\n",
        "tf.keras.utils.plot_model(model, 'model.png', show_shapes=True)"
      ],
      "execution_count": 91,
      "outputs": [
        {
          "output_type": "execute_result",
          "data": {
            "image/png": "[encoded data removed]",
            "text/plain": [
              "<IPython.core.display.Image object>"
            ]
          },
          "metadata": {
            "tags": []
          },
          "execution_count": 91
        }
      ]
    },
    {
      "cell_type": "markdown",
      "metadata": {
        "id": "rrhMcv0FZhbi"
      },
      "source": [
        "## 학습"
      ]
    },
    {
      "cell_type": "code",
      "metadata": {
        "id": "oh87DPXoZhbi"
      },
      "source": [
        "# 모델 loss, optimizer, metric 정의\n",
        "model.compile(loss='sparse_categorical_crossentropy', optimizer='adam', metrics=['accuracy'])"
      ],
      "execution_count": 92,
      "outputs": []
    },
    {
      "cell_type": "code",
      "metadata": {
        "colab": {
          "base_uri": "https://localhost:8080/"
        },
        "id": "K5mlWw7lZhbi",
        "outputId": "228cedda-abe4-4001-a22e-a846fa16b286"
      },
      "source": [
        "# 모델 학습\n",
        "history = model.fit(train_inputs, train_labels, epochs=20, batch_size=16)"
      ],
      "execution_count": 93,
      "outputs": [
        {
          "output_type": "stream",
          "text": [
            "Epoch 1/20\n",
            "1/1 [==============================] - 1s 1s/step - loss: 0.7195 - accuracy: 0.0000e+00\n",
            "Epoch 2/20\n",
            "1/1 [==============================] - 0s 9ms/step - loss: 0.7000 - accuracy: 0.0000e+00\n",
            "Epoch 3/20\n",
            "1/1 [==============================] - 0s 9ms/step - loss: 0.6870 - accuracy: 0.5000\n",
            "Epoch 4/20\n",
            "1/1 [==============================] - 0s 9ms/step - loss: 0.6738 - accuracy: 1.0000\n",
            "Epoch 5/20\n",
            "1/1 [==============================] - 0s 10ms/step - loss: 0.6593 - accuracy: 1.0000\n",
            "Epoch 6/20\n",
            "1/1 [==============================] - 0s 9ms/step - loss: 0.6455 - accuracy: 1.0000\n",
            "Epoch 7/20\n",
            "1/1 [==============================] - 0s 9ms/step - loss: 0.6280 - accuracy: 1.0000\n",
            "Epoch 8/20\n",
            "1/1 [==============================] - 0s 10ms/step - loss: 0.6049 - accuracy: 1.0000\n",
            "Epoch 9/20\n",
            "1/1 [==============================] - 0s 9ms/step - loss: 0.5865 - accuracy: 0.5000\n",
            "Epoch 10/20\n",
            "1/1 [==============================] - 0s 9ms/step - loss: 0.5696 - accuracy: 0.5000\n",
            "Epoch 11/20\n",
            "1/1 [==============================] - 0s 9ms/step - loss: 0.5449 - accuracy: 1.0000\n",
            "Epoch 12/20\n",
            "1/1 [==============================] - 0s 9ms/step - loss: 0.5192 - accuracy: 1.0000\n",
            "Epoch 13/20\n",
            "1/1 [==============================] - 0s 11ms/step - loss: 0.5001 - accuracy: 1.0000\n",
            "Epoch 14/20\n",
            "1/1 [==============================] - 0s 10ms/step - loss: 0.4737 - accuracy: 1.0000\n",
            "Epoch 15/20\n",
            "1/1 [==============================] - 0s 12ms/step - loss: 0.4456 - accuracy: 1.0000\n",
            "Epoch 16/20\n",
            "1/1 [==============================] - 0s 20ms/step - loss: 0.4172 - accuracy: 1.0000\n",
            "Epoch 17/20\n",
            "1/1 [==============================] - 0s 11ms/step - loss: 0.3896 - accuracy: 1.0000\n",
            "Epoch 18/20\n",
            "1/1 [==============================] - 0s 19ms/step - loss: 0.3632 - accuracy: 1.0000\n",
            "Epoch 19/20\n",
            "1/1 [==============================] - 0s 16ms/step - loss: 0.3357 - accuracy: 1.0000\n",
            "Epoch 20/20\n",
            "1/1 [==============================] - 0s 19ms/step - loss: 0.3078 - accuracy: 1.0000\n"
          ],
          "name": "stdout"
        }
      ]
    },
    {
      "cell_type": "code",
      "metadata": {
        "colab": {
          "base_uri": "https://localhost:8080/",
          "height": 279
        },
        "id": "Xedcn0HqZhbi",
        "outputId": "cc1af722-e4de-4995-b827-384038f012a7"
      },
      "source": [
        "plt.figure(figsize=(12, 4))\n",
        "\n",
        "plt.subplot(1, 2, 1)\n",
        "plt.plot(history.history['loss'], 'b-', label='loss')\n",
        "plt.xlabel('Epoch')\n",
        "plt.legend()\n",
        "\n",
        "plt.subplot(1, 2, 2)\n",
        "plt.plot(history.history['accuracy'], 'g-', label='accuracy')\n",
        "plt.xlabel('Epoch')\n",
        "plt.legend()\n",
        "\n",
        "plt.show()"
      ],
      "execution_count": 94,
      "outputs": [
        {
          "output_type": "display_data",
          "data": {
            "image/png": "[encoded data removed]",
            "text/plain": [
              "<Figure size 864x288 with 2 Axes>"
            ]
          },
          "metadata": {
            "tags": [],
            "needs_background": "light"
          }
        }
      ]
    },
    {
      "cell_type": "markdown",
      "metadata": {
        "id": "ib6gdZI5Zhbi"
      },
      "source": [
        "## 평가"
      ]
    },
    {
      "cell_type": "code",
      "metadata": {
        "colab": {
          "base_uri": "https://localhost:8080/"
        },
        "id": "IEayBpfbZhbj",
        "outputId": "f2f92206-0a3d-43be-a9ca-257e86c32853"
      },
      "source": [
        "# 모델 평가\n",
        "model.evaluate(train_inputs, train_labels)"
      ],
      "execution_count": 95,
      "outputs": [
        {
          "output_type": "stream",
          "text": [
            "1/1 [==============================] - 0s 241ms/step - loss: 0.2821 - accuracy: 1.0000\n"
          ],
          "name": "stdout"
        },
        {
          "output_type": "execute_result",
          "data": {
            "text/plain": [
              "[0.28211891651153564, 1.0]"
            ]
          },
          "metadata": {
            "tags": []
          },
          "execution_count": 95
        }
      ]
    },
    {
      "cell_type": "markdown",
      "metadata": {
        "id": "Vlt4WXgWZhbj"
      },
      "source": [
        "## 예측"
      ]
    },
    {
      "cell_type": "code",
      "metadata": {
        "id": "tvS1GqDhZhbj"
      },
      "source": [
        "# 추론할 입력\n",
        "string = '나는 기분이 우울해'"
      ],
      "execution_count": 96,
      "outputs": []
    },
    {
      "cell_type": "code",
      "metadata": {
        "colab": {
          "base_uri": "https://localhost:8080/"
        },
        "id": "0EM08Z8vZhbj",
        "outputId": "880dc6d1-75a7-4a85-af27-32e641ec82ed"
      },
      "source": [
        "# 입력을 숫자로 변경\n",
        "infer_input = [word_to_id[word] for word in string.split()]\n",
        "infer_input"
      ],
      "execution_count": 97,
      "outputs": [
        {
          "output_type": "execute_result",
          "data": {
            "text/plain": [
              "[2, 4, 6]"
            ]
          },
          "metadata": {
            "tags": []
          },
          "execution_count": 97
        }
      ]
    },
    {
      "cell_type": "code",
      "metadata": {
        "colab": {
          "base_uri": "https://localhost:8080/"
        },
        "id": "V18cJiq6Zhbj",
        "outputId": "ce13416e-60c4-4a76-b346-3b7ad6a397dc"
      },
      "source": [
        "# 문장의 길이를 모두 동일하게 변경 (최대길이 4)\n",
        "infer_input += [0] * (4 - len(infer_input))\n",
        "infer_input"
      ],
      "execution_count": 98,
      "outputs": [
        {
          "output_type": "execute_result",
          "data": {
            "text/plain": [
              "[2, 4, 6, 0]"
            ]
          },
          "metadata": {
            "tags": []
          },
          "execution_count": 98
        }
      ]
    },
    {
      "cell_type": "code",
      "metadata": {
        "colab": {
          "base_uri": "https://localhost:8080/"
        },
        "id": "NonjgnZ1Zhbj",
        "outputId": "b0aa0c4a-8414-429f-9d0a-0bf7c3c28682"
      },
      "source": [
        "# numpy array 변환 (batch size 1 추가)\n",
        "infer_inputs = np.array([infer_input])\n",
        "infer_inputs"
      ],
      "execution_count": 99,
      "outputs": [
        {
          "output_type": "execute_result",
          "data": {
            "text/plain": [
              "array([[2, 4, 6, 0]])"
            ]
          },
          "metadata": {
            "tags": []
          },
          "execution_count": 99
        }
      ]
    },
    {
      "cell_type": "code",
      "metadata": {
        "colab": {
          "base_uri": "https://localhost:8080/"
        },
        "id": "bF_ANe3WZhbj",
        "outputId": "c35a2071-11b5-4c23-86ad-43ec18ade128"
      },
      "source": [
        "# 긍정/부정 추론\n",
        "y_preds = model.predict(infer_inputs)\n",
        "y_preds"
      ],
      "execution_count": 100,
      "outputs": [
        {
          "output_type": "execute_result",
          "data": {
            "text/plain": [
              "array([[0.8162711 , 0.18372886]], dtype=float32)"
            ]
          },
          "metadata": {
            "tags": []
          },
          "execution_count": 100
        }
      ]
    },
    {
      "cell_type": "code",
      "metadata": {
        "colab": {
          "base_uri": "https://localhost:8080/"
        },
        "id": "KDPL_ZzSZhbk",
        "outputId": "16ff3c84-210a-4759-9f0c-49b2fa171741"
      },
      "source": [
        "# 확률의 max 값을 추론 값으로 결정\n",
        "y_pred_class = np.argmax(y_preds, axis=1)\n",
        "y_pred_class"
      ],
      "execution_count": 101,
      "outputs": [
        {
          "output_type": "execute_result",
          "data": {
            "text/plain": [
              "array([0])"
            ]
          },
          "metadata": {
            "tags": []
          },
          "execution_count": 101
        }
      ]
    },
    {
      "cell_type": "code",
      "metadata": {
        "colab": {
          "base_uri": "https://localhost:8080/"
        },
        "id": "8TBB3S9lZhbk",
        "outputId": "c651c6a7-43a4-4a89-9012-b2c9034830aa"
      },
      "source": [
        "# 각 예측 값에 대한 label string\n",
        "for val in y_pred_class:\n",
        "    print(val, ':', id_to_label[val])"
      ],
      "execution_count": 102,
      "outputs": [
        {
          "output_type": "stream",
          "text": [
            "0 : 부정\n"
          ],
          "name": "stdout"
        }
      ]
    },
    {
      "cell_type": "code",
      "metadata": {
        "id": "pXW76LK5boFD"
      },
      "source": [
        ""
      ],
      "execution_count": null,
      "outputs": []
    }
  ]
}