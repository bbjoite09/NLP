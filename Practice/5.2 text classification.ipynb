{
  "nbformat": 4,
  "nbformat_minor": 0,
  "metadata": {
    "colab": {
      "name": "05-01-text-classification-과제.ipynb",
      "provenance": [],
      "collapsed_sections": [
        "6dfJPT-2XMTB",
        "JHkHg6XAXoyK",
        "XwriCkq_R1Lc",
        "3myBX8hNEH1u",
        "yOqjtjEtgG_i",
        "RZq-UvbOgG_j",
        "QbzBPXwqgG_n",
        "fFOkITDzgG_o"
      ],
      "toc_visible": true
    },
    "kernelspec": {
      "name": "python3",
      "display_name": "Python 3"
    },
    "accelerator": "GPU",
    "widgets": {
      "application/vnd.jupyter.widget-state+json": {
        "7381352b9a1047e59c52e6ee783e42ea": {
          "model_module": "@jupyter-widgets/controls",
          "model_name": "HBoxModel",
          "state": {
            "_view_name": "HBoxView",
            "_dom_classes": [],
            "_model_name": "HBoxModel",
            "_view_module": "@jupyter-widgets/controls",
            "_model_module_version": "1.5.0",
            "_view_count": null,
            "_view_module_version": "1.5.0",
            "box_style": "",
            "layout": "IPY_MODEL_48037f45d97c4bd498b482b60b30ba2e",
            "_model_module": "@jupyter-widgets/controls",
            "children": [
              "IPY_MODEL_7a811a0d8e56417ba0557045b76f9aa2",
              "IPY_MODEL_4e215dabcef045bd993fe2f1bdea7f2c"
            ]
          }
        },
        "48037f45d97c4bd498b482b60b30ba2e": {
          "model_module": "@jupyter-widgets/base",
          "model_name": "LayoutModel",
          "state": {
            "_view_name": "LayoutView",
            "grid_template_rows": null,
            "right": null,
            "justify_content": null,
            "_view_module": "@jupyter-widgets/base",
            "overflow": null,
            "_model_module_version": "1.2.0",
            "_view_count": null,
            "flex_flow": null,
            "width": null,
            "min_width": null,
            "border": null,
            "align_items": null,
            "bottom": null,
            "_model_module": "@jupyter-widgets/base",
            "top": null,
            "grid_column": null,
            "overflow_y": null,
            "overflow_x": null,
            "grid_auto_flow": null,
            "grid_area": null,
            "grid_template_columns": null,
            "flex": null,
            "_model_name": "LayoutModel",
            "justify_items": null,
            "grid_row": null,
            "max_height": null,
            "align_content": null,
            "visibility": null,
            "align_self": null,
            "height": null,
            "min_height": null,
            "padding": null,
            "grid_auto_rows": null,
            "grid_gap": null,
            "max_width": null,
            "order": null,
            "_view_module_version": "1.2.0",
            "grid_template_areas": null,
            "object_position": null,
            "object_fit": null,
            "grid_auto_columns": null,
            "margin": null,
            "display": null,
            "left": null
          }
        },
        "7a811a0d8e56417ba0557045b76f9aa2": {
          "model_module": "@jupyter-widgets/controls",
          "model_name": "FloatProgressModel",
          "state": {
            "_view_name": "ProgressView",
            "style": "IPY_MODEL_c62c15a8c46b48e589111d990e30ad56",
            "_dom_classes": [],
            "description": "100%",
            "_model_name": "FloatProgressModel",
            "bar_style": "success",
            "max": 149995,
            "_view_module": "@jupyter-widgets/controls",
            "_model_module_version": "1.5.0",
            "value": 149995,
            "_view_count": null,
            "_view_module_version": "1.5.0",
            "orientation": "horizontal",
            "min": 0,
            "description_tooltip": null,
            "_model_module": "@jupyter-widgets/controls",
            "layout": "IPY_MODEL_528d137d9151467aa874c9483a36b9d7"
          }
        },
        "4e215dabcef045bd993fe2f1bdea7f2c": {
          "model_module": "@jupyter-widgets/controls",
          "model_name": "HTMLModel",
          "state": {
            "_view_name": "HTMLView",
            "style": "IPY_MODEL_c9d3e7379bec4aa780d1d051c28aedfa",
            "_dom_classes": [],
            "description": "",
            "_model_name": "HTMLModel",
            "placeholder": "​",
            "_view_module": "@jupyter-widgets/controls",
            "_model_module_version": "1.5.0",
            "value": " 149995/149995 [00:28&lt;00:00, 5190.33it/s]",
            "_view_count": null,
            "_view_module_version": "1.5.0",
            "description_tooltip": null,
            "_model_module": "@jupyter-widgets/controls",
            "layout": "IPY_MODEL_bcfdbebce7cd4b3ca38997169fa95dcf"
          }
        },
        "c62c15a8c46b48e589111d990e30ad56": {
          "model_module": "@jupyter-widgets/controls",
          "model_name": "ProgressStyleModel",
          "state": {
            "_view_name": "StyleView",
            "_model_name": "ProgressStyleModel",
            "description_width": "initial",
            "_view_module": "@jupyter-widgets/base",
            "_model_module_version": "1.5.0",
            "_view_count": null,
            "_view_module_version": "1.2.0",
            "bar_color": null,
            "_model_module": "@jupyter-widgets/controls"
          }
        },
        "528d137d9151467aa874c9483a36b9d7": {
          "model_module": "@jupyter-widgets/base",
          "model_name": "LayoutModel",
          "state": {
            "_view_name": "LayoutView",
            "grid_template_rows": null,
            "right": null,
            "justify_content": null,
            "_view_module": "@jupyter-widgets/base",
            "overflow": null,
            "_model_module_version": "1.2.0",
            "_view_count": null,
            "flex_flow": null,
            "width": null,
            "min_width": null,
            "border": null,
            "align_items": null,
            "bottom": null,
            "_model_module": "@jupyter-widgets/base",
            "top": null,
            "grid_column": null,
            "overflow_y": null,
            "overflow_x": null,
            "grid_auto_flow": null,
            "grid_area": null,
            "grid_template_columns": null,
            "flex": null,
            "_model_name": "LayoutModel",
            "justify_items": null,
            "grid_row": null,
            "max_height": null,
            "align_content": null,
            "visibility": null,
            "align_self": null,
            "height": null,
            "min_height": null,
            "padding": null,
            "grid_auto_rows": null,
            "grid_gap": null,
            "max_width": null,
            "order": null,
            "_view_module_version": "1.2.0",
            "grid_template_areas": null,
            "object_position": null,
            "object_fit": null,
            "grid_auto_columns": null,
            "margin": null,
            "display": null,
            "left": null
          }
        },
        "c9d3e7379bec4aa780d1d051c28aedfa": {
          "model_module": "@jupyter-widgets/controls",
          "model_name": "DescriptionStyleModel",
          "state": {
            "_view_name": "StyleView",
            "_model_name": "DescriptionStyleModel",
            "description_width": "",
            "_view_module": "@jupyter-widgets/base",
            "_model_module_version": "1.5.0",
            "_view_count": null,
            "_view_module_version": "1.2.0",
            "_model_module": "@jupyter-widgets/controls"
          }
        },
        "bcfdbebce7cd4b3ca38997169fa95dcf": {
          "model_module": "@jupyter-widgets/base",
          "model_name": "LayoutModel",
          "state": {
            "_view_name": "LayoutView",
            "grid_template_rows": null,
            "right": null,
            "justify_content": null,
            "_view_module": "@jupyter-widgets/base",
            "overflow": null,
            "_model_module_version": "1.2.0",
            "_view_count": null,
            "flex_flow": null,
            "width": null,
            "min_width": null,
            "border": null,
            "align_items": null,
            "bottom": null,
            "_model_module": "@jupyter-widgets/base",
            "top": null,
            "grid_column": null,
            "overflow_y": null,
            "overflow_x": null,
            "grid_auto_flow": null,
            "grid_area": null,
            "grid_template_columns": null,
            "flex": null,
            "_model_name": "LayoutModel",
            "justify_items": null,
            "grid_row": null,
            "max_height": null,
            "align_content": null,
            "visibility": null,
            "align_self": null,
            "height": null,
            "min_height": null,
            "padding": null,
            "grid_auto_rows": null,
            "grid_gap": null,
            "max_width": null,
            "order": null,
            "_view_module_version": "1.2.0",
            "grid_template_areas": null,
            "object_position": null,
            "object_fit": null,
            "grid_auto_columns": null,
            "margin": null,
            "display": null,
            "left": null
          }
        },
        "675b03f065f845f7b3839d259e89472d": {
          "model_module": "@jupyter-widgets/controls",
          "model_name": "HBoxModel",
          "state": {
            "_view_name": "HBoxView",
            "_dom_classes": [],
            "_model_name": "HBoxModel",
            "_view_module": "@jupyter-widgets/controls",
            "_model_module_version": "1.5.0",
            "_view_count": null,
            "_view_module_version": "1.5.0",
            "box_style": "",
            "layout": "IPY_MODEL_725c43d3fb7e4b23b2d3ae4ebcbcafc7",
            "_model_module": "@jupyter-widgets/controls",
            "children": [
              "IPY_MODEL_08b34b6559f3444a8f18efe39fcd4e73",
              "IPY_MODEL_e1d944cf7ebc40fa968de76e773d4745"
            ]
          }
        },
        "725c43d3fb7e4b23b2d3ae4ebcbcafc7": {
          "model_module": "@jupyter-widgets/base",
          "model_name": "LayoutModel",
          "state": {
            "_view_name": "LayoutView",
            "grid_template_rows": null,
            "right": null,
            "justify_content": null,
            "_view_module": "@jupyter-widgets/base",
            "overflow": null,
            "_model_module_version": "1.2.0",
            "_view_count": null,
            "flex_flow": null,
            "width": null,
            "min_width": null,
            "border": null,
            "align_items": null,
            "bottom": null,
            "_model_module": "@jupyter-widgets/base",
            "top": null,
            "grid_column": null,
            "overflow_y": null,
            "overflow_x": null,
            "grid_auto_flow": null,
            "grid_area": null,
            "grid_template_columns": null,
            "flex": null,
            "_model_name": "LayoutModel",
            "justify_items": null,
            "grid_row": null,
            "max_height": null,
            "align_content": null,
            "visibility": null,
            "align_self": null,
            "height": null,
            "min_height": null,
            "padding": null,
            "grid_auto_rows": null,
            "grid_gap": null,
            "max_width": null,
            "order": null,
            "_view_module_version": "1.2.0",
            "grid_template_areas": null,
            "object_position": null,
            "object_fit": null,
            "grid_auto_columns": null,
            "margin": null,
            "display": null,
            "left": null
          }
        },
        "08b34b6559f3444a8f18efe39fcd4e73": {
          "model_module": "@jupyter-widgets/controls",
          "model_name": "FloatProgressModel",
          "state": {
            "_view_name": "ProgressView",
            "style": "IPY_MODEL_78ed84e8f8904eccb3a1321d74673e3c",
            "_dom_classes": [],
            "description": "100%",
            "_model_name": "FloatProgressModel",
            "bar_style": "success",
            "max": 49997,
            "_view_module": "@jupyter-widgets/controls",
            "_model_module_version": "1.5.0",
            "value": 49997,
            "_view_count": null,
            "_view_module_version": "1.5.0",
            "orientation": "horizontal",
            "min": 0,
            "description_tooltip": null,
            "_model_module": "@jupyter-widgets/controls",
            "layout": "IPY_MODEL_a90f0b7cd1c145f89ddbbd8247d86775"
          }
        },
        "e1d944cf7ebc40fa968de76e773d4745": {
          "model_module": "@jupyter-widgets/controls",
          "model_name": "HTMLModel",
          "state": {
            "_view_name": "HTMLView",
            "style": "IPY_MODEL_9ea3f1fe2e85484bb0334c63e61c5bae",
            "_dom_classes": [],
            "description": "",
            "_model_name": "HTMLModel",
            "placeholder": "​",
            "_view_module": "@jupyter-widgets/controls",
            "_model_module_version": "1.5.0",
            "value": " 49997/49997 [00:16&lt;00:00, 2975.75it/s]",
            "_view_count": null,
            "_view_module_version": "1.5.0",
            "description_tooltip": null,
            "_model_module": "@jupyter-widgets/controls",
            "layout": "IPY_MODEL_6cc862f1cfdd45e0a315b4496d73d9f5"
          }
        },
        "78ed84e8f8904eccb3a1321d74673e3c": {
          "model_module": "@jupyter-widgets/controls",
          "model_name": "ProgressStyleModel",
          "state": {
            "_view_name": "StyleView",
            "_model_name": "ProgressStyleModel",
            "description_width": "initial",
            "_view_module": "@jupyter-widgets/base",
            "_model_module_version": "1.5.0",
            "_view_count": null,
            "_view_module_version": "1.2.0",
            "bar_color": null,
            "_model_module": "@jupyter-widgets/controls"
          }
        },
        "a90f0b7cd1c145f89ddbbd8247d86775": {
          "model_module": "@jupyter-widgets/base",
          "model_name": "LayoutModel",
          "state": {
            "_view_name": "LayoutView",
            "grid_template_rows": null,
            "right": null,
            "justify_content": null,
            "_view_module": "@jupyter-widgets/base",
            "overflow": null,
            "_model_module_version": "1.2.0",
            "_view_count": null,
            "flex_flow": null,
            "width": null,
            "min_width": null,
            "border": null,
            "align_items": null,
            "bottom": null,
            "_model_module": "@jupyter-widgets/base",
            "top": null,
            "grid_column": null,
            "overflow_y": null,
            "overflow_x": null,
            "grid_auto_flow": null,
            "grid_area": null,
            "grid_template_columns": null,
            "flex": null,
            "_model_name": "LayoutModel",
            "justify_items": null,
            "grid_row": null,
            "max_height": null,
            "align_content": null,
            "visibility": null,
            "align_self": null,
            "height": null,
            "min_height": null,
            "padding": null,
            "grid_auto_rows": null,
            "grid_gap": null,
            "max_width": null,
            "order": null,
            "_view_module_version": "1.2.0",
            "grid_template_areas": null,
            "object_position": null,
            "object_fit": null,
            "grid_auto_columns": null,
            "margin": null,
            "display": null,
            "left": null
          }
        },
        "9ea3f1fe2e85484bb0334c63e61c5bae": {
          "model_module": "@jupyter-widgets/controls",
          "model_name": "DescriptionStyleModel",
          "state": {
            "_view_name": "StyleView",
            "_model_name": "DescriptionStyleModel",
            "description_width": "",
            "_view_module": "@jupyter-widgets/base",
            "_model_module_version": "1.5.0",
            "_view_count": null,
            "_view_module_version": "1.2.0",
            "_model_module": "@jupyter-widgets/controls"
          }
        },
        "6cc862f1cfdd45e0a315b4496d73d9f5": {
          "model_module": "@jupyter-widgets/base",
          "model_name": "LayoutModel",
          "state": {
            "_view_name": "LayoutView",
            "grid_template_rows": null,
            "right": null,
            "justify_content": null,
            "_view_module": "@jupyter-widgets/base",
            "overflow": null,
            "_model_module_version": "1.2.0",
            "_view_count": null,
            "flex_flow": null,
            "width": null,
            "min_width": null,
            "border": null,
            "align_items": null,
            "bottom": null,
            "_model_module": "@jupyter-widgets/base",
            "top": null,
            "grid_column": null,
            "overflow_y": null,
            "overflow_x": null,
            "grid_auto_flow": null,
            "grid_area": null,
            "grid_template_columns": null,
            "flex": null,
            "_model_name": "LayoutModel",
            "justify_items": null,
            "grid_row": null,
            "max_height": null,
            "align_content": null,
            "visibility": null,
            "align_self": null,
            "height": null,
            "min_height": null,
            "padding": null,
            "grid_auto_rows": null,
            "grid_gap": null,
            "max_width": null,
            "order": null,
            "_view_module_version": "1.2.0",
            "grid_template_areas": null,
            "object_position": null,
            "object_fit": null,
            "grid_auto_columns": null,
            "margin": null,
            "display": null,
            "left": null
          }
        }
      }
    }
  },
  "cells": [
    {
      "cell_type": "markdown",
      "metadata": {
        "id": "6dfJPT-2XMTB"
      },
      "source": [
        "# Install"
      ]
    },
    {
      "cell_type": "code",
      "metadata": {
        "id": "a193aGJWVaqb",
        "colab": {
          "base_uri": "https://localhost:8080/"
        },
        "outputId": "64e94f94-ce70-46f2-87fc-2f1234d3b00b"
      },
      "source": [
        "!pip install sentencepiece"
      ],
      "execution_count": 1,
      "outputs": [
        {
          "output_type": "stream",
          "text": [
            "Collecting sentencepiece\n",
            "\u001b[?25l  Downloading https://files.pythonhosted.org/packages/14/67/e42bd1181472c95c8cda79305df848264f2a7f62740995a46945d9797b67/sentencepiece-0.1.95-cp36-cp36m-manylinux2014_x86_64.whl (1.2MB)\n",
            "\r\u001b[K     |▎                               | 10kB 21.6MB/s eta 0:00:01\r\u001b[K     |▌                               | 20kB 28.0MB/s eta 0:00:01\r\u001b[K     |▉                               | 30kB 28.8MB/s eta 0:00:01\r\u001b[K     |█                               | 40kB 32.2MB/s eta 0:00:01\r\u001b[K     |█▍                              | 51kB 29.2MB/s eta 0:00:01\r\u001b[K     |█▋                              | 61kB 31.8MB/s eta 0:00:01\r\u001b[K     |██                              | 71kB 19.7MB/s eta 0:00:01\r\u001b[K     |██▏                             | 81kB 20.3MB/s eta 0:00:01\r\u001b[K     |██▌                             | 92kB 19.0MB/s eta 0:00:01\r\u001b[K     |██▊                             | 102kB 20.1MB/s eta 0:00:01\r\u001b[K     |███                             | 112kB 20.1MB/s eta 0:00:01\r\u001b[K     |███▎                            | 122kB 20.1MB/s eta 0:00:01\r\u001b[K     |███▌                            | 133kB 20.1MB/s eta 0:00:01\r\u001b[K     |███▉                            | 143kB 20.1MB/s eta 0:00:01\r\u001b[K     |████                            | 153kB 20.1MB/s eta 0:00:01\r\u001b[K     |████▍                           | 163kB 20.1MB/s eta 0:00:01\r\u001b[K     |████▋                           | 174kB 20.1MB/s eta 0:00:01\r\u001b[K     |█████                           | 184kB 20.1MB/s eta 0:00:01\r\u001b[K     |█████▏                          | 194kB 20.1MB/s eta 0:00:01\r\u001b[K     |█████▌                          | 204kB 20.1MB/s eta 0:00:01\r\u001b[K     |█████▊                          | 215kB 20.1MB/s eta 0:00:01\r\u001b[K     |██████                          | 225kB 20.1MB/s eta 0:00:01\r\u001b[K     |██████▎                         | 235kB 20.1MB/s eta 0:00:01\r\u001b[K     |██████▌                         | 245kB 20.1MB/s eta 0:00:01\r\u001b[K     |██████▉                         | 256kB 20.1MB/s eta 0:00:01\r\u001b[K     |███████                         | 266kB 20.1MB/s eta 0:00:01\r\u001b[K     |███████▍                        | 276kB 20.1MB/s eta 0:00:01\r\u001b[K     |███████▋                        | 286kB 20.1MB/s eta 0:00:01\r\u001b[K     |████████                        | 296kB 20.1MB/s eta 0:00:01\r\u001b[K     |████████▏                       | 307kB 20.1MB/s eta 0:00:01\r\u001b[K     |████████▍                       | 317kB 20.1MB/s eta 0:00:01\r\u001b[K     |████████▊                       | 327kB 20.1MB/s eta 0:00:01\r\u001b[K     |█████████                       | 337kB 20.1MB/s eta 0:00:01\r\u001b[K     |█████████▎                      | 348kB 20.1MB/s eta 0:00:01\r\u001b[K     |█████████▌                      | 358kB 20.1MB/s eta 0:00:01\r\u001b[K     |█████████▉                      | 368kB 20.1MB/s eta 0:00:01\r\u001b[K     |██████████                      | 378kB 20.1MB/s eta 0:00:01\r\u001b[K     |██████████▍                     | 389kB 20.1MB/s eta 0:00:01\r\u001b[K     |██████████▋                     | 399kB 20.1MB/s eta 0:00:01\r\u001b[K     |███████████                     | 409kB 20.1MB/s eta 0:00:01\r\u001b[K     |███████████▏                    | 419kB 20.1MB/s eta 0:00:01\r\u001b[K     |███████████▍                    | 430kB 20.1MB/s eta 0:00:01\r\u001b[K     |███████████▊                    | 440kB 20.1MB/s eta 0:00:01\r\u001b[K     |████████████                    | 450kB 20.1MB/s eta 0:00:01\r\u001b[K     |████████████▎                   | 460kB 20.1MB/s eta 0:00:01\r\u001b[K     |████████████▌                   | 471kB 20.1MB/s eta 0:00:01\r\u001b[K     |████████████▉                   | 481kB 20.1MB/s eta 0:00:01\r\u001b[K     |█████████████                   | 491kB 20.1MB/s eta 0:00:01\r\u001b[K     |█████████████▍                  | 501kB 20.1MB/s eta 0:00:01\r\u001b[K     |█████████████▋                  | 512kB 20.1MB/s eta 0:00:01\r\u001b[K     |█████████████▉                  | 522kB 20.1MB/s eta 0:00:01\r\u001b[K     |██████████████▏                 | 532kB 20.1MB/s eta 0:00:01\r\u001b[K     |██████████████▍                 | 542kB 20.1MB/s eta 0:00:01\r\u001b[K     |██████████████▊                 | 552kB 20.1MB/s eta 0:00:01\r\u001b[K     |███████████████                 | 563kB 20.1MB/s eta 0:00:01\r\u001b[K     |███████████████▎                | 573kB 20.1MB/s eta 0:00:01\r\u001b[K     |███████████████▌                | 583kB 20.1MB/s eta 0:00:01\r\u001b[K     |███████████████▉                | 593kB 20.1MB/s eta 0:00:01\r\u001b[K     |████████████████                | 604kB 20.1MB/s eta 0:00:01\r\u001b[K     |████████████████▍               | 614kB 20.1MB/s eta 0:00:01\r\u001b[K     |████████████████▋               | 624kB 20.1MB/s eta 0:00:01\r\u001b[K     |████████████████▉               | 634kB 20.1MB/s eta 0:00:01\r\u001b[K     |█████████████████▏              | 645kB 20.1MB/s eta 0:00:01\r\u001b[K     |█████████████████▍              | 655kB 20.1MB/s eta 0:00:01\r\u001b[K     |█████████████████▊              | 665kB 20.1MB/s eta 0:00:01\r\u001b[K     |██████████████████              | 675kB 20.1MB/s eta 0:00:01\r\u001b[K     |██████████████████▎             | 686kB 20.1MB/s eta 0:00:01\r\u001b[K     |██████████████████▌             | 696kB 20.1MB/s eta 0:00:01\r\u001b[K     |██████████████████▉             | 706kB 20.1MB/s eta 0:00:01\r\u001b[K     |███████████████████             | 716kB 20.1MB/s eta 0:00:01\r\u001b[K     |███████████████████▎            | 727kB 20.1MB/s eta 0:00:01\r\u001b[K     |███████████████████▋            | 737kB 20.1MB/s eta 0:00:01\r\u001b[K     |███████████████████▉            | 747kB 20.1MB/s eta 0:00:01\r\u001b[K     |████████████████████▏           | 757kB 20.1MB/s eta 0:00:01\r\u001b[K     |████████████████████▍           | 768kB 20.1MB/s eta 0:00:01\r\u001b[K     |████████████████████▊           | 778kB 20.1MB/s eta 0:00:01\r\u001b[K     |█████████████████████           | 788kB 20.1MB/s eta 0:00:01\r\u001b[K     |█████████████████████▎          | 798kB 20.1MB/s eta 0:00:01\r\u001b[K     |█████████████████████▌          | 808kB 20.1MB/s eta 0:00:01\r\u001b[K     |█████████████████████▉          | 819kB 20.1MB/s eta 0:00:01\r\u001b[K     |██████████████████████          | 829kB 20.1MB/s eta 0:00:01\r\u001b[K     |██████████████████████▎         | 839kB 20.1MB/s eta 0:00:01\r\u001b[K     |██████████████████████▋         | 849kB 20.1MB/s eta 0:00:01\r\u001b[K     |██████████████████████▉         | 860kB 20.1MB/s eta 0:00:01\r\u001b[K     |███████████████████████▏        | 870kB 20.1MB/s eta 0:00:01\r\u001b[K     |███████████████████████▍        | 880kB 20.1MB/s eta 0:00:01\r\u001b[K     |███████████████████████▊        | 890kB 20.1MB/s eta 0:00:01\r\u001b[K     |████████████████████████        | 901kB 20.1MB/s eta 0:00:01\r\u001b[K     |████████████████████████▎       | 911kB 20.1MB/s eta 0:00:01\r\u001b[K     |████████████████████████▌       | 921kB 20.1MB/s eta 0:00:01\r\u001b[K     |████████████████████████▊       | 931kB 20.1MB/s eta 0:00:01\r\u001b[K     |█████████████████████████       | 942kB 20.1MB/s eta 0:00:01\r\u001b[K     |█████████████████████████▎      | 952kB 20.1MB/s eta 0:00:01\r\u001b[K     |█████████████████████████▋      | 962kB 20.1MB/s eta 0:00:01\r\u001b[K     |█████████████████████████▉      | 972kB 20.1MB/s eta 0:00:01\r\u001b[K     |██████████████████████████▏     | 983kB 20.1MB/s eta 0:00:01\r\u001b[K     |██████████████████████████▍     | 993kB 20.1MB/s eta 0:00:01\r\u001b[K     |██████████████████████████▊     | 1.0MB 20.1MB/s eta 0:00:01\r\u001b[K     |███████████████████████████     | 1.0MB 20.1MB/s eta 0:00:01\r\u001b[K     |███████████████████████████▎    | 1.0MB 20.1MB/s eta 0:00:01\r\u001b[K     |███████████████████████████▌    | 1.0MB 20.1MB/s eta 0:00:01\r\u001b[K     |███████████████████████████▊    | 1.0MB 20.1MB/s eta 0:00:01\r\u001b[K     |████████████████████████████    | 1.1MB 20.1MB/s eta 0:00:01\r\u001b[K     |████████████████████████████▎   | 1.1MB 20.1MB/s eta 0:00:01\r\u001b[K     |████████████████████████████▋   | 1.1MB 20.1MB/s eta 0:00:01\r\u001b[K     |████████████████████████████▉   | 1.1MB 20.1MB/s eta 0:00:01\r\u001b[K     |█████████████████████████████▏  | 1.1MB 20.1MB/s eta 0:00:01\r\u001b[K     |█████████████████████████████▍  | 1.1MB 20.1MB/s eta 0:00:01\r\u001b[K     |█████████████████████████████▊  | 1.1MB 20.1MB/s eta 0:00:01\r\u001b[K     |██████████████████████████████  | 1.1MB 20.1MB/s eta 0:00:01\r\u001b[K     |██████████████████████████████▏ | 1.1MB 20.1MB/s eta 0:00:01\r\u001b[K     |██████████████████████████████▌ | 1.1MB 20.1MB/s eta 0:00:01\r\u001b[K     |██████████████████████████████▊ | 1.2MB 20.1MB/s eta 0:00:01\r\u001b[K     |███████████████████████████████ | 1.2MB 20.1MB/s eta 0:00:01\r\u001b[K     |███████████████████████████████▎| 1.2MB 20.1MB/s eta 0:00:01\r\u001b[K     |███████████████████████████████▋| 1.2MB 20.1MB/s eta 0:00:01\r\u001b[K     |███████████████████████████████▉| 1.2MB 20.1MB/s eta 0:00:01\r\u001b[K     |████████████████████████████████| 1.2MB 20.1MB/s \n",
            "\u001b[?25hInstalling collected packages: sentencepiece\n",
            "Successfully installed sentencepiece-0.1.95\n"
          ],
          "name": "stdout"
        }
      ]
    },
    {
      "cell_type": "markdown",
      "metadata": {
        "id": "JHkHg6XAXoyK"
      },
      "source": [
        "# Evn"
      ]
    },
    {
      "cell_type": "code",
      "metadata": {
        "id": "WkYXFwcBXJDG"
      },
      "source": [
        "import os\n",
        "import random\n",
        "import shutil\n",
        "import json\n",
        "import zipfile\n",
        "import math\n",
        "import copy\n",
        "import collections\n",
        "import re\n",
        "\n",
        "import matplotlib.pyplot as plt\n",
        "import seaborn as sns\n",
        "from wordcloud import WordCloud\n",
        "import pandas as pd\n",
        "import numpy as np\n",
        "import sentencepiece as spm\n",
        "import tensorflow as tf\n",
        "import tensorflow.keras.backend as K\n",
        "\n",
        "from tqdm.notebook import tqdm"
      ],
      "execution_count": 1,
      "outputs": []
    },
    {
      "cell_type": "code",
      "metadata": {
        "id": "nvjyruUlXtlR"
      },
      "source": [
        "# random seed initialize\n",
        "random_seed = 1234\n",
        "random.seed(random_seed)\n",
        "np.random.seed(random_seed)\n",
        "tf.random.set_seed(random_seed)"
      ],
      "execution_count": 2,
      "outputs": []
    },
    {
      "cell_type": "code",
      "metadata": {
        "id": "BC3fXkhdYcYt",
        "colab": {
          "base_uri": "https://localhost:8080/"
        },
        "outputId": "8a3f9115-fc55-4e94-ef64-ed500d5886e9"
      },
      "source": [
        "!nvidia-smi"
      ],
      "execution_count": 3,
      "outputs": [
        {
          "output_type": "stream",
          "text": [
            "Fri Jan 29 12:17:46 2021       \n",
            "+-----------------------------------------------------------------------------+\n",
            "| NVIDIA-SMI 460.32.03    Driver Version: 418.67       CUDA Version: 10.1     |\n",
            "|-------------------------------+----------------------+----------------------+\n",
            "| GPU  Name        Persistence-M| Bus-Id        Disp.A | Volatile Uncorr. ECC |\n",
            "| Fan  Temp  Perf  Pwr:Usage/Cap|         Memory-Usage | GPU-Util  Compute M. |\n",
            "|                               |                      |               MIG M. |\n",
            "|===============================+======================+======================|\n",
            "|   0  Tesla T4            Off  | 00000000:00:04.0 Off |                    0 |\n",
            "| N/A   47C    P8    11W /  70W |      0MiB / 15079MiB |      0%      Default |\n",
            "|                               |                      |                 ERR! |\n",
            "+-------------------------------+----------------------+----------------------+\n",
            "                                                                               \n",
            "+-----------------------------------------------------------------------------+\n",
            "| Processes:                                                                  |\n",
            "|  GPU   GI   CI        PID   Type   Process name                  GPU Memory |\n",
            "|        ID   ID                                                   Usage      |\n",
            "|=============================================================================|\n",
            "|  No running processes found                                                 |\n",
            "+-----------------------------------------------------------------------------+\n"
          ],
          "name": "stdout"
        }
      ]
    },
    {
      "cell_type": "code",
      "metadata": {
        "id": "xVRdxYReYeQj",
        "colab": {
          "base_uri": "https://localhost:8080/"
        },
        "outputId": "0ba16bfd-196f-446a-d769-0b4602e415cf"
      },
      "source": [
        "# google drive mount\n",
        "from google.colab import drive\n",
        "drive.mount('/content/drive')"
      ],
      "execution_count": 4,
      "outputs": [
        {
          "output_type": "stream",
          "text": [
            "Mounted at /content/drive\n"
          ],
          "name": "stdout"
        }
      ]
    },
    {
      "cell_type": "code",
      "metadata": {
        "id": "byCIiLJBbFHh",
        "colab": {
          "base_uri": "https://localhost:8080/"
        },
        "outputId": "9e3c74bc-bab1-43b2-8e8a-279c81c17719"
      },
      "source": [
        "# data dir\n",
        "data_dir = '/content/drive/MyDrive/자연어처리(NLP)/data'\n",
        "os.listdir(data_dir)"
      ],
      "execution_count": 5,
      "outputs": [
        {
          "output_type": "execute_result",
          "data": {
            "text/plain": [
              "['kowiki', 'ko_32000.model', 'ko_32000.vocab', '.ipynb_checkpoints', 'nsmc']"
            ]
          },
          "metadata": {
            "tags": []
          },
          "execution_count": 5
        }
      ]
    },
    {
      "cell_type": "code",
      "metadata": {
        "colab": {
          "base_uri": "https://localhost:8080/"
        },
        "id": "_Ru56YS3-SME",
        "outputId": "dc5ff398-552d-4f3f-ee37-01e0f7b54d77"
      },
      "source": [
        "# nsmc dir\n",
        "nsmc_dir = os.path.join(data_dir, 'nsmc')\n",
        "if not os.path.exists(nsmc_dir):\n",
        "    os.makedirs(nsmc_dir)\n",
        "os.listdir(nsmc_dir)"
      ],
      "execution_count": 6,
      "outputs": [
        {
          "output_type": "execute_result",
          "data": {
            "text/plain": [
              "['ratings_train.txt', 'ratings_test.txt', 'stub.csv', 'stub.hdf5']"
            ]
          },
          "metadata": {
            "tags": []
          },
          "execution_count": 6
        }
      ]
    },
    {
      "cell_type": "markdown",
      "metadata": {
        "id": "XwriCkq_R1Lc"
      },
      "source": [
        "# Vocabulary & config"
      ]
    },
    {
      "cell_type": "code",
      "metadata": {
        "id": "2H0BLydCb7lg",
        "colab": {
          "base_uri": "https://localhost:8080/"
        },
        "outputId": "5dc129c5-ec3c-470f-b5ab-ea0669e83847"
      },
      "source": [
        "# vocab loading\n",
        "vocab = spm.SentencePieceProcessor()\n",
        "vocab.load(os.path.join(data_dir, 'ko_32000.model'))"
      ],
      "execution_count": 7,
      "outputs": [
        {
          "output_type": "execute_result",
          "data": {
            "text/plain": [
              "True"
            ]
          },
          "metadata": {
            "tags": []
          },
          "execution_count": 7
        }
      ]
    },
    {
      "cell_type": "code",
      "metadata": {
        "id": "0ETZ19flTRmt"
      },
      "source": [
        "n_vocab = len(vocab)  # number of vocabulary\n",
        "n_seq = 47  # number of sequence\n",
        "d_model = 256  # dimension of model\n",
        "n_out = 2  # number of output class"
      ],
      "execution_count": 8,
      "outputs": []
    },
    {
      "cell_type": "markdown",
      "metadata": {
        "id": "3myBX8hNEH1u"
      },
      "source": [
        "# 모델링"
      ]
    },
    {
      "cell_type": "code",
      "metadata": {
        "id": "SobekkcjEX_P"
      },
      "source": [
        "def build_model(n_vocab, d_model, n_seq, n_out):\n",
        "    \"\"\"\n",
        "    문장의 감정분류 모델\n",
        "    :param n_vocab: vocabulary 단어 수\n",
        "    :param d_model: 단어를 의미하는 벡터의 차원 수\n",
        "    :param n_seq: 문장길이 (단어 수)\n",
        "    :param n_out: 예측할 class 개수\n",
        "    \"\"\"\n",
        "    inputs = tf.keras.layers.Input((n_seq,))  # (bs, n_seq)\n",
        "    # 입력 단어를 vector로 변환\n",
        "    embedding = tf.keras.layers.Embedding(n_vocab, d_model)\n",
        "    hidden = embedding(inputs)  # (bs, n_seq, d_model)\n",
        "    ################################\n",
        "    # RNN / CNN 등을 추가해 보세요.\n",
        "\n",
        "    conv_1 = tf.keras.layers.Conv1D(filters=128, kernel_size=3, padding='causal')\n",
        "    hidden = conv_1(hidden)\n",
        "    conv_2 = tf.keras.layers.Conv1D(filters=64, kernel_size=3, padding='valid')\n",
        "    hidden = conv_2(hidden)\n",
        "    conv_3 = tf.keras.layers.Conv1D(filters=32, kernel_size=3, padding='same')\n",
        "    hidden = conv_3(hidden)\n",
        "    conv_4 = tf.keras.layers.Conv1D(filters=16, kernel_size=3, padding='valid', dilation_rate=2)\n",
        "    hidden = conv_4(hidden)\n",
        "    conv_4 = tf.keras.layers.Conv1D(filters=8, kernel_size=3, padding='valid', dilation_rate=2)\n",
        "    hidden = conv_4(hidden)\n",
        "\n",
        "\n",
        "    ################################\n",
        "    # 각 단어 벡터의 최대값 기준으로 벡터를 더해서 차원을 줄여줌 (문장 vector 생성)\n",
        "    pool = tf.keras.layers.GlobalMaxPool1D()\n",
        "    hidden_pool = pool(hidden)  # (bs, d_model)\n",
        "    # 문장 vector를 이용해서 긍정(1), 부정(0) 확률값 예측\n",
        "    linear = tf.keras.layers.Dense(2, activation=tf.nn.softmax)\n",
        "    outputs = linear(hidden_pool)  # (bs, n_out)\n",
        "    # 학습할 모델 선언\n",
        "    model = tf.keras.Model(inputs=inputs, outputs=outputs)\n",
        "    return model"
      ],
      "execution_count": 19,
      "outputs": []
    },
    {
      "cell_type": "markdown",
      "metadata": {
        "id": "yOqjtjEtgG_i"
      },
      "source": [
        "# All Data Project"
      ]
    },
    {
      "cell_type": "markdown",
      "metadata": {
        "id": "RZq-UvbOgG_j"
      },
      "source": [
        "## Data\n"
      ]
    },
    {
      "cell_type": "code",
      "metadata": {
        "id": "62llcRx9gG_j",
        "colab": {
          "base_uri": "https://localhost:8080/",
          "height": 419
        },
        "outputId": "578dcdbb-3bcf-4fd2-cd22-24de1abc13ce"
      },
      "source": [
        "# train data load\n",
        "df_train = pd.read_csv(os.path.join(nsmc_dir, 'ratings_train.txt'), delimiter='\\t')\n",
        "df_train"
      ],
      "execution_count": 11,
      "outputs": [
        {
          "output_type": "execute_result",
          "data": {
            "text/html": [
              "<div>\n",
              "<style scoped>\n",
              "    .dataframe tbody tr th:only-of-type {\n",
              "        vertical-align: middle;\n",
              "    }\n",
              "\n",
              "    .dataframe tbody tr th {\n",
              "        vertical-align: top;\n",
              "    }\n",
              "\n",
              "    .dataframe thead th {\n",
              "        text-align: right;\n",
              "    }\n",
              "</style>\n",
              "<table border=\"1\" class=\"dataframe\">\n",
              "  <thead>\n",
              "    <tr style=\"text-align: right;\">\n",
              "      <th></th>\n",
              "      <th>id</th>\n",
              "      <th>document</th>\n",
              "      <th>label</th>\n",
              "    </tr>\n",
              "  </thead>\n",
              "  <tbody>\n",
              "    <tr>\n",
              "      <th>0</th>\n",
              "      <td>9976970</td>\n",
              "      <td>아 더빙.. 진짜 짜증나네요 목소리</td>\n",
              "      <td>0</td>\n",
              "    </tr>\n",
              "    <tr>\n",
              "      <th>1</th>\n",
              "      <td>3819312</td>\n",
              "      <td>흠...포스터보고 초딩영화줄....오버연기조차 가볍지 않구나</td>\n",
              "      <td>1</td>\n",
              "    </tr>\n",
              "    <tr>\n",
              "      <th>2</th>\n",
              "      <td>10265843</td>\n",
              "      <td>너무재밓었다그래서보는것을추천한다</td>\n",
              "      <td>0</td>\n",
              "    </tr>\n",
              "    <tr>\n",
              "      <th>3</th>\n",
              "      <td>9045019</td>\n",
              "      <td>교도소 이야기구먼 ..솔직히 재미는 없다..평점 조정</td>\n",
              "      <td>0</td>\n",
              "    </tr>\n",
              "    <tr>\n",
              "      <th>4</th>\n",
              "      <td>6483659</td>\n",
              "      <td>사이몬페그의 익살스런 연기가 돋보였던 영화!스파이더맨에서 늙어보이기만 했던 커스틴 ...</td>\n",
              "      <td>1</td>\n",
              "    </tr>\n",
              "    <tr>\n",
              "      <th>...</th>\n",
              "      <td>...</td>\n",
              "      <td>...</td>\n",
              "      <td>...</td>\n",
              "    </tr>\n",
              "    <tr>\n",
              "      <th>149995</th>\n",
              "      <td>6222902</td>\n",
              "      <td>인간이 문제지.. 소는 뭔죄인가..</td>\n",
              "      <td>0</td>\n",
              "    </tr>\n",
              "    <tr>\n",
              "      <th>149996</th>\n",
              "      <td>8549745</td>\n",
              "      <td>평점이 너무 낮아서...</td>\n",
              "      <td>1</td>\n",
              "    </tr>\n",
              "    <tr>\n",
              "      <th>149997</th>\n",
              "      <td>9311800</td>\n",
              "      <td>이게 뭐요? 한국인은 거들먹거리고 필리핀 혼혈은 착하다?</td>\n",
              "      <td>0</td>\n",
              "    </tr>\n",
              "    <tr>\n",
              "      <th>149998</th>\n",
              "      <td>2376369</td>\n",
              "      <td>청춘 영화의 최고봉.방황과 우울했던 날들의 자화상</td>\n",
              "      <td>1</td>\n",
              "    </tr>\n",
              "    <tr>\n",
              "      <th>149999</th>\n",
              "      <td>9619869</td>\n",
              "      <td>한국 영화 최초로 수간하는 내용이 담긴 영화</td>\n",
              "      <td>0</td>\n",
              "    </tr>\n",
              "  </tbody>\n",
              "</table>\n",
              "<p>150000 rows × 3 columns</p>\n",
              "</div>"
            ],
            "text/plain": [
              "              id                                           document  label\n",
              "0        9976970                                아 더빙.. 진짜 짜증나네요 목소리      0\n",
              "1        3819312                  흠...포스터보고 초딩영화줄....오버연기조차 가볍지 않구나      1\n",
              "2       10265843                                  너무재밓었다그래서보는것을추천한다      0\n",
              "3        9045019                      교도소 이야기구먼 ..솔직히 재미는 없다..평점 조정      0\n",
              "4        6483659  사이몬페그의 익살스런 연기가 돋보였던 영화!스파이더맨에서 늙어보이기만 했던 커스틴 ...      1\n",
              "...          ...                                                ...    ...\n",
              "149995   6222902                                인간이 문제지.. 소는 뭔죄인가..      0\n",
              "149996   8549745                                      평점이 너무 낮아서...      1\n",
              "149997   9311800                    이게 뭐요? 한국인은 거들먹거리고 필리핀 혼혈은 착하다?      0\n",
              "149998   2376369                        청춘 영화의 최고봉.방황과 우울했던 날들의 자화상      1\n",
              "149999   9619869                           한국 영화 최초로 수간하는 내용이 담긴 영화      0\n",
              "\n",
              "[150000 rows x 3 columns]"
            ]
          },
          "metadata": {
            "tags": []
          },
          "execution_count": 11
        }
      ]
    },
    {
      "cell_type": "code",
      "metadata": {
        "id": "UnjJp4r4gG_k",
        "colab": {
          "base_uri": "https://localhost:8080/",
          "height": 419
        },
        "outputId": "48b351c1-ed9b-4e37-c654-2dc365fca9ec"
      },
      "source": [
        "# train null 데이터 제거\n",
        "df_train = df_train.dropna()\n",
        "df_train"
      ],
      "execution_count": 12,
      "outputs": [
        {
          "output_type": "execute_result",
          "data": {
            "text/html": [
              "<div>\n",
              "<style scoped>\n",
              "    .dataframe tbody tr th:only-of-type {\n",
              "        vertical-align: middle;\n",
              "    }\n",
              "\n",
              "    .dataframe tbody tr th {\n",
              "        vertical-align: top;\n",
              "    }\n",
              "\n",
              "    .dataframe thead th {\n",
              "        text-align: right;\n",
              "    }\n",
              "</style>\n",
              "<table border=\"1\" class=\"dataframe\">\n",
              "  <thead>\n",
              "    <tr style=\"text-align: right;\">\n",
              "      <th></th>\n",
              "      <th>id</th>\n",
              "      <th>document</th>\n",
              "      <th>label</th>\n",
              "    </tr>\n",
              "  </thead>\n",
              "  <tbody>\n",
              "    <tr>\n",
              "      <th>0</th>\n",
              "      <td>9976970</td>\n",
              "      <td>아 더빙.. 진짜 짜증나네요 목소리</td>\n",
              "      <td>0</td>\n",
              "    </tr>\n",
              "    <tr>\n",
              "      <th>1</th>\n",
              "      <td>3819312</td>\n",
              "      <td>흠...포스터보고 초딩영화줄....오버연기조차 가볍지 않구나</td>\n",
              "      <td>1</td>\n",
              "    </tr>\n",
              "    <tr>\n",
              "      <th>2</th>\n",
              "      <td>10265843</td>\n",
              "      <td>너무재밓었다그래서보는것을추천한다</td>\n",
              "      <td>0</td>\n",
              "    </tr>\n",
              "    <tr>\n",
              "      <th>3</th>\n",
              "      <td>9045019</td>\n",
              "      <td>교도소 이야기구먼 ..솔직히 재미는 없다..평점 조정</td>\n",
              "      <td>0</td>\n",
              "    </tr>\n",
              "    <tr>\n",
              "      <th>4</th>\n",
              "      <td>6483659</td>\n",
              "      <td>사이몬페그의 익살스런 연기가 돋보였던 영화!스파이더맨에서 늙어보이기만 했던 커스틴 ...</td>\n",
              "      <td>1</td>\n",
              "    </tr>\n",
              "    <tr>\n",
              "      <th>...</th>\n",
              "      <td>...</td>\n",
              "      <td>...</td>\n",
              "      <td>...</td>\n",
              "    </tr>\n",
              "    <tr>\n",
              "      <th>149995</th>\n",
              "      <td>6222902</td>\n",
              "      <td>인간이 문제지.. 소는 뭔죄인가..</td>\n",
              "      <td>0</td>\n",
              "    </tr>\n",
              "    <tr>\n",
              "      <th>149996</th>\n",
              "      <td>8549745</td>\n",
              "      <td>평점이 너무 낮아서...</td>\n",
              "      <td>1</td>\n",
              "    </tr>\n",
              "    <tr>\n",
              "      <th>149997</th>\n",
              "      <td>9311800</td>\n",
              "      <td>이게 뭐요? 한국인은 거들먹거리고 필리핀 혼혈은 착하다?</td>\n",
              "      <td>0</td>\n",
              "    </tr>\n",
              "    <tr>\n",
              "      <th>149998</th>\n",
              "      <td>2376369</td>\n",
              "      <td>청춘 영화의 최고봉.방황과 우울했던 날들의 자화상</td>\n",
              "      <td>1</td>\n",
              "    </tr>\n",
              "    <tr>\n",
              "      <th>149999</th>\n",
              "      <td>9619869</td>\n",
              "      <td>한국 영화 최초로 수간하는 내용이 담긴 영화</td>\n",
              "      <td>0</td>\n",
              "    </tr>\n",
              "  </tbody>\n",
              "</table>\n",
              "<p>149995 rows × 3 columns</p>\n",
              "</div>"
            ],
            "text/plain": [
              "              id                                           document  label\n",
              "0        9976970                                아 더빙.. 진짜 짜증나네요 목소리      0\n",
              "1        3819312                  흠...포스터보고 초딩영화줄....오버연기조차 가볍지 않구나      1\n",
              "2       10265843                                  너무재밓었다그래서보는것을추천한다      0\n",
              "3        9045019                      교도소 이야기구먼 ..솔직히 재미는 없다..평점 조정      0\n",
              "4        6483659  사이몬페그의 익살스런 연기가 돋보였던 영화!스파이더맨에서 늙어보이기만 했던 커스틴 ...      1\n",
              "...          ...                                                ...    ...\n",
              "149995   6222902                                인간이 문제지.. 소는 뭔죄인가..      0\n",
              "149996   8549745                                      평점이 너무 낮아서...      1\n",
              "149997   9311800                    이게 뭐요? 한국인은 거들먹거리고 필리핀 혼혈은 착하다?      0\n",
              "149998   2376369                        청춘 영화의 최고봉.방황과 우울했던 날들의 자화상      1\n",
              "149999   9619869                           한국 영화 최초로 수간하는 내용이 담긴 영화      0\n",
              "\n",
              "[149995 rows x 3 columns]"
            ]
          },
          "metadata": {
            "tags": []
          },
          "execution_count": 12
        }
      ]
    },
    {
      "cell_type": "code",
      "metadata": {
        "id": "9Xq3hIWugG_k",
        "colab": {
          "base_uri": "https://localhost:8080/",
          "height": 419
        },
        "outputId": "0e6ee7b8-9f62-4ca9-cb1c-517da0d8666b"
      },
      "source": [
        "# train data load\n",
        "df_test = pd.read_csv(os.path.join(nsmc_dir, 'ratings_test.txt'), delimiter='\\t')\n",
        "df_test"
      ],
      "execution_count": 13,
      "outputs": [
        {
          "output_type": "execute_result",
          "data": {
            "text/html": [
              "<div>\n",
              "<style scoped>\n",
              "    .dataframe tbody tr th:only-of-type {\n",
              "        vertical-align: middle;\n",
              "    }\n",
              "\n",
              "    .dataframe tbody tr th {\n",
              "        vertical-align: top;\n",
              "    }\n",
              "\n",
              "    .dataframe thead th {\n",
              "        text-align: right;\n",
              "    }\n",
              "</style>\n",
              "<table border=\"1\" class=\"dataframe\">\n",
              "  <thead>\n",
              "    <tr style=\"text-align: right;\">\n",
              "      <th></th>\n",
              "      <th>id</th>\n",
              "      <th>document</th>\n",
              "      <th>label</th>\n",
              "    </tr>\n",
              "  </thead>\n",
              "  <tbody>\n",
              "    <tr>\n",
              "      <th>0</th>\n",
              "      <td>6270596</td>\n",
              "      <td>굳 ㅋ</td>\n",
              "      <td>1</td>\n",
              "    </tr>\n",
              "    <tr>\n",
              "      <th>1</th>\n",
              "      <td>9274899</td>\n",
              "      <td>GDNTOPCLASSINTHECLUB</td>\n",
              "      <td>0</td>\n",
              "    </tr>\n",
              "    <tr>\n",
              "      <th>2</th>\n",
              "      <td>8544678</td>\n",
              "      <td>뭐야 이 평점들은.... 나쁘진 않지만 10점 짜리는 더더욱 아니잖아</td>\n",
              "      <td>0</td>\n",
              "    </tr>\n",
              "    <tr>\n",
              "      <th>3</th>\n",
              "      <td>6825595</td>\n",
              "      <td>지루하지는 않은데 완전 막장임... 돈주고 보기에는....</td>\n",
              "      <td>0</td>\n",
              "    </tr>\n",
              "    <tr>\n",
              "      <th>4</th>\n",
              "      <td>6723715</td>\n",
              "      <td>3D만 아니었어도 별 다섯 개 줬을텐데.. 왜 3D로 나와서 제 심기를 불편하게 하죠??</td>\n",
              "      <td>0</td>\n",
              "    </tr>\n",
              "    <tr>\n",
              "      <th>...</th>\n",
              "      <td>...</td>\n",
              "      <td>...</td>\n",
              "      <td>...</td>\n",
              "    </tr>\n",
              "    <tr>\n",
              "      <th>49995</th>\n",
              "      <td>4608761</td>\n",
              "      <td>오랜만에 평점 로긴했네ㅋㅋ 킹왕짱 쌈뽕한 영화를 만났습니다 강렬하게 육쾌함</td>\n",
              "      <td>1</td>\n",
              "    </tr>\n",
              "    <tr>\n",
              "      <th>49996</th>\n",
              "      <td>5308387</td>\n",
              "      <td>의지 박약들이나 하는거다 탈영은 일단 주인공 김대희 닮았고 이등병 찐따 OOOO</td>\n",
              "      <td>0</td>\n",
              "    </tr>\n",
              "    <tr>\n",
              "      <th>49997</th>\n",
              "      <td>9072549</td>\n",
              "      <td>그림도 좋고 완성도도 높았지만... 보는 내내 불안하게 만든다</td>\n",
              "      <td>0</td>\n",
              "    </tr>\n",
              "    <tr>\n",
              "      <th>49998</th>\n",
              "      <td>5802125</td>\n",
              "      <td>절대 봐서는 안 될 영화.. 재미도 없고 기분만 잡치고.. 한 세트장에서 다 해먹네</td>\n",
              "      <td>0</td>\n",
              "    </tr>\n",
              "    <tr>\n",
              "      <th>49999</th>\n",
              "      <td>6070594</td>\n",
              "      <td>마무리는 또 왜이래</td>\n",
              "      <td>0</td>\n",
              "    </tr>\n",
              "  </tbody>\n",
              "</table>\n",
              "<p>50000 rows × 3 columns</p>\n",
              "</div>"
            ],
            "text/plain": [
              "            id                                           document  label\n",
              "0      6270596                                                굳 ㅋ      1\n",
              "1      9274899                               GDNTOPCLASSINTHECLUB      0\n",
              "2      8544678             뭐야 이 평점들은.... 나쁘진 않지만 10점 짜리는 더더욱 아니잖아      0\n",
              "3      6825595                   지루하지는 않은데 완전 막장임... 돈주고 보기에는....      0\n",
              "4      6723715  3D만 아니었어도 별 다섯 개 줬을텐데.. 왜 3D로 나와서 제 심기를 불편하게 하죠??      0\n",
              "...        ...                                                ...    ...\n",
              "49995  4608761          오랜만에 평점 로긴했네ㅋㅋ 킹왕짱 쌈뽕한 영화를 만났습니다 강렬하게 육쾌함      1\n",
              "49996  5308387       의지 박약들이나 하는거다 탈영은 일단 주인공 김대희 닮았고 이등병 찐따 OOOO      0\n",
              "49997  9072549                 그림도 좋고 완성도도 높았지만... 보는 내내 불안하게 만든다      0\n",
              "49998  5802125     절대 봐서는 안 될 영화.. 재미도 없고 기분만 잡치고.. 한 세트장에서 다 해먹네      0\n",
              "49999  6070594                                         마무리는 또 왜이래      0\n",
              "\n",
              "[50000 rows x 3 columns]"
            ]
          },
          "metadata": {
            "tags": []
          },
          "execution_count": 13
        }
      ]
    },
    {
      "cell_type": "code",
      "metadata": {
        "id": "nzPZVnEBgG_k",
        "colab": {
          "base_uri": "https://localhost:8080/",
          "height": 419
        },
        "outputId": "39f5557a-7a40-4aa4-fa40-49cd3bb92f3d"
      },
      "source": [
        "# train null 데이터 제거\n",
        "df_test = df_test.dropna()\n",
        "df_test"
      ],
      "execution_count": 14,
      "outputs": [
        {
          "output_type": "execute_result",
          "data": {
            "text/html": [
              "<div>\n",
              "<style scoped>\n",
              "    .dataframe tbody tr th:only-of-type {\n",
              "        vertical-align: middle;\n",
              "    }\n",
              "\n",
              "    .dataframe tbody tr th {\n",
              "        vertical-align: top;\n",
              "    }\n",
              "\n",
              "    .dataframe thead th {\n",
              "        text-align: right;\n",
              "    }\n",
              "</style>\n",
              "<table border=\"1\" class=\"dataframe\">\n",
              "  <thead>\n",
              "    <tr style=\"text-align: right;\">\n",
              "      <th></th>\n",
              "      <th>id</th>\n",
              "      <th>document</th>\n",
              "      <th>label</th>\n",
              "    </tr>\n",
              "  </thead>\n",
              "  <tbody>\n",
              "    <tr>\n",
              "      <th>0</th>\n",
              "      <td>6270596</td>\n",
              "      <td>굳 ㅋ</td>\n",
              "      <td>1</td>\n",
              "    </tr>\n",
              "    <tr>\n",
              "      <th>1</th>\n",
              "      <td>9274899</td>\n",
              "      <td>GDNTOPCLASSINTHECLUB</td>\n",
              "      <td>0</td>\n",
              "    </tr>\n",
              "    <tr>\n",
              "      <th>2</th>\n",
              "      <td>8544678</td>\n",
              "      <td>뭐야 이 평점들은.... 나쁘진 않지만 10점 짜리는 더더욱 아니잖아</td>\n",
              "      <td>0</td>\n",
              "    </tr>\n",
              "    <tr>\n",
              "      <th>3</th>\n",
              "      <td>6825595</td>\n",
              "      <td>지루하지는 않은데 완전 막장임... 돈주고 보기에는....</td>\n",
              "      <td>0</td>\n",
              "    </tr>\n",
              "    <tr>\n",
              "      <th>4</th>\n",
              "      <td>6723715</td>\n",
              "      <td>3D만 아니었어도 별 다섯 개 줬을텐데.. 왜 3D로 나와서 제 심기를 불편하게 하죠??</td>\n",
              "      <td>0</td>\n",
              "    </tr>\n",
              "    <tr>\n",
              "      <th>...</th>\n",
              "      <td>...</td>\n",
              "      <td>...</td>\n",
              "      <td>...</td>\n",
              "    </tr>\n",
              "    <tr>\n",
              "      <th>49995</th>\n",
              "      <td>4608761</td>\n",
              "      <td>오랜만에 평점 로긴했네ㅋㅋ 킹왕짱 쌈뽕한 영화를 만났습니다 강렬하게 육쾌함</td>\n",
              "      <td>1</td>\n",
              "    </tr>\n",
              "    <tr>\n",
              "      <th>49996</th>\n",
              "      <td>5308387</td>\n",
              "      <td>의지 박약들이나 하는거다 탈영은 일단 주인공 김대희 닮았고 이등병 찐따 OOOO</td>\n",
              "      <td>0</td>\n",
              "    </tr>\n",
              "    <tr>\n",
              "      <th>49997</th>\n",
              "      <td>9072549</td>\n",
              "      <td>그림도 좋고 완성도도 높았지만... 보는 내내 불안하게 만든다</td>\n",
              "      <td>0</td>\n",
              "    </tr>\n",
              "    <tr>\n",
              "      <th>49998</th>\n",
              "      <td>5802125</td>\n",
              "      <td>절대 봐서는 안 될 영화.. 재미도 없고 기분만 잡치고.. 한 세트장에서 다 해먹네</td>\n",
              "      <td>0</td>\n",
              "    </tr>\n",
              "    <tr>\n",
              "      <th>49999</th>\n",
              "      <td>6070594</td>\n",
              "      <td>마무리는 또 왜이래</td>\n",
              "      <td>0</td>\n",
              "    </tr>\n",
              "  </tbody>\n",
              "</table>\n",
              "<p>49997 rows × 3 columns</p>\n",
              "</div>"
            ],
            "text/plain": [
              "            id                                           document  label\n",
              "0      6270596                                                굳 ㅋ      1\n",
              "1      9274899                               GDNTOPCLASSINTHECLUB      0\n",
              "2      8544678             뭐야 이 평점들은.... 나쁘진 않지만 10점 짜리는 더더욱 아니잖아      0\n",
              "3      6825595                   지루하지는 않은데 완전 막장임... 돈주고 보기에는....      0\n",
              "4      6723715  3D만 아니었어도 별 다섯 개 줬을텐데.. 왜 3D로 나와서 제 심기를 불편하게 하죠??      0\n",
              "...        ...                                                ...    ...\n",
              "49995  4608761          오랜만에 평점 로긴했네ㅋㅋ 킹왕짱 쌈뽕한 영화를 만났습니다 강렬하게 육쾌함      1\n",
              "49996  5308387       의지 박약들이나 하는거다 탈영은 일단 주인공 김대희 닮았고 이등병 찐따 OOOO      0\n",
              "49997  9072549                 그림도 좋고 완성도도 높았지만... 보는 내내 불안하게 만든다      0\n",
              "49998  5802125     절대 봐서는 안 될 영화.. 재미도 없고 기분만 잡치고.. 한 세트장에서 다 해먹네      0\n",
              "49999  6070594                                         마무리는 또 왜이래      0\n",
              "\n",
              "[49997 rows x 3 columns]"
            ]
          },
          "metadata": {
            "tags": []
          },
          "execution_count": 14
        }
      ]
    },
    {
      "cell_type": "code",
      "metadata": {
        "id": "np9hbxHIgG_l"
      },
      "source": [
        "def load_data(df, n_seq):\n",
        "    \"\"\"\n",
        "    NSMC 학습 데이터 생성\n",
        "    :param df: data frame\n",
        "    :param n_seq: number of sequence\n",
        "    :return inputs: input data\n",
        "    :return labels: label data\n",
        "    \"\"\"\n",
        "    inputs = np.zeros((len(df), n_seq)).astype(np.int32)\n",
        "    labels = np.zeros((len(df),))\n",
        "    index = 0\n",
        "    for i, row in tqdm(df.iterrows(), total=len(df)):\n",
        "        # tokens 저장\n",
        "        # print()\n",
        "        label = row['label']\n",
        "        document = row['document']\n",
        "        # print(label, document)\n",
        "        tokens = vocab.encode_as_pieces(document)\n",
        "        # print(len(tokens), ':', tokens)\n",
        "        token_ids = vocab.encode_as_ids(document)\n",
        "        # print(len(token_ids), ':', token_ids)\n",
        "        token_ids = token_ids[:n_seq]\n",
        "        # print(len(token_ids), ':', token_ids)\n",
        "        token_ids += [0] * (n_seq - len(token_ids))\n",
        "        # print(len(token_ids), ':', token_ids)\n",
        "\n",
        "        labels[index] = label\n",
        "        inputs[index] = token_ids\n",
        "        index += 1\n",
        "    return inputs, labels"
      ],
      "execution_count": 20,
      "outputs": []
    },
    {
      "cell_type": "code",
      "metadata": {
        "id": "RR4l0G_OgG_l",
        "colab": {
          "base_uri": "https://localhost:8080/",
          "height": 211,
          "referenced_widgets": [
            "7381352b9a1047e59c52e6ee783e42ea",
            "48037f45d97c4bd498b482b60b30ba2e",
            "7a811a0d8e56417ba0557045b76f9aa2",
            "4e215dabcef045bd993fe2f1bdea7f2c",
            "c62c15a8c46b48e589111d990e30ad56",
            "528d137d9151467aa874c9483a36b9d7",
            "c9d3e7379bec4aa780d1d051c28aedfa",
            "bcfdbebce7cd4b3ca38997169fa95dcf"
          ]
        },
        "outputId": "fa3fe05d-b412-4755-e392-4a9e8bf5a385"
      },
      "source": [
        "# train data 생성\n",
        "train_inputs, train_labels = load_data(df_train, n_seq)\n",
        "train_inputs, train_labels"
      ],
      "execution_count": 16,
      "outputs": [
        {
          "output_type": "display_data",
          "data": {
            "application/vnd.jupyter.widget-view+json": {
              "model_id": "7381352b9a1047e59c52e6ee783e42ea",
              "version_minor": 0,
              "version_major": 2
            },
            "text/plain": [
              "HBox(children=(FloatProgress(value=0.0, max=149995.0), HTML(value='')))"
            ]
          },
          "metadata": {
            "tags": []
          }
        },
        {
          "output_type": "stream",
          "text": [
            "\n"
          ],
          "name": "stdout"
        },
        {
          "output_type": "execute_result",
          "data": {
            "text/plain": [
              "(array([[  188, 16337,     7, ...,     0,     0,     0],\n",
              "        [15825,     7,     7, ...,     0,     0,     0],\n",
              "        [ 2329,   349,     1, ...,     0,     0,     0],\n",
              "        ...,\n",
              "        [   29,   128, 19999, ...,     0,     0,     0],\n",
              "        [14943,  7071,   802, ...,     0,     0,     0],\n",
              "        [  253,   321,  1071, ...,     0,     0,     0]], dtype=int32),\n",
              " array([0., 1., 0., ..., 0., 1., 0.]))"
            ]
          },
          "metadata": {
            "tags": []
          },
          "execution_count": 16
        }
      ]
    },
    {
      "cell_type": "code",
      "metadata": {
        "id": "5EI5jjPYgG_m",
        "colab": {
          "base_uri": "https://localhost:8080/",
          "height": 211,
          "referenced_widgets": [
            "675b03f065f845f7b3839d259e89472d",
            "725c43d3fb7e4b23b2d3ae4ebcbcafc7",
            "08b34b6559f3444a8f18efe39fcd4e73",
            "e1d944cf7ebc40fa968de76e773d4745",
            "78ed84e8f8904eccb3a1321d74673e3c",
            "a90f0b7cd1c145f89ddbbd8247d86775",
            "9ea3f1fe2e85484bb0334c63e61c5bae",
            "6cc862f1cfdd45e0a315b4496d73d9f5"
          ]
        },
        "outputId": "a9bc3f49-cded-4f87-f484-570c35d5bec7"
      },
      "source": [
        "# test data 생성\n",
        "test_inputs, test_labels = load_data(df_test, n_seq)\n",
        "test_inputs, test_labels"
      ],
      "execution_count": 17,
      "outputs": [
        {
          "output_type": "display_data",
          "data": {
            "application/vnd.jupyter.widget-view+json": {
              "model_id": "675b03f065f845f7b3839d259e89472d",
              "version_minor": 0,
              "version_major": 2
            },
            "text/plain": [
              "HBox(children=(FloatProgress(value=0.0, max=49997.0), HTML(value='')))"
            ]
          },
          "metadata": {
            "tags": []
          }
        },
        {
          "output_type": "stream",
          "text": [
            "\n"
          ],
          "name": "stdout"
        },
        {
          "output_type": "execute_result",
          "data": {
            "text/plain": [
              "(array([[ 5441,    10, 31026, ...,     0,     0,     0],\n",
              "        [  618,   509,   798, ...,     0,     0,     0],\n",
              "        [19999,   173,    29, ...,     0,     0,     0],\n",
              "        ...,\n",
              "        [ 2087,    32, 22687, ...,     0,     0,     0],\n",
              "        [ 3991, 27855,    11, ...,     0,     0,     0],\n",
              "        [ 4404,    11,   375, ...,     0,     0,     0]], dtype=int32),\n",
              " array([1., 0., 0., ..., 0., 0., 0.]))"
            ]
          },
          "metadata": {
            "tags": []
          },
          "execution_count": 17
        }
      ]
    },
    {
      "cell_type": "markdown",
      "metadata": {
        "id": "QbzBPXwqgG_n"
      },
      "source": [
        "## 학습"
      ]
    },
    {
      "cell_type": "code",
      "metadata": {
        "id": "xtECC96EgG_n",
        "colab": {
          "base_uri": "https://localhost:8080/",
          "height": 976
        },
        "outputId": "82aae0f5-d4f4-42b1-c713-d74b7db407fa"
      },
      "source": [
        "# 모델 생성\n",
        "model = build_model(len(vocab), d_model, n_seq, n_out)\n",
        "# 모델 내용 그래프 출력\n",
        "tf.keras.utils.plot_model(model, 'model.png', show_shapes=True)"
      ],
      "execution_count": 21,
      "outputs": [
        {
          "output_type": "execute_result",
          "data": {
            "image/png": "[encoded data removed]",
            "text/plain": [
              "<IPython.core.display.Image object>"
            ]
          },
          "metadata": {
            "tags": []
          },
          "execution_count": 21
        }
      ]
    },
    {
      "cell_type": "code",
      "metadata": {
        "id": "IsiZts95gG_n"
      },
      "source": [
        "# 모델 loss, optimizer, metric 정의\n",
        "model.compile(loss='sparse_categorical_crossentropy', optimizer='adam', metrics=['accuracy'])"
      ],
      "execution_count": 22,
      "outputs": []
    },
    {
      "cell_type": "code",
      "metadata": {
        "id": "0iFOHw2agG_n"
      },
      "source": [
        "# early stopping\n",
        "early_stopping = tf.keras.callbacks.EarlyStopping(monitor='val_accuracy', patience=5)\n",
        "# save weights callback\n",
        "save_weights = tf.keras.callbacks.ModelCheckpoint(os.path.join(nsmc_dir, 'stub.hdf5'),\n",
        "                                                  monitor='val_accuracy',\n",
        "                                                  verbose=1,\n",
        "                                                  save_best_only=True,\n",
        "                                                  mode=\"max\",\n",
        "                                                  save_freq=\"epoch\",\n",
        "                                                  save_weights_only=True)\n",
        "# csv logger\n",
        "csv_logger = tf.keras.callbacks.CSVLogger(os.path.join(nsmc_dir, 'stub.csv'))"
      ],
      "execution_count": 23,
      "outputs": []
    },
    {
      "cell_type": "code",
      "metadata": {
        "id": "9-ONLlbbgG_o",
        "colab": {
          "base_uri": "https://localhost:8080/"
        },
        "outputId": "ded47bc1-df96-443c-82ea-13b0dcef1a88"
      },
      "source": [
        "# 모델 학습\n",
        "history = model.fit(train_inputs,\n",
        "                    train_labels,\n",
        "                    validation_data=(test_inputs, test_labels),\n",
        "                    epochs=100,\n",
        "                    batch_size=256,\n",
        "                    callbacks=[early_stopping, save_weights, csv_logger])"
      ],
      "execution_count": 24,
      "outputs": [
        {
          "output_type": "stream",
          "text": [
            "Epoch 1/100\n",
            "586/586 [==============================] - 62s 92ms/step - loss: 0.4643 - accuracy: 0.7707 - val_loss: 0.3579 - val_accuracy: 0.8448\n",
            "\n",
            "Epoch 00001: val_accuracy improved from -inf to 0.84477, saving model to /content/drive/MyDrive/자연어처리(NLP)/data/nsmc/stub.hdf5\n",
            "Epoch 2/100\n",
            "586/586 [==============================] - 53s 91ms/step - loss: 0.3024 - accuracy: 0.8752 - val_loss: 0.3571 - val_accuracy: 0.8457\n",
            "\n",
            "Epoch 00002: val_accuracy improved from 0.84477 to 0.84565, saving model to /content/drive/MyDrive/자연어처리(NLP)/data/nsmc/stub.hdf5\n",
            "Epoch 3/100\n",
            "586/586 [==============================] - 52s 89ms/step - loss: 0.2438 - accuracy: 0.9037 - val_loss: 0.3705 - val_accuracy: 0.8459\n",
            "\n",
            "Epoch 00003: val_accuracy improved from 0.84565 to 0.84587, saving model to /content/drive/MyDrive/자연어처리(NLP)/data/nsmc/stub.hdf5\n",
            "Epoch 4/100\n",
            "586/586 [==============================] - 52s 88ms/step - loss: 0.1952 - accuracy: 0.9271 - val_loss: 0.4212 - val_accuracy: 0.8331\n",
            "\n",
            "Epoch 00004: val_accuracy did not improve from 0.84587\n",
            "Epoch 5/100\n",
            "586/586 [==============================] - 52s 89ms/step - loss: 0.1469 - accuracy: 0.9463 - val_loss: 0.4657 - val_accuracy: 0.8357\n",
            "\n",
            "Epoch 00005: val_accuracy did not improve from 0.84587\n",
            "Epoch 6/100\n",
            "586/586 [==============================] - 52s 90ms/step - loss: 0.1175 - accuracy: 0.9589 - val_loss: 0.5470 - val_accuracy: 0.8333\n",
            "\n",
            "Epoch 00006: val_accuracy did not improve from 0.84587\n",
            "Epoch 7/100\n",
            "586/586 [==============================] - 52s 89ms/step - loss: 0.0937 - accuracy: 0.9675 - val_loss: 0.6401 - val_accuracy: 0.8251\n",
            "\n",
            "Epoch 00007: val_accuracy did not improve from 0.84587\n",
            "Epoch 8/100\n",
            "586/586 [==============================] - 52s 89ms/step - loss: 0.0760 - accuracy: 0.9741 - val_loss: 0.6497 - val_accuracy: 0.8233\n",
            "\n",
            "Epoch 00008: val_accuracy did not improve from 0.84587\n"
          ],
          "name": "stdout"
        }
      ]
    },
    {
      "cell_type": "code",
      "metadata": {
        "id": "GOHTftS4gG_o",
        "colab": {
          "base_uri": "https://localhost:8080/",
          "height": 279
        },
        "outputId": "a39e0b26-cecf-4fa7-d80d-fb1ea328d8f9"
      },
      "source": [
        "plt.figure(figsize=(12, 4))\n",
        "\n",
        "plt.subplot(1, 2, 1)\n",
        "plt.plot(history.history['loss'], 'b-', label='loss')\n",
        "plt.plot(history.history['val_loss'], 'r--', label='val_loss')\n",
        "plt.xlabel('Epoch')\n",
        "plt.legend()\n",
        "\n",
        "plt.subplot(1, 2, 2)\n",
        "plt.plot(history.history['accuracy'], 'g-', label='acc')\n",
        "plt.plot(history.history['val_accuracy'], 'k--', label='val_acc')\n",
        "plt.xlabel('Epoch')\n",
        "plt.legend()\n",
        "\n",
        "plt.show()"
      ],
      "execution_count": 25,
      "outputs": [
        {
          "output_type": "display_data",
          "data": {
            "image/png": "[encoded data removed]",
            "text/plain": [
              "<Figure size 864x288 with 2 Axes>"
            ]
          },
          "metadata": {
            "tags": [],
            "needs_background": "light"
          }
        }
      ]
    },
    {
      "cell_type": "markdown",
      "metadata": {
        "id": "fFOkITDzgG_o"
      },
      "source": [
        "## Inference"
      ]
    },
    {
      "cell_type": "code",
      "metadata": {
        "id": "ghiWYAgUgG_o"
      },
      "source": [
        "# 모델 생성\n",
        "model = build_model(n_vocab, d_model, n_seq, n_out)\n",
        "# train weight로 초기화\n",
        "model.load_weights(os.path.join(nsmc_dir, 'stub.hdf5'))"
      ],
      "execution_count": 26,
      "outputs": []
    },
    {
      "cell_type": "code",
      "metadata": {
        "id": "Ws6V1OYgqpRC",
        "colab": {
          "base_uri": "https://localhost:8080/"
        },
        "outputId": "ab17cb65-8d5c-4813-8e1b-4be04af206f7"
      },
      "source": [
        "# 예측\n",
        "logits = model.predict(test_inputs)\n",
        "logits"
      ],
      "execution_count": 27,
      "outputs": [
        {
          "output_type": "execute_result",
          "data": {
            "text/plain": [
              "array([[0.16311239, 0.8368876 ],\n",
              "       [0.14570956, 0.85429037],\n",
              "       [0.01940957, 0.98059046],\n",
              "       ...,\n",
              "       [0.01300861, 0.98699147],\n",
              "       [0.99873   , 0.00126995],\n",
              "       [0.74518037, 0.25481966]], dtype=float32)"
            ]
          },
          "metadata": {
            "tags": []
          },
          "execution_count": 27
        }
      ]
    },
    {
      "cell_type": "code",
      "metadata": {
        "id": "RIacdlGorCBr",
        "colab": {
          "base_uri": "https://localhost:8080/"
        },
        "outputId": "81893ae8-e3d6-4f02-d448-131646726d03"
      },
      "source": [
        "# 확률 최대 값을 예측으로 사용\n",
        "test_preds = np.argmax(logits, axis=-1)\n",
        "test_preds"
      ],
      "execution_count": 28,
      "outputs": [
        {
          "output_type": "execute_result",
          "data": {
            "text/plain": [
              "array([1, 1, 1, ..., 1, 0, 0])"
            ]
          },
          "metadata": {
            "tags": []
          },
          "execution_count": 28
        }
      ]
    },
    {
      "cell_type": "code",
      "metadata": {
        "id": "9D8P5_7mgG_o",
        "colab": {
          "base_uri": "https://localhost:8080/"
        },
        "outputId": "236bcccd-b2a3-4941-87bb-f835f55a373f"
      },
      "source": [
        "confusion_matrix = np.zeros((n_out, n_out)).astype(np.int)\n",
        "for y_true, y_pred in zip(test_labels, test_preds):\n",
        "    confusion_matrix[int(y_true), int(y_pred)] += 1\n",
        "confusion_matrix"
      ],
      "execution_count": 29,
      "outputs": [
        {
          "output_type": "execute_result",
          "data": {
            "text/plain": [
              "array([[21386,  3440],\n",
              "       [ 4266, 20905]])"
            ]
          },
          "metadata": {
            "tags": []
          },
          "execution_count": 29
        }
      ]
    },
    {
      "cell_type": "code",
      "metadata": {
        "id": "zTHIKSwMgG_p",
        "colab": {
          "base_uri": "https://localhost:8080/"
        },
        "outputId": "23859368-7a23-4db2-b29b-291747c18bd4"
      },
      "source": [
        "tp = confusion_matrix[1, 1]\n",
        "tn = confusion_matrix[0, 0]\n",
        "fp = confusion_matrix[0, 1]\n",
        "fn = confusion_matrix[1, 0]\n",
        "\n",
        "accuracy = (tp + tn) / max((tp + tn + fp + fn), 1)\n",
        "print(f'accuracy: {accuracy}')\n",
        "precision = (tp) / max((tp + fp), 1)\n",
        "print(f'precision: {precision}')\n",
        "recall = (tp) / max((tp + fn), 1)\n",
        "print(f'recall: {recall}')\n",
        "f1 = 2 * (precision * recall) / max((precision + recall), 1)\n",
        "print(f'f1: {f1}')"
      ],
      "execution_count": 30,
      "outputs": [
        {
          "output_type": "stream",
          "text": [
            "accuracy: 0.8458707522451347\n",
            "precision: 0.8586978845758882\n",
            "recall: 0.8305192483413452\n",
            "f1: 0.8443735358268034\n"
          ],
          "name": "stdout"
        }
      ]
    },
    {
      "cell_type": "code",
      "metadata": {
        "id": "EEyJ7P4FgG_p"
      },
      "source": [
        "def do_predict(model, n_seq, string):\n",
        "    \"\"\"\n",
        "    입력에 대한 답변 생성하는 함수\n",
        "    :param model: model\n",
        "    :param n_seq: 입력 개수\n",
        "    :param string: 입력 문자열\n",
        "    \"\"\"\n",
        "    # token 생성: <string tokens>, [PAD] tokens\n",
        "    token = vocab.encode_as_ids(string)[:n_seq]\n",
        "    token += [0] * (n_seq - len(token))\n",
        "    token = token[:n_seq]\n",
        "\n",
        "    y_pred = model.predict(np.array([token]))\n",
        "    y_pred_class = K.argmax(y_pred, axis=-1)\n",
        "\n",
        "    return \"긍정\" if y_pred_class[0] == 1 else \"부정\""
      ],
      "execution_count": 31,
      "outputs": []
    },
    {
      "cell_type": "code",
      "metadata": {
        "id": "6AEE86LCgG_p",
        "colab": {
          "base_uri": "https://localhost:8080/"
        },
        "outputId": "813ff040-d25c-45c0-9782-175d8de359ab"
      },
      "source": [
        "while True:\n",
        "    print(\"input > \", end=\"\")\n",
        "    string = str(input())\n",
        "    if len(string) == 0:\n",
        "        break\n",
        "    print(f\"output > {do_predict(model, n_seq, string)}\")"
      ],
      "execution_count": 33,
      "outputs": [
        {
          "output_type": "stream",
          "text": [
            "input > 영화 별로다\n",
            "output > 부정\n",
            "input > 오 이거 재밌네\n",
            "output > 긍정\n",
            "input > 볼만하다\n",
            "output > 긍정\n",
            "input > 괜찮은데?\n",
            "output > 긍정\n",
            "input > 지루했다\n",
            "output > 부정\n",
            "input > \n"
          ],
          "name": "stdout"
        }
      ]
    },
    {
      "cell_type": "code",
      "metadata": {
        "id": "11nAQ3WmrDoK"
      },
      "source": [
        ""
      ],
      "execution_count": null,
      "outputs": []
    }
  ]
}